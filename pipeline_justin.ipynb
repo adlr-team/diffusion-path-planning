{
  "cells": [
    {
      "cell_type": "markdown",
      "metadata": {},
      "source": [
        "## Imports"
      ]
    },
    {
      "cell_type": "code",
      "execution_count": 1,
      "metadata": {
        "colab": {
          "base_uri": "https://localhost:8080/"
        },
        "id": "LRAev-KUifbW",
        "outputId": "f70d8a10-4ddb-4bd6-8f38-cbc841993bb5"
      },
      "outputs": [],
      "source": [
        "%load_ext autoreload\n",
        "%autoreload 2"
      ]
    },
    {
      "cell_type": "code",
      "execution_count": 2,
      "metadata": {
        "id": "APRB2VcQU5C2"
      },
      "outputs": [
        {
          "name": "stdout",
          "output_type": "stream",
          "text": [
            "Paths:(984, 20, 7)\n"
          ]
        }
      ],
      "source": [
        "import gymnasium as gym\n",
        "from diffuser.utils.config import Config, get_params, get_device_settings\n",
        "from justin_arm.training_justin import Justin_Trainer\n",
        "from justin_arm.helper import (\n",
        "    create_state_action_array,\n",
        "    interpolate_trajectories,\n",
        "    condition_start_end_per_trajectory,\n",
        ")\n",
        "from rokin import robots, vis\n",
        "from diffuser.utils.arrays import report_parameters, batchify\n",
        "from diffuser.datasets.sequence import TrajectoryDataset\n",
        "import numpy as np\n",
        "import torch\n",
        "import sys\n",
        "import matplotlib.pyplot as plt\n",
        "from datetime import datetime\n",
        "import wandb\n",
        "from tqdm import tqdm\n",
        "\n",
        "# Render original and diffused trajectories:\n",
        "from justin_arm.visualize import (\n",
        "    plot_trajectory_per_frames,\n",
        "    plot_q_values_per_trajectory,\n",
        "    plot_multiple_trajectories,\n",
        ")\n",
        "from justin_arm.helper import robot_env_dist, analyze_distance\n",
        "from diffuser.utils.arrays import apply_dict, batch_to_device, to_device, to_np\n",
        "\n",
        "import os"
      ]
    },
    {
      "cell_type": "code",
      "execution_count": 3,
      "metadata": {},
      "outputs": [
        {
          "name": "stdout",
          "output_type": "stream",
          "text": [
            "C:\\Users\\Beste Aydemir\\Downloads\\eigen-3.4.0\\eigen-3.4.0\n"
          ]
        }
      ],
      "source": [
        "import os\n",
        "os.environ['EIGEN_INCLUDE_DIR'] = \"C:/Users/Beste Aydemir/Downloads/eigen-3.4.0/eigen-3.4.0\"  # Update this path to where Eigen is located\n",
        "\n",
        "from rokin.code_generation import main\n",
        "\n",
        "# Assuming you want to call get_eigen_include_dir from main.py\n",
        "eigen_include_dir = main.get_eigen_include_dir()\n",
        "print(eigen_include_dir)\n"
      ]
    },
    {
      "cell_type": "markdown",
      "metadata": {
        "id": "88Fd7E-bLXNI"
      },
      "source": [
        "## Parse Arguments and Paramters"
      ]
    },
    {
      "cell_type": "code",
      "execution_count": 3,
      "metadata": {},
      "outputs": [
        {
          "name": "stdout",
          "output_type": "stream",
          "text": [
            "The used device is cpu!\n"
          ]
        },
        {
          "name": "stderr",
          "output_type": "stream",
          "text": [
            "\n",
            "A module that was compiled using NumPy 1.x cannot be run in\n",
            "NumPy 2.0.0 as it may crash. To support both 1.x and 2.x\n",
            "versions of NumPy, modules must be compiled with NumPy 2.0.\n",
            "Some module may need to rebuild instead e.g. with 'pybind11>=2.12'.\n",
            "\n",
            "If you are a user of the module, the easiest solution will be to\n",
            "downgrade to 'numpy<2' or try to upgrade the affected module.\n",
            "We expect that some modules will need time to support NumPy 2.\n",
            "\n",
            "Traceback (most recent call last):  File \"c:\\Users\\Beste Aydemir\\anaconda3\\envs\\rokin_diffuser\\lib\\runpy.py\", line 196, in _run_module_as_main\n",
            "    return _run_code(code, main_globals, None,\n",
            "  File \"c:\\Users\\Beste Aydemir\\anaconda3\\envs\\rokin_diffuser\\lib\\runpy.py\", line 86, in _run_code\n",
            "    exec(code, run_globals)\n",
            "  File \"c:\\Users\\Beste Aydemir\\anaconda3\\envs\\rokin_diffuser\\lib\\site-packages\\ipykernel_launcher.py\", line 18, in <module>\n",
            "    app.launch_new_instance()\n",
            "  File \"c:\\Users\\Beste Aydemir\\anaconda3\\envs\\rokin_diffuser\\lib\\site-packages\\traitlets\\config\\application.py\", line 1075, in launch_instance\n",
            "    app.start()\n",
            "  File \"c:\\Users\\Beste Aydemir\\anaconda3\\envs\\rokin_diffuser\\lib\\site-packages\\ipykernel\\kernelapp.py\", line 739, in start\n",
            "    self.io_loop.start()\n",
            "  File \"c:\\Users\\Beste Aydemir\\anaconda3\\envs\\rokin_diffuser\\lib\\site-packages\\tornado\\platform\\asyncio.py\", line 205, in start\n",
            "    self.asyncio_loop.run_forever()\n",
            "  File \"c:\\Users\\Beste Aydemir\\anaconda3\\envs\\rokin_diffuser\\lib\\asyncio\\base_events.py\", line 603, in run_forever\n",
            "    self._run_once()\n",
            "  File \"c:\\Users\\Beste Aydemir\\anaconda3\\envs\\rokin_diffuser\\lib\\asyncio\\base_events.py\", line 1909, in _run_once\n",
            "    handle._run()\n",
            "  File \"c:\\Users\\Beste Aydemir\\anaconda3\\envs\\rokin_diffuser\\lib\\asyncio\\events.py\", line 80, in _run\n",
            "    self._context.run(self._callback, *self._args)\n",
            "  File \"c:\\Users\\Beste Aydemir\\anaconda3\\envs\\rokin_diffuser\\lib\\site-packages\\ipykernel\\kernelbase.py\", line 545, in dispatch_queue\n",
            "    await self.process_one()\n",
            "  File \"c:\\Users\\Beste Aydemir\\anaconda3\\envs\\rokin_diffuser\\lib\\site-packages\\ipykernel\\kernelbase.py\", line 534, in process_one\n",
            "    await dispatch(*args)\n",
            "  File \"c:\\Users\\Beste Aydemir\\anaconda3\\envs\\rokin_diffuser\\lib\\site-packages\\ipykernel\\kernelbase.py\", line 437, in dispatch_shell\n",
            "    await result\n",
            "  File \"c:\\Users\\Beste Aydemir\\anaconda3\\envs\\rokin_diffuser\\lib\\site-packages\\ipykernel\\ipkernel.py\", line 362, in execute_request\n",
            "    await super().execute_request(stream, ident, parent)\n",
            "  File \"c:\\Users\\Beste Aydemir\\anaconda3\\envs\\rokin_diffuser\\lib\\site-packages\\ipykernel\\kernelbase.py\", line 778, in execute_request\n",
            "    reply_content = await reply_content\n",
            "  File \"c:\\Users\\Beste Aydemir\\anaconda3\\envs\\rokin_diffuser\\lib\\site-packages\\ipykernel\\ipkernel.py\", line 449, in do_execute\n",
            "    res = shell.run_cell(\n",
            "  File \"c:\\Users\\Beste Aydemir\\anaconda3\\envs\\rokin_diffuser\\lib\\site-packages\\ipykernel\\zmqshell.py\", line 549, in run_cell\n",
            "    return super().run_cell(*args, **kwargs)\n",
            "  File \"c:\\Users\\Beste Aydemir\\anaconda3\\envs\\rokin_diffuser\\lib\\site-packages\\IPython\\core\\interactiveshell.py\", line 3075, in run_cell\n",
            "    result = self._run_cell(\n",
            "  File \"c:\\Users\\Beste Aydemir\\anaconda3\\envs\\rokin_diffuser\\lib\\site-packages\\IPython\\core\\interactiveshell.py\", line 3130, in _run_cell\n",
            "    result = runner(coro)\n",
            "  File \"c:\\Users\\Beste Aydemir\\anaconda3\\envs\\rokin_diffuser\\lib\\site-packages\\IPython\\core\\async_helpers.py\", line 128, in _pseudo_sync_runner\n",
            "    coro.send(None)\n",
            "  File \"c:\\Users\\Beste Aydemir\\anaconda3\\envs\\rokin_diffuser\\lib\\site-packages\\IPython\\core\\interactiveshell.py\", line 3334, in run_cell_async\n",
            "    has_raised = await self.run_ast_nodes(code_ast.body, cell_name,\n",
            "  File \"c:\\Users\\Beste Aydemir\\anaconda3\\envs\\rokin_diffuser\\lib\\site-packages\\IPython\\core\\interactiveshell.py\", line 3517, in run_ast_nodes\n",
            "    if await self.run_code(code, result, async_=asy):\n",
            "  File \"c:\\Users\\Beste Aydemir\\anaconda3\\envs\\rokin_diffuser\\lib\\site-packages\\IPython\\core\\interactiveshell.py\", line 3577, in run_code\n",
            "    exec(code_obj, self.user_global_ns, self.user_ns)\n",
            "  File \"C:\\Users\\Beste Aydemir\\AppData\\Local\\Temp\\ipykernel_13244\\3258179998.py\", line 38, in <module>\n",
            "    device = get_device_settings(args)\n",
            "  File \"C:\\Users\\Beste Aydemir\\diffuser-third-test\\diffuser\\utils\\config.py\", line 346, in get_device_settings\n",
            "    device = torch.device(\"cpu\")\n",
            "C:\\Users\\Beste Aydemir\\diffuser-third-test\\diffuser\\utils\\config.py:346: UserWarning: Failed to initialize NumPy: _ARRAY_API not found (Triggered internally at ..\\torch\\csrc\\utils\\tensor_numpy.cpp:84.)\n",
            "  device = torch.device(\"cpu\")\n"
          ]
        }
      ],
      "source": [
        "# Get settings from the config file\n",
        "\n",
        "parser = get_params()\n",
        "\n",
        "# overwrite params for Justin Arm\n",
        "args = args = parser.parse_args(\n",
        "    [\n",
        "        \"--action_dim\",\n",
        "        \"7\",\n",
        "        \"--observation_dim\",\n",
        "        \"7\",\n",
        "        \"--train_batch_size\",\n",
        "        \"32\",\n",
        "        \"--savepath\",\n",
        "        \"saved_full_dataset_justin_ep100_n100/\",\n",
        "        \"--dataset\",\n",
        "        \"new_dataset\",\n",
        "        \"--horizon\",\n",
        "        \"32\",\n",
        "        \"--save_freq\",\n",
        "        \"10000\",\n",
        "        \"--train_lr\",\n",
        "        \"0.001\",\n",
        "        \"--n_timesteps\",\n",
        "        \"256\",\n",
        "        \"--scenario_name\",\n",
        "        \"Full_dataset_justin\",\n",
        "    ]\n",
        ")\n",
        "\n",
        "# Set Seeds\n",
        "seed = args.seed\n",
        "torch.manual_seed(seed)\n",
        "torch.cuda.manual_seed_all(seed)\n",
        "np.random.seed(seed)\n",
        "\n",
        "# Get device settings\n",
        "device = get_device_settings(args)\n",
        "\n",
        "# Check if saved path exists else create it :\n",
        "if not os.path.exists(args.savepath):\n",
        "    os.makedirs(args.savepath)"
      ]
    },
    {
      "cell_type": "code",
      "execution_count": 4,
      "metadata": {
        "colab": {
          "base_uri": "https://localhost:8080/"
        },
        "id": "wzUNVoCyS54w",
        "outputId": "8fd0ca8e-cce7-456b-9438-15ca2be74525"
      },
      "outputs": [
        {
          "name": "stderr",
          "output_type": "stream",
          "text": [
            "c:\\Users\\Beste Aydemir\\anaconda3\\envs\\rokin_diffuser\\lib\\site-packages\\rokin\\robots\\Robot.py:70: UserWarning: ModuleNotFoundError\n",
            "  warnings.warn(\"ModuleNotFoundError\")\n"
          ]
        },
        {
          "name": "stdout",
          "output_type": "stream",
          "text": [
            "Abort code generation:\n",
            " c++ -files for the robot JustinArm07 in c:\\Users\\Beste Aydemir\\anaconda3\\envs\\rokin_diffuser\\lib\\site-packages\\rokin\\robots\\JustinArm07/cpp exist already.Use `replace=True` to generate them newly and overwrite the old files.\n",
            "Successfully compiled code for the robot JustinArm07 in the directory c:\\Users\\Beste Aydemir\\anaconda3\\envs\\rokin_diffuser\\lib\\site-packages\\rokin\\robots\\JustinArm07/cpp.\n",
            "Successful code generation. Rerun your code to use the C++ backend for JustinArm07.\n"
          ]
        },
        {
          "ename": "ModuleNotFoundError",
          "evalue": "No module named 'rokin.robots.JustinArm07.cpp.JustinArm07'",
          "output_type": "error",
          "traceback": [
            "\u001b[1;31m---------------------------------------------------------------------------\u001b[0m",
            "\u001b[1;31mModuleNotFoundError\u001b[0m                       Traceback (most recent call last)",
            "File \u001b[1;32mc:\\Users\\Beste Aydemir\\anaconda3\\envs\\rokin_diffuser\\lib\\site-packages\\rokin\\robots\\Robot.py:67\u001b[0m, in \u001b[0;36mimport_robot_cpp\u001b[1;34m(robot, replace, verbose)\u001b[0m\n\u001b[0;32m     66\u001b[0m \u001b[38;5;28;01mtry\u001b[39;00m:\n\u001b[1;32m---> 67\u001b[0m     \u001b[38;5;28;01mreturn\u001b[39;00m \u001b[43mimportlib\u001b[49m\u001b[38;5;241;43m.\u001b[39;49m\u001b[43mimport_module\u001b[49m\u001b[43m(\u001b[49m\u001b[43mmodule\u001b[49m\u001b[43m)\u001b[49m\n\u001b[0;32m     69\u001b[0m \u001b[38;5;28;01mexcept\u001b[39;00m \u001b[38;5;167;01mModuleNotFoundError\u001b[39;00m:\n",
            "File \u001b[1;32mc:\\Users\\Beste Aydemir\\anaconda3\\envs\\rokin_diffuser\\lib\\importlib\\__init__.py:126\u001b[0m, in \u001b[0;36mimport_module\u001b[1;34m(name, package)\u001b[0m\n\u001b[0;32m    125\u001b[0m         level \u001b[38;5;241m+\u001b[39m\u001b[38;5;241m=\u001b[39m \u001b[38;5;241m1\u001b[39m\n\u001b[1;32m--> 126\u001b[0m \u001b[38;5;28;01mreturn\u001b[39;00m \u001b[43m_bootstrap\u001b[49m\u001b[38;5;241;43m.\u001b[39;49m\u001b[43m_gcd_import\u001b[49m\u001b[43m(\u001b[49m\u001b[43mname\u001b[49m\u001b[43m[\u001b[49m\u001b[43mlevel\u001b[49m\u001b[43m:\u001b[49m\u001b[43m]\u001b[49m\u001b[43m,\u001b[49m\u001b[43m \u001b[49m\u001b[43mpackage\u001b[49m\u001b[43m,\u001b[49m\u001b[43m \u001b[49m\u001b[43mlevel\u001b[49m\u001b[43m)\u001b[49m\n",
            "File \u001b[1;32m<frozen importlib._bootstrap>:1050\u001b[0m, in \u001b[0;36m_gcd_import\u001b[1;34m(name, package, level)\u001b[0m\n",
            "File \u001b[1;32m<frozen importlib._bootstrap>:1027\u001b[0m, in \u001b[0;36m_find_and_load\u001b[1;34m(name, import_)\u001b[0m\n",
            "File \u001b[1;32m<frozen importlib._bootstrap>:1004\u001b[0m, in \u001b[0;36m_find_and_load_unlocked\u001b[1;34m(name, import_)\u001b[0m\n",
            "\u001b[1;31mModuleNotFoundError\u001b[0m: No module named 'rokin.robots.JustinArm07.cpp.JustinArm07'",
            "\nDuring handling of the above exception, another exception occurred:\n",
            "\u001b[1;31mModuleNotFoundError\u001b[0m                       Traceback (most recent call last)",
            "Cell \u001b[1;32mIn[4], line 9\u001b[0m\n\u001b[0;32m      7\u001b[0m \u001b[38;5;28;01mif\u001b[39;00m cpp_dir \u001b[38;5;129;01mnot\u001b[39;00m \u001b[38;5;129;01min\u001b[39;00m sys\u001b[38;5;241m.\u001b[39mpath:\n\u001b[0;32m      8\u001b[0m     sys\u001b[38;5;241m.\u001b[39mpath\u001b[38;5;241m.\u001b[39mappend(cpp_dir)\n\u001b[1;32m----> 9\u001b[0m robot \u001b[38;5;241m=\u001b[39m \u001b[43mrobots\u001b[49m\u001b[38;5;241;43m.\u001b[39;49m\u001b[43mJustinArm07\u001b[49m\u001b[43m(\u001b[49m\u001b[43m)\u001b[49m\n\u001b[0;32m     12\u001b[0m model_config \u001b[38;5;241m=\u001b[39m Config(\n\u001b[0;32m     13\u001b[0m     args\u001b[38;5;241m.\u001b[39mmodel,\n\u001b[0;32m     14\u001b[0m     savepath\u001b[38;5;241m=\u001b[39m(args\u001b[38;5;241m.\u001b[39msavepath, \u001b[38;5;124m\"\u001b[39m\u001b[38;5;124mmodel_config.pkl\u001b[39m\u001b[38;5;124m\"\u001b[39m),\n\u001b[1;32m   (...)\u001b[0m\n\u001b[0;32m     19\u001b[0m     device\u001b[38;5;241m=\u001b[39mdevice,\n\u001b[0;32m     20\u001b[0m )\n\u001b[0;32m     21\u001b[0m diffusion_config \u001b[38;5;241m=\u001b[39m Config(\n\u001b[0;32m     22\u001b[0m     _class\u001b[38;5;241m=\u001b[39m\u001b[38;5;124m\"\u001b[39m\u001b[38;5;124mmodels.diffuser.GaussianDiffusion\u001b[39m\u001b[38;5;124m\"\u001b[39m,\n\u001b[0;32m     23\u001b[0m     savepath\u001b[38;5;241m=\u001b[39m(args\u001b[38;5;241m.\u001b[39msavepath, \u001b[38;5;124m\"\u001b[39m\u001b[38;5;124mdiffusion_config.pkl\u001b[39m\u001b[38;5;124m\"\u001b[39m),\n\u001b[1;32m   (...)\u001b[0m\n\u001b[0;32m     35\u001b[0m     device\u001b[38;5;241m=\u001b[39mdevice,\n\u001b[0;32m     36\u001b[0m )\n",
            "File \u001b[1;32mc:\\Users\\Beste Aydemir\\anaconda3\\envs\\rokin_diffuser\\lib\\site-packages\\rokin\\robots\\JustinArm07\\JustinArm07.py:64\u001b[0m, in \u001b[0;36mJustinArm07.__init__\u001b[1;34m(self)\u001b[0m\n\u001b[0;32m     61\u001b[0m \u001b[38;5;28mself\u001b[39m\u001b[38;5;241m.\u001b[39mmeshes\u001b[38;5;241m.\u001b[39mf \u001b[38;5;241m=\u001b[39m meshes\u001b[38;5;241m.\u001b[39mright_meshes_f\n\u001b[0;32m     62\u001b[0m \u001b[38;5;28mself\u001b[39m\u001b[38;5;241m.\u001b[39mmeshes\u001b[38;5;241m.\u001b[39mf_idx \u001b[38;5;241m=\u001b[39m meshes\u001b[38;5;241m.\u001b[39mright_meshes_f_idx \u001b[38;5;241m-\u001b[39m \u001b[38;5;241m1\u001b[39m\n\u001b[1;32m---> 64\u001b[0m \u001b[38;5;28mself\u001b[39m\u001b[38;5;241m.\u001b[39m_cpp \u001b[38;5;241m=\u001b[39m \u001b[43mimport_robot_cpp\u001b[49m\u001b[43m(\u001b[49m\u001b[43mrobot\u001b[49m\u001b[38;5;241;43m=\u001b[39;49m\u001b[38;5;28;43mself\u001b[39;49m\u001b[43m)\u001b[49m\n\u001b[0;32m     65\u001b[0m \u001b[38;5;28mself\u001b[39m\u001b[38;5;241m.\u001b[39mnet \u001b[38;5;241m=\u001b[39m JustinArm07Net()\n\u001b[0;32m     66\u001b[0m \u001b[38;5;28mself\u001b[39m\u001b[38;5;241m.\u001b[39massert_robot()\n",
            "File \u001b[1;32mc:\\Users\\Beste Aydemir\\anaconda3\\envs\\rokin_diffuser\\lib\\site-packages\\rokin\\robots\\Robot.py:72\u001b[0m, in \u001b[0;36mimport_robot_cpp\u001b[1;34m(robot, replace, verbose)\u001b[0m\n\u001b[0;32m     70\u001b[0m     warnings\u001b[38;5;241m.\u001b[39mwarn(\u001b[38;5;124m\"\u001b[39m\u001b[38;5;124mModuleNotFoundError\u001b[39m\u001b[38;5;124m\"\u001b[39m)\n\u001b[0;32m     71\u001b[0m     generate_and_compile(_replace\u001b[38;5;241m=\u001b[39mreplace)\n\u001b[1;32m---> 72\u001b[0m     \u001b[38;5;28;01mreturn\u001b[39;00m \u001b[43mimportlib\u001b[49m\u001b[38;5;241;43m.\u001b[39;49m\u001b[43mimport_module\u001b[49m\u001b[43m(\u001b[49m\u001b[43mmodule\u001b[49m\u001b[43m)\u001b[49m\n\u001b[0;32m     74\u001b[0m \u001b[38;5;28;01mexcept\u001b[39;00m \u001b[38;5;167;01mImportError\u001b[39;00m:\n\u001b[0;32m     75\u001b[0m     warnings\u001b[38;5;241m.\u001b[39mwarn(\u001b[38;5;124m\"\u001b[39m\u001b[38;5;124mImportError\u001b[39m\u001b[38;5;124m\"\u001b[39m)\n",
            "File \u001b[1;32mc:\\Users\\Beste Aydemir\\anaconda3\\envs\\rokin_diffuser\\lib\\importlib\\__init__.py:126\u001b[0m, in \u001b[0;36mimport_module\u001b[1;34m(name, package)\u001b[0m\n\u001b[0;32m    124\u001b[0m             \u001b[38;5;28;01mbreak\u001b[39;00m\n\u001b[0;32m    125\u001b[0m         level \u001b[38;5;241m+\u001b[39m\u001b[38;5;241m=\u001b[39m \u001b[38;5;241m1\u001b[39m\n\u001b[1;32m--> 126\u001b[0m \u001b[38;5;28;01mreturn\u001b[39;00m \u001b[43m_bootstrap\u001b[49m\u001b[38;5;241;43m.\u001b[39;49m\u001b[43m_gcd_import\u001b[49m\u001b[43m(\u001b[49m\u001b[43mname\u001b[49m\u001b[43m[\u001b[49m\u001b[43mlevel\u001b[49m\u001b[43m:\u001b[49m\u001b[43m]\u001b[49m\u001b[43m,\u001b[49m\u001b[43m \u001b[49m\u001b[43mpackage\u001b[49m\u001b[43m,\u001b[49m\u001b[43m \u001b[49m\u001b[43mlevel\u001b[49m\u001b[43m)\u001b[49m\n",
            "File \u001b[1;32m<frozen importlib._bootstrap>:1050\u001b[0m, in \u001b[0;36m_gcd_import\u001b[1;34m(name, package, level)\u001b[0m\n",
            "File \u001b[1;32m<frozen importlib._bootstrap>:1027\u001b[0m, in \u001b[0;36m_find_and_load\u001b[1;34m(name, import_)\u001b[0m\n",
            "File \u001b[1;32m<frozen importlib._bootstrap>:1004\u001b[0m, in \u001b[0;36m_find_and_load_unlocked\u001b[1;34m(name, import_)\u001b[0m\n",
            "\u001b[1;31mModuleNotFoundError\u001b[0m: No module named 'rokin.robots.JustinArm07.cpp.JustinArm07'"
          ]
        }
      ],
      "source": [
        "dataset = np.load(\"justin_arm/data/q_paths_4123.npy\")\n",
        "dataset_image = np.load(\"justin_arm/data/q_paths_4123.npy\")\n",
        "trajectory_dataset = TrajectoryDataset(\n",
        "    dataset=dataset, horizon=args.horizon, image=dataset_image\n",
        ")\n",
        "# cpp_dir = 'c:/Users/Beste Aydemir/anaconda3/envs/rokin_diffuser/lib/site-packages/rokin/robots/JustinArm07/cpp'\n",
        "# if cpp_dir not in sys.path:\n",
        "#     sys.path.append(cpp_dir)\n",
        "robot = robots.JustinArm07()\n",
        "\n",
        "\n",
        "model_config = Config(\n",
        "    args.model,\n",
        "    savepath=(args.savepath, \"model_config.pkl\"),\n",
        "    horizon=args.horizon,\n",
        "    transition_dim=args.observation_dim + args.action_dim,\n",
        "    cond_dim=args.observation_dim,\n",
        "    dim_mults=args.dim_mults,\n",
        "    device=device,\n",
        ")\n",
        "diffusion_config = Config(\n",
        "    _class=\"models.diffuser.GaussianDiffusion\",\n",
        "    savepath=(args.savepath, \"diffusion_config.pkl\"),\n",
        "    horizon=args.horizon,\n",
        "    observation_dim=args.observation_dim,\n",
        "    action_dim=args.action_dim,\n",
        "    n_timesteps=args.n_timesteps,\n",
        "    loss_type=args.loss_type,\n",
        "    clip_denoised=args.clip_denoised,\n",
        "    predict_epsilon=args.predict_epsilon,\n",
        "    # loss weighting\n",
        "    action_weight=args.action_weight,\n",
        "    loss_weights=args.loss_weights,\n",
        "    loss_discount=args.loss_discount,\n",
        "    device=device,\n",
        ")\n",
        "\n",
        "trainer_config = Config(\n",
        "    Justin_Trainer,\n",
        "    savepath=(args.savepath, \"trainer_config.pkl\"),\n",
        "    train_batch_size=args.train_batch_size,\n",
        "    train_lr=args.train_lr,\n",
        "    name=args.env_name,\n",
        "    gradient_accumulate_every=args.gradient_accumulate_every,\n",
        "    ema_decay=args.ema_decay,\n",
        "    sample_freq=args.sample_freq,\n",
        "    save_freq=args.save_freq,\n",
        "    label_freq=args.label_freq,\n",
        "    save_parallel=args.save_parallel,\n",
        "    results_folder=args.savepath,\n",
        "    bucket=args.bucket,\n",
        "    n_reference=args.n_reference,\n",
        "    n_samples=args.n_samples,\n",
        "    device=device,\n",
        ")"
      ]
    },
    {
      "cell_type": "code",
      "execution_count": 17,
      "metadata": {},
      "outputs": [
        {
          "ename": "ImportError",
          "evalue": "cannot import name 'generate_and_compile' from 'rokin.robots.Robot' (c:\\Users\\Beste Aydemir\\anaconda3\\envs\\rokin_diffuser\\lib\\site-packages\\rokin\\robots\\Robot.py)",
          "output_type": "error",
          "traceback": [
            "\u001b[1;31m---------------------------------------------------------------------------\u001b[0m",
            "\u001b[1;31mImportError\u001b[0m                               Traceback (most recent call last)",
            "Cell \u001b[1;32mIn[17], line 1\u001b[0m\n\u001b[1;32m----> 1\u001b[0m \u001b[38;5;28;01mfrom\u001b[39;00m \u001b[38;5;21;01mrokin\u001b[39;00m\u001b[38;5;21;01m.\u001b[39;00m\u001b[38;5;21;01mrobots\u001b[39;00m\u001b[38;5;21;01m.\u001b[39;00m\u001b[38;5;21;01mRobot\u001b[39;00m \u001b[38;5;28;01mimport\u001b[39;00m generate_and_compile\n\u001b[0;32m      3\u001b[0m \u001b[38;5;66;03m# Rebuild the module\u001b[39;00m\n\u001b[0;32m      4\u001b[0m generate_and_compile()\n",
            "\u001b[1;31mImportError\u001b[0m: cannot import name 'generate_and_compile' from 'rokin.robots.Robot' (c:\\Users\\Beste Aydemir\\anaconda3\\envs\\rokin_diffuser\\lib\\site-packages\\rokin\\robots\\Robot.py)"
          ]
        }
      ],
      "source": [
        "from rokin.robots.Robot import generate_and_compile\n",
        "\n",
        "# Rebuild the module\n",
        "generate_and_compile()"
      ]
    },
    {
      "cell_type": "code",
      "execution_count": 18,
      "metadata": {},
      "outputs": [
        {
          "ename": "TypeError",
          "evalue": "descriptor 'id' for 'Robot' objects doesn't apply to a 'JustinArm07' object",
          "output_type": "error",
          "traceback": [
            "\u001b[1;31m---------------------------------------------------------------------------\u001b[0m",
            "\u001b[1;31mTypeError\u001b[0m                                 Traceback (most recent call last)",
            "Cell \u001b[1;32mIn[18], line 1\u001b[0m\n\u001b[1;32m----> 1\u001b[0m robot \u001b[38;5;241m=\u001b[39m \u001b[43mrobots\u001b[49m\u001b[38;5;241;43m.\u001b[39;49m\u001b[43mJustinArm07\u001b[49m\u001b[43m(\u001b[49m\u001b[43m)\u001b[49m\n",
            "File \u001b[1;32mc:\\Users\\Beste Aydemir\\anaconda3\\envs\\rokin_diffuser\\lib\\site-packages\\rokin\\robots\\JustinArm07\\JustinArm07.py:20\u001b[0m, in \u001b[0;36mJustinArm07.__init__\u001b[1;34m(self)\u001b[0m\n\u001b[0;32m     19\u001b[0m \u001b[38;5;28;01mdef\u001b[39;00m \u001b[38;5;21m__init__\u001b[39m(\u001b[38;5;28mself\u001b[39m):\n\u001b[1;32m---> 20\u001b[0m     \u001b[38;5;28;43msuper\u001b[39;49m\u001b[43m(\u001b[49m\u001b[43m)\u001b[49m\u001b[38;5;241;43m.\u001b[39;49m\u001b[38;5;21;43m__init__\u001b[39;49m\u001b[43m(\u001b[49m\u001b[38;5;28;43mid\u001b[39;49m\u001b[38;5;241;43m=\u001b[39;49m\u001b[38;5;124;43m\"\u001b[39;49m\u001b[38;5;124;43mJustinArm07\u001b[39;49m\u001b[38;5;124;43m\"\u001b[39;49m\u001b[43m)\u001b[49m\n\u001b[0;32m     21\u001b[0m     \u001b[38;5;28mself\u001b[39m\u001b[38;5;241m.\u001b[39mn_dim \u001b[38;5;241m=\u001b[39m \u001b[38;5;241m3\u001b[39m\n\u001b[0;32m     22\u001b[0m     \u001b[38;5;28mself\u001b[39m\u001b[38;5;241m.\u001b[39mn_dof \u001b[38;5;241m=\u001b[39m \u001b[38;5;241m7\u001b[39m\n",
            "File \u001b[1;32mc:\\Users\\Beste Aydemir\\anaconda3\\envs\\rokin_diffuser\\lib\\site-packages\\rokin\\robots\\Robot.py:99\u001b[0m, in \u001b[0;36mRobot.__init__\u001b[1;34m(self, id)\u001b[0m\n\u001b[0;32m     98\u001b[0m \u001b[38;5;28;01mdef\u001b[39;00m \u001b[38;5;21m__init__\u001b[39m(\u001b[38;5;28mself\u001b[39m, \u001b[38;5;28mid\u001b[39m\u001b[38;5;241m=\u001b[39m\u001b[38;5;28;01mNone\u001b[39;00m):  \u001b[38;5;66;03m# noqa\u001b[39;00m\n\u001b[1;32m---> 99\u001b[0m     \u001b[38;5;28;43mself\u001b[39;49m\u001b[38;5;241;43m.\u001b[39;49m\u001b[43mid\u001b[49m: \u001b[38;5;28mstr\u001b[39m \u001b[38;5;241m=\u001b[39m \u001b[38;5;28mid\u001b[39m\n\u001b[0;32m    100\u001b[0m     \u001b[38;5;28mself\u001b[39m\u001b[38;5;241m.\u001b[39mchain: Chain \u001b[38;5;241m=\u001b[39m Chain()\n\u001b[0;32m    101\u001b[0m     \u001b[38;5;28mself\u001b[39m\u001b[38;5;241m.\u001b[39mspheres: Spheres \u001b[38;5;241m=\u001b[39m Spheres()\n",
            "\u001b[1;31mTypeError\u001b[0m: descriptor 'id' for 'Robot' objects doesn't apply to a 'JustinArm07' object"
          ]
        }
      ],
      "source": [
        "robot = robots.JustinArm07()"
      ]
    },
    {
      "cell_type": "code",
      "execution_count": null,
      "metadata": {},
      "outputs": [],
      "source": [
        "# Print min and max:\n",
        "\n",
        "print(trajectory_dataset.normalizer.maxs)\n",
        "\n",
        "print(\"Min: \", np.min(trajectory_dataset.normalized_data))\n",
        "print(\"Max: \", np.max(trajectory_dataset.normalized_data))\n",
        "# Print mean and std:\n",
        "print(\"Mean: \", np.mean(trajectory_dataset.normalized_data))\n",
        "print(\"Std: \", np.std(trajectory_dataset.normalized_data))"
      ]
    },
    {
      "cell_type": "code",
      "execution_count": null,
      "metadata": {
        "colab": {
          "base_uri": "https://localhost:8080/"
        },
        "id": "yN1wOeVGTaft",
        "outputId": "1d0e9bfe-1bca-4718-a6e9-03954dd5dbc9"
      },
      "outputs": [],
      "source": [
        "# Load objects\n",
        "\n",
        "model = model_config()\n",
        "diffuser = diffusion_config(model)\n",
        "trainer = trainer_config(diffuser, trajectory_dataset, device, robot)"
      ]
    },
    {
      "cell_type": "markdown",
      "metadata": {
        "id": "mcJZFQl9jXtn"
      },
      "source": [
        "## Forward pass is working"
      ]
    },
    {
      "cell_type": "code",
      "execution_count": null,
      "metadata": {
        "colab": {
          "base_uri": "https://localhost:8080/"
        },
        "id": "1SnQpWsjKlRQ",
        "outputId": "6c4ce3f1-c507-42e2-e51b-485e83ed51ac"
      },
      "outputs": [],
      "source": [
        "report_parameters(model)\n",
        "\n",
        "print(\"Testing forward...\", end=\" \", flush=True)\n",
        "batch = batchify(trajectory_dataset[0])\n",
        "loss, _ = diffuser.loss(*batch)\n",
        "loss.backward()\n",
        "print(\"✓\")"
      ]
    },
    {
      "cell_type": "markdown",
      "metadata": {
        "id": "J2zObsfx8uFq"
      },
      "source": [
        "## Using the trainer requires taking care of the 'device' in the folders"
      ]
    },
    {
      "cell_type": "markdown",
      "metadata": {
        "id": "rRJlcy_WKXdq"
      },
      "source": [
        "# Training process inlcluding rendering"
      ]
    },
    {
      "cell_type": "code",
      "execution_count": null,
      "metadata": {},
      "outputs": [],
      "source": [
        "current_time = datetime.now().strftime(\"%d_%m_%Y-%H-%M\")\n",
        "\n",
        "if args.use_wandb:\n",
        "    run = wandb.init(\n",
        "        config=args,\n",
        "        project=args.wandb_project,\n",
        "        entity=args.wandb_entity,\n",
        "        name=f\"{args.savepath}_{current_time}\",\n",
        "        group=\"Group-Name\",\n",
        "        job_type=\"training\",\n",
        "        reinit=True,\n",
        "    )"
      ]
    },
    {
      "cell_type": "markdown",
      "metadata": {},
      "source": [
        "## Training"
      ]
    },
    {
      "cell_type": "code",
      "execution_count": null,
      "metadata": {},
      "outputs": [],
      "source": [
        "# n_epochs = int(args.n_train_steps // args.n_steps_per_epoch)\n",
        "n_epochs = 100\n",
        "diffuser.to(device)\n",
        "for i in tqdm(range(n_epochs)):\n",
        "    print(f\"Epoch {i} / {n_epochs} | {args.savepath}\")\n",
        "    trainer.train(n_train_steps=100)"
      ]
    },
    {
      "cell_type": "markdown",
      "metadata": {},
      "source": [
        "## Training for a single datapoint : 1. Experiment!"
      ]
    },
    {
      "cell_type": "code",
      "execution_count": null,
      "metadata": {},
      "outputs": [],
      "source": [
        "# Overfit to a single datapoint\n",
        "\n",
        "\n",
        "# Choose a single trajectory through the dataloader given a batch size of 1, then we do not know exactly what idx that is\n",
        "# single_input = next(iter(trainer.dataloader))\n",
        "# single_input = batch_to_device(single_input, device)\n",
        "\n",
        "# Choose a single trajectory arbitrarily\n",
        "single_input = batchify(trajectory_dataset[800])\n",
        "single_input = batch_to_device(single_input, device)\n",
        "\n",
        "# Just sample the trajectory directly from the dataset:\n",
        "single_input_unnormalized = interpolate_trajectories(dataset[10], 32)\n",
        "\n",
        "# # Start training\n",
        "# diffuser.to(device)\n",
        "# n_epochs = 500  # Overfitting typically requires fewer epochs\n",
        "# for i in tqdm(range(n_epochs)):\n",
        "#     print(f\"Epoch {i} / {n_epochs} | {args.savepath}\")\n",
        "#     trainer.train_single_datapoint(n_train_steps=20, single_input=single_input)"
      ]
    },
    {
      "cell_type": "markdown",
      "metadata": {},
      "source": [
        "## Loading existing model and visualize performance:"
      ]
    },
    {
      "cell_type": "code",
      "execution_count": null,
      "metadata": {},
      "outputs": [],
      "source": [
        "# Load and test the model on the single datapoint:\n",
        "model_path = \"saved_justin_ep100_n100//state_10000.pt\"\n",
        "trainer.load(directory=model_path, epoch=100)"
      ]
    },
    {
      "cell_type": "markdown",
      "metadata": {},
      "source": [
        "### Plot the trajectory taken directly from the dataset:"
      ]
    },
    {
      "cell_type": "code",
      "execution_count": null,
      "metadata": {},
      "outputs": [],
      "source": [
        "# # Plor the orginal trajectory\n",
        "# %matplotlib inline\n",
        "\n",
        "# # Plot the original and diffused trajectories:\n",
        "# # Original:\n",
        "\n",
        "# # Get collision_metric:\n",
        "# distance = robot_env_dist(\n",
        "#     q=single_input_unnormalized[0], robot=trainer.robot, img=trainer.dataset.image[0]\n",
        "# )\n",
        "\n",
        "# score = analyze_distance(distance)\n",
        "\n",
        "# print(f\"Collision score: {score}\")\n",
        "\n",
        "\n",
        "# print(single_input_unnormalized[0].shape)\n",
        "\n",
        "# plot_trajectory_per_frames(single_input_unnormalized[0])\n",
        "# plot_q_values_per_trajectory(single_input_unnormalized[0])\n",
        "\n",
        "\n",
        "# limits = np.array([[-1.25, +1.25], [-1.25, +1.25], [-1.25, +1.25]])\n",
        "# vis.three_pv.animate_path(\n",
        "#     robot=trainer.robot,\n",
        "#     q=single_input_unnormalized[0],\n",
        "#     kwargs_robot=dict(color=\"red\"),\n",
        "#     kwargs_world=dict(img=trainer.dataset.image[0], limits=limits, color=\"yellow\"),\n",
        "# )"
      ]
    },
    {
      "cell_type": "markdown",
      "metadata": {},
      "source": [
        "### Plotting the reference trajectory:"
      ]
    },
    {
      "cell_type": "code",
      "execution_count": null,
      "metadata": {},
      "outputs": [],
      "source": [
        "%matplotlib inline\n",
        "trainer.plot_reference_data(single_input)\n"
      ]
    },
    {
      "cell_type": "markdown",
      "metadata": {},
      "source": []
    },
    {
      "cell_type": "markdown",
      "metadata": {},
      "source": [
        "### Plotting the diffused reconstruction:"
      ]
    },
    {
      "cell_type": "code",
      "execution_count": null,
      "metadata": {},
      "outputs": [],
      "source": [
        "# Now plotting for the diffused trajectory:\n",
        "%matplotlib inline\n",
        "collision_score = trainer.render_given_sample(single_input, render_3d=True)\n",
        "print(f\"Collision score: {collision_score}\")"
      ]
    },
    {
      "cell_type": "code",
      "execution_count": null,
      "metadata": {},
      "outputs": [],
      "source": [
        "# Out of wqorld generalization:\n",
        "dataset = np.load(\"justin_arm/data/q_paths_6547.npy\")\n",
        "dataset_image = np.load(\"justin_arm/data/image_6547.npy\")\n",
        "trajectory_dataset = TrajectoryDataset(\n",
        "    dataset=dataset, horizon=args.horizon, image=dataset_image\n",
        ")\n",
        "\n",
        "robot = robots.JustinArm07()\n",
        "trainer = trainer_config(diffuser, trajectory_dataset, device, robot)\n",
        "\n",
        "\n",
        "# Load model:\n",
        "# Load and test the model on the single datapoint:\n",
        "model_path = \"saved_justin_ep100_n100//state_10000.pt\"\n",
        "trainer.load(directory=model_path, epoch=100)\n",
        "\n",
        "\n",
        "# Load random datapoints:\n",
        "single_input = batchify(trajectory_dataset[10])\n",
        "single_input = batch_to_device(single_input, device)\n",
        "\n",
        "\n",
        "# Compare reference and diffusion:"
      ]
    },
    {
      "cell_type": "code",
      "execution_count": null,
      "metadata": {},
      "outputs": [],
      "source": [
        "%matplotlib inline\n",
        "collision_score = trainer.plot_reference_data(single_input, render_3d=False)\n",
        "print(f\"Collision score: {collision_score}\")"
      ]
    },
    {
      "cell_type": "code",
      "execution_count": null,
      "metadata": {},
      "outputs": [],
      "source": [
        "# Now plotting for the diffused trajectory:\n",
        "%matplotlib inline\n",
        "# empty ndarray of shape (0,args.horizon,7)\n",
        "q_paths = np.zeros((0, args.horizon, 7))\n",
        "for i in range(20):\n",
        "    q_path, collision_score = trainer.render_given_sample(single_input, render_3d=False)\n",
        "    q_path = np.expand_dims(q_path, axis=0)\n",
        "    q_paths = np.append(q_paths, q_path, axis=0)\n"
      ]
    },
    {
      "cell_type": "code",
      "execution_count": null,
      "metadata": {},
      "outputs": [],
      "source": [
        "print(q_paths.shape)"
      ]
    },
    {
      "cell_type": "code",
      "execution_count": null,
      "metadata": {},
      "outputs": [],
      "source": [
        "%matplotlib inline\n",
        "plot_multiple_trajectories(q_paths[:10], q_paths.shape[0])"
      ]
    },
    {
      "cell_type": "code",
      "execution_count": 2,
      "metadata": {},
      "outputs": [
        {
          "ename": "ModuleNotFoundError",
          "evalue": "No module named 'torchviz'",
          "output_type": "error",
          "traceback": [
            "\u001b[1;31m---------------------------------------------------------------------------\u001b[0m",
            "\u001b[1;31mModuleNotFoundError\u001b[0m                       Traceback (most recent call last)",
            "Cell \u001b[1;32mIn[2], line 4\u001b[0m\n\u001b[0;32m      2\u001b[0m \u001b[38;5;28;01mimport\u001b[39;00m \u001b[38;5;21;01mtorch\u001b[39;00m\u001b[38;5;21;01m.\u001b[39;00m\u001b[38;5;21;01mnn\u001b[39;00m \u001b[38;5;28;01mas\u001b[39;00m \u001b[38;5;21;01mnn\u001b[39;00m\n\u001b[0;32m      3\u001b[0m \u001b[38;5;28;01mimport\u001b[39;00m \u001b[38;5;21;01mtorch\u001b[39;00m\u001b[38;5;21;01m.\u001b[39;00m\u001b[38;5;21;01mnn\u001b[39;00m\u001b[38;5;21;01m.\u001b[39;00m\u001b[38;5;21;01mfunctional\u001b[39;00m \u001b[38;5;28;01mas\u001b[39;00m \u001b[38;5;21;01mF\u001b[39;00m\n\u001b[1;32m----> 4\u001b[0m \u001b[38;5;28;01mfrom\u001b[39;00m \u001b[38;5;21;01mtorchviz\u001b[39;00m \u001b[38;5;28;01mimport\u001b[39;00m make_dot\n\u001b[0;32m      6\u001b[0m \u001b[38;5;66;03m# Define Mish activation function (not built-in in PyTorch, so we define it manually)\u001b[39;00m\n\u001b[0;32m      7\u001b[0m \u001b[38;5;28;01mclass\u001b[39;00m \u001b[38;5;21;01mMish\u001b[39;00m(nn\u001b[38;5;241m.\u001b[39mModule):\n",
            "\u001b[1;31mModuleNotFoundError\u001b[0m: No module named 'torchviz'"
          ]
        }
      ],
      "source": [
        "import torch\n",
        "import torch.nn as nn\n",
        "import torch.nn.functional as F\n",
        "from torchviz import make_dot\n",
        "\n",
        "# Define Mish activation function (not built-in in PyTorch, so we define it manually)\n",
        "class Mish(nn.Module):\n",
        "    def forward(self, x):\n",
        "        return x * torch.tanh(F.softplus(x))\n",
        "\n",
        "# Define Group Normalization (can be replaced with standard nn.BatchNorm1d if needed)\n",
        "class GroupNorm(nn.Module):\n",
        "    def __init__(self, num_groups):\n",
        "        super(GroupNorm, self).__init__()\n",
        "        self.norm = nn.GroupNorm(num_groups, num_groups)  # num_groups for group size is set to num_groups\n",
        "        \n",
        "    def forward(self, x):\n",
        "        return self.norm(x)\n",
        "\n",
        "# Define the residual block with temporal convolutions, group norm, Mish nonlinearity\n",
        "class ResidualBlock(nn.Module):\n",
        "    def __init__(self, in_channels, out_channels, kernel_size):\n",
        "        super(ResidualBlock, self).__init__()\n",
        "        self.conv1 = nn.Conv1d(in_channels, out_channels, kernel_size, padding=(kernel_size // 2))\n",
        "        self.norm1 = GroupNorm(in_channels // 2)\n",
        "        self.mish = Mish()\n",
        "        self.conv2 = nn.Conv1d(out_channels, out_channels, kernel_size, padding=(kernel_size // 2))\n",
        "        self.norm2 = GroupNorm(in_channels // 2)\n",
        "    \n",
        "    def forward(self, x):\n",
        "        residual = x\n",
        "        out = self.conv1(x)\n",
        "        out = self.norm1(out)\n",
        "        out = self.mish(out)\n",
        "        out = self.conv2(out)\n",
        "        out = self.norm2(out)\n",
        "        out += residual  # Residual connection\n",
        "        out = self.mish(out)\n",
        "        return out\n",
        "\n",
        "# Define the Diffuser model\n",
        "class Diffuser(nn.Module):\n",
        "    def __init__(self, num_blocks, in_channels, out_channels, kernel_size):\n",
        "        super(Diffuser, self).__init__()\n",
        "        self.num_blocks = num_blocks\n",
        "        self.temporal_conv_blocks = nn.ModuleList([\n",
        "            ResidualBlock(in_channels, out_channels, kernel_size) for _ in range(num_blocks)\n",
        "        ])\n",
        "        self.fc = nn.Linear(in_channels, in_channels)  # Single fully-connected layer for timestep embeddings\n",
        "    \n",
        "    def forward(self, x):\n",
        "        for block in self.temporal_conv_blocks:\n",
        "            x = block(x)\n",
        "            # Timestep embeddings added here:\n",
        "            x = x + self.fc(x[:, :, 0])[:, :, None]\n",
        "        return x\n",
        "\n",
        "# Create an instance of Diffuser\n",
        "num_blocks = 6\n",
        "in_channels = 256  # Example number of input channels\n",
        "out_channels = 256  # Example number of output channels\n",
        "kernel_size = 5  # Example kernel size for temporal convolutions\n",
        "diffuser_model = Diffuser(num_blocks, in_channels, out_channels, kernel_size)\n",
        "\n",
        "# Visualize the model using torchviz\n",
        "dummy_input = torch.randn(1, in_channels, 100)  # Example input shape: (batch_size, in_channels, sequence_length)\n",
        "output = diffuser_model(dummy_input)\n",
        "dot = make_dot(output, params=dict(diffuser_model.named_parameters()))\n",
        "dot.format = 'png'  # Output format: png (you can change it to pdf, svg, etc. if needed)\n",
        "dot.render(\"diffuser_model\", directory=\"./\", format=dot.format)\n"
      ]
    }
  ],
  "metadata": {
    "accelerator": "GPU",
    "colab": {
      "collapsed_sections": [
        "yP4EZWUtjLEW",
        "Xh7nFzc5jxhB"
      ],
      "gpuType": "T4",
      "provenance": [],
      "toc_visible": true
    },
    "kernelspec": {
      "display_name": "Python 3",
      "name": "python3"
    },
    "language_info": {
      "codemirror_mode": {
        "name": "ipython",
        "version": 3
      },
      "file_extension": ".py",
      "mimetype": "text/x-python",
      "name": "python",
      "nbconvert_exporter": "python",
      "pygments_lexer": "ipython3",
      "version": "3.10.14"
    }
  },
  "nbformat": 4,
  "nbformat_minor": 0
}
