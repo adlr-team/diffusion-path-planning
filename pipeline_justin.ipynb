{
  "cells": [
    {
      "cell_type": "markdown",
      "metadata": {},
      "source": [
        "## Imports"
      ]
    },
    {
      "cell_type": "code",
      "execution_count": null,
      "metadata": {
        "colab": {
          "base_uri": "https://localhost:8080/"
        },
        "id": "LRAev-KUifbW",
        "outputId": "f70d8a10-4ddb-4bd6-8f38-cbc841993bb5"
      },
      "outputs": [],
      "source": [
        "%load_ext autoreload\n",
        "%autoreload 2"
      ]
    },
    {
      "cell_type": "code",
      "execution_count": null,
      "metadata": {
        "id": "APRB2VcQU5C2"
      },
      "outputs": [],
      "source": [
        "import gymnasium as gym\n",
        "from diffuser.utils.config import Config, get_params, get_device_settings\n",
        "from justin_arm.training_justin import Justin_Trainer\n",
        "from justin_arm.helper import (\n",
        "    create_state_action_array,\n",
        "    interpolate_trajectories,\n",
        "    condition_start_end_per_trajectory,\n",
        ")\n",
        "from rokin import robots, vis\n",
        "from diffuser.utils.arrays import report_parameters, batchify\n",
        "from diffuser.datasets.sequence import TrajectoryDataset\n",
        "import numpy as np\n",
        "import torch\n",
        "import sys\n",
        "import matplotlib.pyplot as plt\n",
        "from datetime import datetime\n",
        "import wandb\n",
        "from tqdm import tqdm\n",
        "\n",
        "# Render original and diffused trajectories:\n",
        "from justin_arm.visualize import (\n",
        "    plot_trajectory_per_frames,\n",
        "    plot_q_values_per_trajectory,\n",
        "    plot_multiple_trajectories,\n",
        ")\n",
        "from justin_arm.helper import robot_env_dist, analyze_distance\n",
        "from diffuser.utils.arrays import apply_dict, batch_to_device, to_device, to_np\n",
        "\n",
        "import os"
      ]
    },
    {
      "cell_type": "markdown",
      "metadata": {
        "id": "88Fd7E-bLXNI"
      },
      "source": [
        "## Parse Arguments and Paramters"
      ]
    },
    {
      "cell_type": "code",
      "execution_count": null,
      "metadata": {},
      "outputs": [],
      "source": [
        "# Get settings from the config file\n",
        "\n",
        "parser = get_params()\n",
        "\n",
        "# overwrite params for Justin Arm\n",
        "args = args = parser.parse_args(\n",
        "    [\n",
        "        \"--action_dim\",\n",
        "        \"7\",\n",
        "        \"--observation_dim\",\n",
        "        \"7\",\n",
        "        \"--train_batch_size\",\n",
        "        \"16\",\n",
        "        \"--savepath\",\n",
        "        \"saved_justin_ep100_n100/\",\n",
        "        \"--dataset\",\n",
        "        \"new_dataset\",\n",
        "        \"--horizon\",\n",
        "        \"32\",\n",
        "        \"--save_freq\",\n",
        "        \"10000\",\n",
        "        \"--train_lr\",\n",
        "        \"0.001\",\n",
        "        \"--n_timesteps\",\n",
        "        \"256\",\n",
        "    ]\n",
        ")\n",
        "\n",
        "# Set Seeds\n",
        "seed = args.seed\n",
        "torch.manual_seed(seed)\n",
        "torch.cuda.manual_seed_all(seed)\n",
        "np.random.seed(seed)\n",
        "\n",
        "# Get device settings\n",
        "device = get_device_settings(args)\n",
        "\n",
        "# Check if saved path exists else create it :\n",
        "if not os.path.exists(args.savepath):\n",
        "    os.makedirs(args.savepath)"
      ]
    },
    {
      "cell_type": "code",
      "execution_count": null,
      "metadata": {
        "colab": {
          "base_uri": "https://localhost:8080/"
        },
        "id": "wzUNVoCyS54w",
        "outputId": "8fd0ca8e-cce7-456b-9438-15ca2be74525"
      },
      "outputs": [],
      "source": [
        "dataset = np.load(\"justin_arm/data/q_paths_4123.npy\")\n",
        "dataset_image = np.load(\"justin_arm/data/image_4123.npy\")\n",
        "trajectory_dataset = TrajectoryDataset(\n",
        "    dataset=dataset, horizon=args.horizon, image=dataset_image\n",
        ")\n",
        "robot = robots.JustinArm07()\n",
        "\n",
        "\n",
        "model_config = Config(\n",
        "    args.model,\n",
        "    savepath=(args.savepath, \"model_config.pkl\"),\n",
        "    horizon=args.horizon,\n",
        "    transition_dim=args.observation_dim + args.action_dim,\n",
        "    cond_dim=args.observation_dim,\n",
        "    dim_mults=args.dim_mults,\n",
        "    device=device,\n",
        ")\n",
        "diffusion_config = Config(\n",
        "    _class=\"models.diffuser.GaussianDiffusion\",\n",
        "    savepath=(args.savepath, \"diffusion_config.pkl\"),\n",
        "    horizon=args.horizon,\n",
        "    observation_dim=args.observation_dim,\n",
        "    action_dim=args.action_dim,\n",
        "    n_timesteps=args.n_timesteps,\n",
        "    loss_type=args.loss_type,\n",
        "    clip_denoised=args.clip_denoised,\n",
        "    predict_epsilon=args.predict_epsilon,\n",
        "    # loss weighting\n",
        "    action_weight=args.action_weight,\n",
        "    loss_weights=args.loss_weights,\n",
        "    loss_discount=args.loss_discount,\n",
        "    device=device,\n",
        ")\n",
        "\n",
        "trainer_config = Config(\n",
        "    Justin_Trainer,\n",
        "    savepath=(args.savepath, \"trainer_config.pkl\"),\n",
        "    train_batch_size=args.train_batch_size,\n",
        "    train_lr=args.train_lr,\n",
        "    name=args.env_name,\n",
        "    gradient_accumulate_every=args.gradient_accumulate_every,\n",
        "    ema_decay=args.ema_decay,\n",
        "    sample_freq=args.sample_freq,\n",
        "    save_freq=args.save_freq,\n",
        "    label_freq=args.label_freq,\n",
        "    save_parallel=args.save_parallel,\n",
        "    results_folder=args.savepath,\n",
        "    bucket=args.bucket,\n",
        "    n_reference=args.n_reference,\n",
        "    n_samples=args.n_samples,\n",
        "    device=device,\n",
        ")"
      ]
    },
    {
      "cell_type": "code",
      "execution_count": null,
      "metadata": {},
      "outputs": [],
      "source": [
        "# Print min and max:\n",
        "\n",
        "print(trajectory_dataset.normalizer.maxs)\n",
        "\n",
        "print(\"Min: \", np.min(trajectory_dataset.normalized_data))\n",
        "print(\"Max: \", np.max(trajectory_dataset.normalized_data))\n",
        "# Print mean and std:\n",
        "print(\"Mean: \", np.mean(trajectory_dataset.normalized_data))\n",
        "print(\"Std: \", np.std(trajectory_dataset.normalized_data))"
      ]
    },
    {
      "cell_type": "code",
      "execution_count": null,
      "metadata": {
        "colab": {
          "base_uri": "https://localhost:8080/"
        },
        "id": "yN1wOeVGTaft",
        "outputId": "1d0e9bfe-1bca-4718-a6e9-03954dd5dbc9"
      },
      "outputs": [],
      "source": [
        "# Load objects\n",
        "\n",
        "model = model_config()\n",
        "diffuser = diffusion_config(model)\n",
        "trainer = trainer_config(diffuser, trajectory_dataset, device, robot)"
      ]
    },
    {
      "cell_type": "markdown",
      "metadata": {
        "id": "mcJZFQl9jXtn"
      },
      "source": [
        "## Forward pass is working"
      ]
    },
    {
      "cell_type": "code",
      "execution_count": null,
      "metadata": {
        "colab": {
          "base_uri": "https://localhost:8080/"
        },
        "id": "1SnQpWsjKlRQ",
        "outputId": "6c4ce3f1-c507-42e2-e51b-485e83ed51ac"
      },
      "outputs": [],
      "source": [
        "report_parameters(model)\n",
        "\n",
        "print(\"Testing forward...\", end=\" \", flush=True)\n",
        "batch = batchify(trajectory_dataset[0])\n",
        "loss, _ = diffuser.loss(*batch)\n",
        "loss.backward()\n",
        "print(\"✓\")"
      ]
    },
    {
      "cell_type": "markdown",
      "metadata": {
        "id": "J2zObsfx8uFq"
      },
      "source": [
        "## Using the trainer requires taking care of the 'device' in the folders"
      ]
    },
    {
      "cell_type": "markdown",
      "metadata": {
        "id": "rRJlcy_WKXdq"
      },
      "source": [
        "# Training process inlcluding rendering"
      ]
    },
    {
      "cell_type": "code",
      "execution_count": null,
      "metadata": {},
      "outputs": [],
      "source": [
        "current_time = datetime.now().strftime(\"%d_%m_%Y-%H-%M\")\n",
        "\n",
        "if args.use_wandb:\n",
        "    run = wandb.init(\n",
        "        config=args,\n",
        "        project=args.wandb_project,\n",
        "        entity=args.wandb_entity,\n",
        "        name=f\"Run100_100_{current_time}\",\n",
        "        group=\"Group-Name\",\n",
        "        job_type=\"training\",\n",
        "        reinit=True,\n",
        "    )"
      ]
    },
    {
      "cell_type": "markdown",
      "metadata": {},
      "source": [
        "## Training"
      ]
    },
    {
      "cell_type": "code",
      "execution_count": null,
      "metadata": {},
      "outputs": [],
      "source": [
        "# n_epochs = int(args.n_train_steps // args.n_steps_per_epoch)\n",
        "n_epochs = 100\n",
        "diffuser.to(device)\n",
        "for i in tqdm(range(n_epochs)):\n",
        "    print(f\"Epoch {i} / {n_epochs} | {args.savepath}\")\n",
        "    trainer.train(n_train_steps=100)"
      ]
    },
    {
      "cell_type": "markdown",
      "metadata": {},
      "source": [
        "## Training for a single datapoint : 1. Experiment!"
      ]
    },
    {
      "cell_type": "code",
      "execution_count": null,
      "metadata": {},
      "outputs": [],
      "source": [
        "# Overfit to a single datapoint\n",
        "\n",
        "\n",
        "# Choose a single trajectory through the dataloader given a batch size of 1, then we do not know exactly what idx that is\n",
        "# single_input = next(iter(trainer.dataloader))\n",
        "# single_input = batch_to_device(single_input, device)\n",
        "\n",
        "# Choose a single trajectory arbitrarily\n",
        "single_input = batchify(trajectory_dataset[800])\n",
        "single_input = batch_to_device(single_input, device)\n",
        "\n",
        "# Just sample the trajectory directly from the dataset:\n",
        "single_input_unnormalized = interpolate_trajectories(dataset[10], 32)\n",
        "\n",
        "# # Start training\n",
        "# diffuser.to(device)\n",
        "# n_epochs = 500  # Overfitting typically requires fewer epochs\n",
        "# for i in tqdm(range(n_epochs)):\n",
        "#     print(f\"Epoch {i} / {n_epochs} | {args.savepath}\")\n",
        "#     trainer.train_single_datapoint(n_train_steps=20, single_input=single_input)"
      ]
    },
    {
      "cell_type": "markdown",
      "metadata": {},
      "source": [
        "## Loading existing model and visualize performance:"
      ]
    },
    {
      "cell_type": "code",
      "execution_count": null,
      "metadata": {},
      "outputs": [],
      "source": [
        "# Load and test the model on the single datapoint:\n",
        "model_path = \"saved_justin_ep100_n100//state_10000.pt\"\n",
        "trainer.load(directory=model_path, epoch=100)"
      ]
    },
    {
      "cell_type": "markdown",
      "metadata": {},
      "source": [
        "### Plot the trajectory taken directly from the dataset:"
      ]
    },
    {
      "cell_type": "code",
      "execution_count": null,
      "metadata": {},
      "outputs": [],
      "source": [
        "# # Plor the orginal trajectory\n",
        "# %matplotlib inline\n",
        "\n",
        "# # Plot the original and diffused trajectories:\n",
        "# # Original:\n",
        "\n",
        "# # Get collision_metric:\n",
        "# distance = robot_env_dist(\n",
        "#     q=single_input_unnormalized[0], robot=trainer.robot, img=trainer.dataset.image[0]\n",
        "# )\n",
        "\n",
        "# score = analyze_distance(distance)\n",
        "\n",
        "# print(f\"Collision score: {score}\")\n",
        "\n",
        "\n",
        "# print(single_input_unnormalized[0].shape)\n",
        "\n",
        "# plot_trajectory_per_frames(single_input_unnormalized[0])\n",
        "# plot_q_values_per_trajectory(single_input_unnormalized[0])\n",
        "\n",
        "\n",
        "# limits = np.array([[-1.25, +1.25], [-1.25, +1.25], [-1.25, +1.25]])\n",
        "# vis.three_pv.animate_path(\n",
        "#     robot=trainer.robot,\n",
        "#     q=single_input_unnormalized[0],\n",
        "#     kwargs_robot=dict(color=\"red\"),\n",
        "#     kwargs_world=dict(img=trainer.dataset.image[0], limits=limits, color=\"yellow\"),\n",
        "# )"
      ]
    },
    {
      "cell_type": "markdown",
      "metadata": {},
      "source": [
        "### Plotting the reference trajectory:"
      ]
    },
    {
      "cell_type": "code",
      "execution_count": null,
      "metadata": {},
      "outputs": [],
      "source": [
        "%matplotlib inline\n",
        "trainer.plot_reference_data(single_input)\n"
      ]
    },
    {
      "cell_type": "markdown",
      "metadata": {},
      "source": []
    },
    {
      "cell_type": "markdown",
      "metadata": {},
      "source": [
        "### Plotting the diffused reconstruction:"
      ]
    },
    {
      "cell_type": "code",
      "execution_count": null,
      "metadata": {},
      "outputs": [],
      "source": [
        "# Now plotting for the diffused trajectory:\n",
        "%matplotlib inline\n",
        "collision_score = trainer.render_given_sample(single_input, render_3d=True)\n",
        "print(f\"Collision score: {collision_score}\")"
      ]
    },
    {
      "cell_type": "code",
      "execution_count": null,
      "metadata": {},
      "outputs": [],
      "source": [
        "# Out of wqorld generalization:\n",
        "dataset = np.load(\"justin_arm/data/q_paths_6547.npy\")\n",
        "dataset_image = np.load(\"justin_arm/data/image_6547.npy\")\n",
        "trajectory_dataset = TrajectoryDataset(\n",
        "    dataset=dataset, horizon=args.horizon, image=dataset_image\n",
        ")\n",
        "\n",
        "robot = robots.JustinArm07()\n",
        "trainer = trainer_config(diffuser, trajectory_dataset, device, robot)\n",
        "\n",
        "\n",
        "# Load model:\n",
        "# Load and test the model on the single datapoint:\n",
        "model_path = \"saved_justin_ep100_n100//state_10000.pt\"\n",
        "trainer.load(directory=model_path, epoch=100)\n",
        "\n",
        "\n",
        "# Load random datapoints:\n",
        "single_input = batchify(trajectory_dataset[10])\n",
        "single_input = batch_to_device(single_input, device)\n",
        "\n",
        "\n",
        "# Compare reference and diffusion:"
      ]
    },
    {
      "cell_type": "code",
      "execution_count": null,
      "metadata": {},
      "outputs": [],
      "source": [
        "%matplotlib inline\n",
        "collision_score = trainer.plot_reference_data(single_input, render_3d=False)\n",
        "print(f\"Collision score: {collision_score}\")"
      ]
    },
    {
      "cell_type": "code",
      "execution_count": null,
      "metadata": {},
      "outputs": [],
      "source": [
        "# Now plotting for the diffused trajectory:\n",
        "%matplotlib inline\n",
        "# empty ndarray of shape (0,args.horizon,7)\n",
        "q_paths = np.zeros((0, args.horizon, 7))\n",
        "for i in range(20):\n",
        "    q_path, collision_score = trainer.render_given_sample(single_input, render_3d=False)\n",
        "    q_path = np.expand_dims(q_path, axis=0)\n",
        "    q_paths = np.append(q_paths, q_path, axis=0)\n"
      ]
    },
    {
      "cell_type": "code",
      "execution_count": null,
      "metadata": {},
      "outputs": [],
      "source": [
        "print(q_paths.shape)"
      ]
    },
    {
      "cell_type": "code",
      "execution_count": null,
      "metadata": {},
      "outputs": [],
      "source": [
        "%matplotlib inline\n",
        "plot_multiple_trajectories(q_paths[:10], q_paths.shape[0])"
      ]
    }
  ],
  "metadata": {
    "accelerator": "GPU",
    "colab": {
      "collapsed_sections": [
        "yP4EZWUtjLEW",
        "Xh7nFzc5jxhB"
      ],
      "gpuType": "T4",
      "provenance": [],
      "toc_visible": true
    },
    "kernelspec": {
      "display_name": "Python 3",
      "name": "python3"
    },
    "language_info": {
      "codemirror_mode": {
        "name": "ipython",
        "version": 3
      },
      "file_extension": ".py",
      "mimetype": "text/x-python",
      "name": "python",
      "nbconvert_exporter": "python",
      "pygments_lexer": "ipython3",
      "version": "3.10.14"
    }
  },
  "nbformat": 4,
  "nbformat_minor": 0
}
