{
 "cells": [
  {
   "cell_type": "code",
   "execution_count": 1,
   "metadata": {},
   "outputs": [],
   "source": [
    "%load_ext autoreload\n",
    "%autoreload 2"
   ]
  },
  {
   "cell_type": "code",
   "execution_count": 3,
   "metadata": {},
   "outputs": [],
   "source": [
    "import os\n",
    "import sys\n",
    "\n",
    "root_dir = os.path.abspath(os.path.join(os.getcwd(), \"..\"))\n",
    "if root_dir not in sys.path:\n",
    "    sys.path.insert(0, root_dir)"
   ]
  },
  {
   "cell_type": "code",
   "execution_count": null,
   "metadata": {},
   "outputs": [],
   "source": [
    "config = \"config.maze2d\"\n",
    "dataset = \"maze2d-large-v1\""
   ]
  },
  {
   "cell_type": "code",
   "execution_count": null,
   "metadata": {},
   "outputs": [],
   "source": [
    "class Args:\n",
    "    def __init__(\n",
    "        self,\n",
    "        loader,\n",
    "\n",
    "        savepath,\n",
    "        dataset,\n",
    "        horizon,\n",
    "        normalizer,\n",
    "        preprocess_fns,\n",
    "        use_padding,\n",
    "        max_path_length,\n",
    "        renderer,\n",
    "    ):\n",
    "        self.loader = loader\n",
    "        self.savepath = savepath\n",
    "        self.dataset = dataset\n",
    "        self.horizon = horizon\n",
    "        self.normalizer = normalizer\n",
    "        self.preprocess_fns = preprocess_fns\n",
    "        self.use_padding = use_padding\n",
    "        self.max_path_length = max_path_length\n",
    "        self.renderer = renderer\n",
    "\n",
    "\n",
    "args = Args(\n",
    "    loader=\"datasets.sequence.GoalDataset\",\n",
    "    savepath=\"saved/\",\n",
    "    dataset=\"maze2d-large-v1\",\n",
    "    horizon=256,\n",
    "    normalizer=\"LimitsNormalizer\",\n",
    "    preprocess_fns=[\"maze2d_set_terminals\"],\n",
    "    use_padding=False,\n",
    "    max_path_length=40000,\n",
    "    renderer=\"utils.rendering.Maze2dRenderer\",\n",
    ")"
   ]
  },
  {
   "cell_type": "code",
   "execution_count": null,
   "metadata": {},
   "outputs": [],
   "source": [
    "from diffuser.utils.config import Config"
   ]
  },
  {
   "cell_type": "code",
   "execution_count": null,
   "metadata": {},
   "outputs": [],
   "source": [
    "# Taking them from the config file (config.maze2d)\n",
    "dataset_config = Config(\n",
    "    args.loader,\n",
    "    savepath=(args.savepath, \"dataset_config.pkl\"),\n",
    "    env=args.dataset,\n",
    "    horizon=args.horizon,\n",
    "    normalizer=args.normalizer,\n",
    "    preprocess_fns=args.preprocess_fns,\n",
    "    use_padding=args.use_padding,\n",
    "    max_path_length=args.max_path_length,\n",
    ")"
   ]
  },
  {
   "cell_type": "markdown",
   "metadata": {},
   "source": []
  },
  {
   "cell_type": "code",
   "execution_count": null,
   "metadata": {},
   "outputs": [],
   "source": [
    "dataset = dataset_config()"
   ]
  },
  {
   "cell_type": "code",
   "execution_count": null,
   "metadata": {},
   "outputs": [],
   "source": [
    "import gymnasium as gym"
   ]
  },
  {
   "cell_type": "code",
   "execution_count": null,
   "metadata": {},
   "outputs": [],
   "source": [
    "import os\n",
    "\n",
    "# Get the list of all environment variables\n",
    "env_vars = os.environ\n",
    "\n",
    "# Print the environment variables\n",
    "for key, value in env_vars.items():\n",
    "    print(f\"{key}: {value}\")"
   ]
  },
  {
   "cell_type": "code",
   "execution_count": null,
   "metadata": {},
   "outputs": [],
   "source": [
    "import mujoco"
   ]
  },
  {
   "cell_type": "code",
   "execution_count": null,
   "metadata": {},
   "outputs": [],
   "source": [
    "render_config = Config(\n",
    "    args.renderer,\n",
    "    savepath=(args.savepath, 'render_config.pkl'),\n",
    "    env=args.dataset,\n",
    ")"
   ]
  },
  {
   "cell_type": "code",
   "execution_count": null,
   "metadata": {},
   "outputs": [],
   "source": [
    "renderer = render_config()"
   ]
  },
  {
   "cell_type": "code",
   "execution_count": null,
   "metadata": {},
   "outputs": [],
   "source": [
    "observation_dim = dataset.observation_dim\n",
    "action_dim = dataset.action_dim\n",
    "\n",
    "\n",
    "#-----------------------------------------------------------------------------#\n",
    "#------------------------------ model & trainer ------------------------------#\n",
    "#-----------------------------------------------------------------------------#\n",
    "\n",
    "model_config = Config(\n",
    "    args.model,\n",
    "    savepath=(args.savepath, 'model_config.pkl'),\n",
    "    horizon=args.horizon,\n",
    "    transition_dim=observation_dim + action_dim,\n",
    "    cond_dim=observation_dim,\n",
    "    dim_mults=args.dim_mults,\n",
    "    device=args.device,\n",
    ")"
   ]
  },
  {
   "cell_type": "code",
   "execution_count": null,
   "metadata": {},
   "outputs": [],
   "source": [
    "diffusion_config = Config(\n",
    "    args.diffusion,\n",
    "    savepath=(args.savepath, 'diffusion_config.pkl'),\n",
    "    horizon=args.horizon,\n",
    "    observation_dim=observation_dim,\n",
    "    action_dim=action_dim,\n",
    "    n_timesteps=args.n_diffusion_steps,\n",
    "    loss_type=args.loss_type,\n",
    "    clip_denoised=args.clip_denoised,\n",
    "    predict_epsilon=args.predict_epsilon,\n",
    "    ## loss weighting\n",
    "    action_weight=args.action_weight,\n",
    "    loss_weights=args.loss_weights,\n",
    "    loss_discount=args.loss_discount,\n",
    "    device=args.device,\n",
    ")"
   ]
  },
  {
   "cell_type": "code",
   "execution_count": null,
   "metadata": {},
   "outputs": [],
   "source": [
    "trainer_config = Config(\n",
    "    utils.Trainer,\n",
    "    savepath=(args.savepath, 'trainer_config.pkl'),\n",
    "    train_batch_size=args.batch_size,\n",
    "    train_lr=args.learning_rate,\n",
    "    gradient_accumulate_every=args.gradient_accumulate_every,\n",
    "    ema_decay=args.ema_decay,\n",
    "    sample_freq=args.sample_freq,\n",
    "    save_freq=args.save_freq,\n",
    "    label_freq=int(args.n_train_steps // args.n_saves),\n",
    "    save_parallel=args.save_parallel,\n",
    "    results_folder=args.savepath,\n",
    "    bucket=args.bucket,\n",
    "    n_reference=args.n_reference,\n",
    "    n_samples=args.n_samples,\n",
    ")"
   ]
  },
  {
   "cell_type": "code",
   "execution_count": null,
   "metadata": {},
   "outputs": [],
   "source": [
    "model = model_config()\n",
    "\n",
    "diffusion = diffusion_config(model)\n",
    "\n",
    "trainer = trainer_config(diffusion, dataset, renderer)"
   ]
  },
  {
   "cell_type": "code",
   "execution_count": null,
   "metadata": {},
   "outputs": [],
   "source": [
    "utils.report_parameters(model)\n",
    "\n",
    "print('Testing forward...', end=' ', flush=True)\n",
    "batch = utils.batchify(dataset[0])\n",
    "loss, _ = diffusion.loss(*batch)\n",
    "loss.backward()\n",
    "print('✓')"
   ]
  }
 ],
 "metadata": {
  "kernelspec": {
   "display_name": "diffuser_test_new",
   "language": "python",
   "name": "python3"
  },
  "language_info": {
   "codemirror_mode": {
    "name": "ipython",
    "version": 3
   },
   "file_extension": ".py",
   "mimetype": "text/x-python",
   "name": "python",
   "nbconvert_exporter": "python",
   "pygments_lexer": "ipython3",
   "version": "3.10.14"
  }
 },
 "nbformat": 4,
 "nbformat_minor": 2
}
