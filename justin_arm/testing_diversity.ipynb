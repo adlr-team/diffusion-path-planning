{
 "cells": [
  {
   "cell_type": "code",
   "execution_count": 1,
   "metadata": {},
   "outputs": [],
   "source": [
    "%load_ext autoreload\n",
    "%autoreload 2"
   ]
  },
  {
   "cell_type": "code",
   "execution_count": 2,
   "metadata": {},
   "outputs": [],
   "source": [
    "import os\n",
    "import sys\n",
    "\n",
    "root_dir = os.path.abspath(os.path.join(os.getcwd(), \"..\"))\n",
    "if root_dir not in sys.path:\n",
    "    sys.path.insert(0, root_dir)"
   ]
  },
  {
   "cell_type": "code",
   "execution_count": null,
   "metadata": {},
   "outputs": [],
   "source": [
    "import pickle\n",
    "\n",
    "import numpy as np\n",
    "from rokin import robots, vis\n",
    "from justin_arm.helper import interpolate_trajectories\n",
    "from justin_arm.visualize import plot_multiple_trajectories\n",
    "from sklearn.cluster import KMeans\n",
    "import pandas as pd\n",
    "\n",
    "# Now plot me the start coords:\n",
    "import matplotlib\n",
    "\n",
    "matplotlib.use(\"TkAgg\")  # Set the backend to TkAgg\n",
    "import matplotlib.pyplot as plt\n",
    "\n",
    "from mpl_toolkits.mplot3d import Axes3D\n",
    "\n",
    "# Ensure we are using an interactive backend"
   ]
  },
  {
   "cell_type": "code",
   "execution_count": null,
   "metadata": {},
   "outputs": [],
   "source": [
    "limits = np.array([[-1.25, +1.25], [-1.25, +1.25], [-1.25, +1.25]])\n",
    "# Load data:\n",
    "# pickle load:\n",
    "raw_path_4123 = pickle.load(open(\"justin_arm/data/paths_raw_4123.pkl\", \"rb\"))\n",
    "world_4123 = pickle.load(open(\"justin_arm/data/world_4123.pkl\", \"rb\"))\n",
    "\n",
    "\n",
    "paths_4123 = np.load(\"justin_arm/data/q_paths_2115.npy\")\n",
    "image_4123 = np.load(\"justin_arm/data/image_2115.npy\")\n",
    "\n",
    "\n",
    "robot = robots.JustinArm07()\n",
    "# alternative: three_pv - pyvista; mc meshcat"
   ]
  },
  {
   "cell_type": "code",
   "execution_count": null,
   "metadata": {},
   "outputs": [],
   "source": [
    "# interpolate and visualize:\n",
    "interpol_path = interpolate_trajectories(paths_4123, 32)\n",
    "print(interpol_path.shape)"
   ]
  },
  {
   "cell_type": "code",
   "execution_count": null,
   "metadata": {},
   "outputs": [],
   "source": [
    "# Now I want to transform the q values to the world coordinates:\n",
    "\n",
    "frames = robot.get_frames(interpol_path)\n",
    "print(frames.shape)"
   ]
  },
  {
   "cell_type": "code",
   "execution_count": null,
   "metadata": {},
   "outputs": [],
   "source": [
    "# Extract the X,Y,Z coordinates of the end effector stored for each waypoint of a path as the coordinates\n",
    "start_coords = []\n",
    "end_coords = []\n",
    "\n",
    "\n",
    "for i in range(frames.shape[0]):\n",
    "    start = frames[i, 0, 7, :, :]\n",
    "    end = frames[i, -1, 7, :, :]\n",
    "    # Extract the X, Y, Z coordinates (assuming they are in the last row and first three columns)\n",
    "    x_start = start[0, 3]\n",
    "    y_start = start[1, 3]\n",
    "    z_start = start[2, 3]\n",
    "\n",
    "    x_end = end[0, 3]\n",
    "    y_end = end[1, 3]\n",
    "    z_end = end[2, 3]\n",
    "\n",
    "    start_coords.append([x_start, y_start, z_start])\n",
    "    end_coords.append([x_end, y_end, z_end])"
   ]
  },
  {
   "cell_type": "code",
   "execution_count": null,
   "metadata": {},
   "outputs": [],
   "source": [
    "print(start_coords[0])"
   ]
  },
  {
   "cell_type": "code",
   "execution_count": null,
   "metadata": {},
   "outputs": [],
   "source": [
    "# Initialize the trajectories list\n",
    "trajectories = []\n",
    "# Transform the lists into the desired structure\n",
    "for start, end in zip(start_coords, end_coords):\n",
    "    trajectories.append({\"start\": start, \"end\": end})\n",
    "\n",
    "print(len(trajectories))\n",
    "# Define the boundaries for 3D\n",
    "x_boundaries = [-1.0, 0.0, 1.0]\n",
    "y_boundaries = [-1.0, 0.0, 1.0]\n",
    "z_boundaries = [-1.0, 0.0, 1.0]\n",
    "# Define regions\n",
    "regions = {}\n",
    "index = 1\n",
    "for i in range(2):\n",
    "    for j in range(2):\n",
    "        for k in range(2):\n",
    "            region_name = f\"R_{i+1}{j+1}{k+1}\"\n",
    "            regions[region_name] = {\n",
    "                \"x\": (x_boundaries[i], x_boundaries[i + 1]),\n",
    "                \"y\": (y_boundaries[j], y_boundaries[j + 1]),\n",
    "                \"z\": (z_boundaries[k], z_boundaries[k + 1]),\n",
    "            }\n",
    "            index += 1\n",
    "\n",
    "\n",
    "# Function to determine the region of a point\n",
    "def find_region(point):\n",
    "    for region, bounds in regions.items():\n",
    "        # print(f\"Bounds: {bounds}\")\n",
    "        # print(f\"Point:{point}\")\n",
    "        if (\n",
    "            bounds[\"x\"][0] <= point[0] < bounds[\"x\"][1]\n",
    "            and bounds[\"y\"][0] <= point[1] < bounds[\"y\"][1]\n",
    "            and bounds[\"z\"][0] <= point[2] < bounds[\"z\"][1]\n",
    "        ):\n",
    "            return region\n",
    "\n",
    "    print(f\"No region found for point: {point}\")\n",
    "    print(f\"Bound: {bounds}\")\n",
    "    return None\n",
    "\n",
    "\n",
    "# Cluster trajectories\n",
    "clusters = {\n",
    "    region: {other_region: {\"count\": 0, \"indices\": []} for other_region in regions}\n",
    "    for region in regions\n",
    "}\n",
    "print(clusters)\n",
    "for idx, trajectory in enumerate(trajectories):\n",
    "    start_region = find_region(trajectory[\"start\"])\n",
    "    end_region = find_region(trajectory[\"end\"])\n",
    "    if start_region and end_region:\n",
    "        clusters[start_region][end_region][\"count\"] += 1\n",
    "        clusters[start_region][end_region][\"indices\"].append(idx)\n",
    "\n",
    "    else:\n",
    "        print(\"No matching region found\")\n",
    "        # print(trajectory[\"start\"])\n",
    "        # print(trajectory[\"end\"])\n",
    "\n",
    "\n",
    "cluster_counts = {\n",
    "    region: {\n",
    "        other_region: clusters[region][other_region][\"count\"]\n",
    "        for other_region in regions\n",
    "    }\n",
    "    for region in regions\n",
    "}\n",
    "clusters_df = pd.DataFrame(cluster_counts).T\n",
    "print(clusters_df)"
   ]
  },
  {
   "cell_type": "code",
   "execution_count": null,
   "metadata": {},
   "outputs": [],
   "source": [
    "# Sum all entries in the dataframe\n",
    "total = clusters_df.sum().sum()\n",
    "print(total)\n",
    "\n",
    "# Example for the indices of Cluster R_111 to R_111"
   ]
  },
  {
   "cell_type": "code",
   "execution_count": null,
   "metadata": {},
   "outputs": [],
   "source": [
    "from justin_arm.visualize import plot_q_values_per_trajectory\n",
    "\n",
    "indices = clusters[\"R_111\"][\"R_222\"][\"indices\"]\n",
    "frames_indices = frames[indices]\n",
    "# Filter me q_paths where where isin the indices of the cluster\n",
    "q_paths_r112_r212 = paths_4123[indices]\n",
    "start_coords_r112_r212 = [start_coords[idx] for idx in indices]\n",
    "end_coords_r112_r212 = [end_coords[idx] for idx in indices]\n",
    "\n",
    "\n",
    "# # Visualize the first cluster\n",
    "plot_multiple_trajectories(q_paths_r112_r212)\n",
    "plot_q_values_per_trajectory(q_paths_r112_r212)"
   ]
  },
  {
   "cell_type": "code",
   "execution_count": null,
   "metadata": {},
   "outputs": [],
   "source": []
  },
  {
   "cell_type": "code",
   "execution_count": null,
   "metadata": {},
   "outputs": [],
   "source": [
    "%matplotlib inline\n",
    "\n",
    "import matplotlib.pyplot as plt\n",
    "from mpl_toolkits.mplot3d import Axes3D\n",
    "\n",
    "fig = plt.figure()\n",
    "ax = fig.add_subplot(111, projection=\"3d\")\n",
    "for i in range(len(start_coords_r112_r212)):\n",
    "    ax.scatter(\n",
    "        start_coords_r112_r212[i][0],\n",
    "        start_coords_r112_r212[i][1],\n",
    "        start_coords_r112_r212[i][2],\n",
    "        c=\"r\",\n",
    "    )\n",
    "    ax.scatter(\n",
    "        end_coords_r112_r212[i][0],\n",
    "        end_coords_r112_r212[i][1],\n",
    "        end_coords_r112_r212[i][2],\n",
    "        c=\"b\",\n",
    "    )\n",
    "\n",
    "plt.show()"
   ]
  },
  {
   "cell_type": "code",
   "execution_count": null,
   "metadata": {},
   "outputs": [],
   "source": [
    "start_coords = np.array(start_coords)\n",
    "end_coords = np.array(end_coords)\n",
    "\n",
    "print(start_coords.shape)\n",
    "print(end_coords.shape)\n",
    "\n",
    "# Do some statistics min max on this data:\n",
    "print(\"Start coords:\")\n",
    "print(np.min(start_coords, axis=0))\n",
    "print(np.max(start_coords, axis=0))\n",
    "print(\"End coords:\")\n",
    "print(np.min(end_coords, axis=0))\n",
    "print(np.max(end_coords, axis=0))"
   ]
  },
  {
   "cell_type": "code",
   "execution_count": null,
   "metadata": {},
   "outputs": [],
   "source": [
    "# fig = plt.figure()\n",
    "# ax = fig.add_subplot(111, projection=\"3d\")\n",
    "# ax.scatter(start_coords[:, 0], start_coords[:, 1], start_coords[:, 2], color=\"r\")\n",
    "# ax.scatter(end_coords[:, 0], end_coords[:, 1], end_coords[:, 2], color=\"b\")\n",
    "# plt.show()"
   ]
  },
  {
   "cell_type": "code",
   "execution_count": null,
   "metadata": {},
   "outputs": [],
   "source": [
    "# Combine start and end coordinates into a single feature vector for each trajectory\n",
    "trajectory_features = [start + end for start, end in zip(start_coords, end_coords)]\n",
    "trajectory_features = np.array(trajectory_features)\n",
    "\n",
    "# Define the number of clusters\n",
    "num_clusters = 8\n",
    "\n",
    "# Apply k-means clustering\n",
    "kmeans = KMeans(n_clusters=num_clusters, random_state=0).fit(trajectory_features)\n",
    "\n",
    "# Get cluster labels\n",
    "labels = kmeans.labels_"
   ]
  },
  {
   "cell_type": "code",
   "execution_count": null,
   "metadata": {},
   "outputs": [],
   "source": [
    "# Cound the distribution of labels\n",
    "unique, counts = np.unique(labels, return_counts=True)\n",
    "print(dict(zip(unique, counts)))\n",
    "\n",
    "# Store the indices of each cluster ina dictionary\n",
    "cluster_indices = {}\n",
    "for i in range(num_clusters):\n",
    "    cluster_indices[i] = np.where(labels == i)[0]"
   ]
  },
  {
   "cell_type": "code",
   "execution_count": null,
   "metadata": {},
   "outputs": [],
   "source": [
    "# RETRIEVE THE PATHS OF THE FIRST CLUSTER\n",
    "frames_0 = [cluster_indices[1]]\n",
    "\n",
    "\n",
    "# Visualize the first cluster\n",
    "plot_multiple_trajectories(frames_0, 10)"
   ]
  },
  {
   "cell_type": "code",
   "execution_count": null,
   "metadata": {},
   "outputs": [],
   "source": [
    "%matplotlib inline \n",
    "\n",
    "# Given the labels for each trajectory, we can now plot the trajectories in different colors\n",
    "fig = plt.figure()\n",
    "ax = fig.add_subplot(111, projection=\"3d\")\n",
    "colors = [\"r\", \"g\", \"b\", \"y\", \"c\", \"m\", \"k\", \"w\"]\n",
    "for i in range(num_clusters):\n",
    "    ax.scatter(\n",
    "        start_coords[labels == i, 0],\n",
    "        start_coords[labels == i, 1],\n",
    "        start_coords[labels == i, 2],\n",
    "        color=colors[i],\n",
    "    )\n",
    "\n",
    "plt.show()\n",
    "plt.savefig(\"start_coords.png\")"
   ]
  },
  {
   "cell_type": "code",
   "execution_count": null,
   "metadata": {},
   "outputs": [],
   "source": [
    "# # Visualize:\n",
    "# vis.three_mc.animate_path(\n",
    "#     robot=robot,\n",
    "#     q=paths_4123[10],\n",
    "#     kwargs_robot=dict(color=\"red\", alpha=0.2),\n",
    "#     kwargs_world=dict(img=image_4123[0], limits=limits, color=\"yellow\"),\n",
    "# )\n",
    "# input()\n",
    "\n",
    "# # vis.three_pv.animate_path(robot=robot, q=q_paths[0],\n",
    "# #                           kwargs_world=dict(img=obstacle_images[2], limits=limits))\n",
    "\n",
    "# # move through animation with arrow keys"
   ]
  },
  {
   "cell_type": "code",
   "execution_count": null,
   "metadata": {},
   "outputs": [],
   "source": []
  }
 ],
 "metadata": {
  "kernelspec": {
   "display_name": "robot_path",
   "language": "python",
   "name": "python3"
  },
  "language_info": {
   "codemirror_mode": {
    "name": "ipython",
    "version": 3
   },
   "file_extension": ".py",
   "mimetype": "text/x-python",
   "name": "python",
   "nbconvert_exporter": "python",
   "pygments_lexer": "ipython3",
   "version": "3.11.9"
  }
 },
 "nbformat": 4,
 "nbformat_minor": 2
}
