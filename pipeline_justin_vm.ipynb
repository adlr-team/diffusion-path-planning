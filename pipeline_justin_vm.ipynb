{
  "cells": [
    {
      "cell_type": "markdown",
      "metadata": {},
      "source": [
        "## Imports"
      ]
    },
    {
      "cell_type": "code",
      "execution_count": null,
      "metadata": {
        "colab": {
          "base_uri": "https://localhost:8080/"
        },
        "id": "LRAev-KUifbW",
        "outputId": "f70d8a10-4ddb-4bd6-8f38-cbc841993bb5"
      },
      "outputs": [],
      "source": [
        "%load_ext autoreload\n",
        "%autoreload 2"
      ]
    },
    {
      "cell_type": "code",
      "execution_count": 1,
      "metadata": {
        "id": "APRB2VcQU5C2"
      },
      "outputs": [
        {
          "name": "stdout",
          "output_type": "stream",
          "text": [
            "Matplotlib - Backend: 'headless' mode detected -> use 'Agg'\n",
            "Paths:(984, 20, 7)\n",
            "Abort code generation:\n",
            " c++ -files for the robot JustinArm07 in /opt/conda/envs/new_diffuser/lib/python3.10/site-packages/rokin/robots/JustinArm07/cpp exist already.Use `replace=True` to generate them newly and overwrite the old files.\n"
          ]
        },
        {
          "name": "stderr",
          "output_type": "stream",
          "text": [
            "/opt/conda/envs/new_diffuser/lib/python3.10/site-packages/rokin/robots/Robot.py:68: UserWarning: ModuleNotFoundError\n",
            "  warnings.warn(\"ModuleNotFoundError\")\n"
          ]
        },
        {
          "name": "stdout",
          "output_type": "stream",
          "text": [
            "Obtaining file:///opt/conda/envs/new_diffuser/lib/python3.10/site-packages/rokin/robots/JustinArm07/cpp\n",
            "  Preparing metadata (setup.py): started\n",
            "  Preparing metadata (setup.py): finished with status 'done'\n",
            "Installing collected packages: rokinrobotsJustinArm07\n",
            "  Running setup.py develop for rokinrobotsJustinArm07\n"
          ]
        },
        {
          "name": "stderr",
          "output_type": "stream",
          "text": [
            "    \u001b[1;31merror\u001b[0m: \u001b[1msubprocess-exited-with-error\u001b[0m\n",
            "    \n",
            "    \u001b[31m×\u001b[0m \u001b[32mpython setup.py develop\u001b[0m did not run successfully.\n",
            "    \u001b[31m│\u001b[0m exit code: \u001b[1;36m1\u001b[0m\n",
            "    \u001b[31m╰─>\u001b[0m \u001b[31m[129 lines of output]\u001b[0m\n",
            "    \u001b[31m   \u001b[0m Matplotlib - Backend: 'headless' mode detected -> use 'Agg'\n",
            "    \u001b[31m   \u001b[0m running develop\n",
            "    \u001b[31m   \u001b[0m /opt/conda/envs/new_diffuser/lib/python3.10/site-packages/setuptools/command/develop.py:42: EasyInstallDeprecationWarning: easy_install command is deprecated.\n",
            "    \u001b[31m   \u001b[0m !!\n",
            "    \u001b[31m   \u001b[0m \n",
            "    \u001b[31m   \u001b[0m         ********************************************************************************\n",
            "    \u001b[31m   \u001b[0m         Please avoid running ``setup.py`` and ``easy_install``.\n",
            "    \u001b[31m   \u001b[0m         Instead, use pypa/build, pypa/installer or other\n",
            "    \u001b[31m   \u001b[0m         standards-based tools.\n",
            "    \u001b[31m   \u001b[0m \n",
            "    \u001b[31m   \u001b[0m         See https://github.com/pypa/setuptools/issues/917 for details.\n",
            "    \u001b[31m   \u001b[0m         ********************************************************************************\n",
            "    \u001b[31m   \u001b[0m \n",
            "    \u001b[31m   \u001b[0m !!\n",
            "    \u001b[31m   \u001b[0m   easy_install.initialize_options(self)\n",
            "    \u001b[31m   \u001b[0m /opt/conda/envs/new_diffuser/lib/python3.10/site-packages/setuptools/_distutils/cmd.py:66: SetuptoolsDeprecationWarning: setup.py install is deprecated.\n",
            "    \u001b[31m   \u001b[0m !!\n",
            "    \u001b[31m   \u001b[0m \n",
            "    \u001b[31m   \u001b[0m         ********************************************************************************\n",
            "    \u001b[31m   \u001b[0m         Please avoid running ``setup.py`` directly.\n",
            "    \u001b[31m   \u001b[0m         Instead, use pypa/build, pypa/installer or other\n",
            "    \u001b[31m   \u001b[0m         standards-based tools.\n",
            "    \u001b[31m   \u001b[0m \n",
            "    \u001b[31m   \u001b[0m         See https://blog.ganssle.io/articles/2021/10/setup-py-deprecated.html for details.\n",
            "    \u001b[31m   \u001b[0m         ********************************************************************************\n",
            "    \u001b[31m   \u001b[0m \n",
            "    \u001b[31m   \u001b[0m !!\n",
            "    \u001b[31m   \u001b[0m   self.initialize_options()\n",
            "    \u001b[31m   \u001b[0m running egg_info\n",
            "    \u001b[31m   \u001b[0m writing rokinrobotsJustinArm07.egg-info/PKG-INFO\n",
            "    \u001b[31m   \u001b[0m writing dependency_links to rokinrobotsJustinArm07.egg-info/dependency_links.txt\n",
            "    \u001b[31m   \u001b[0m writing top-level names to rokinrobotsJustinArm07.egg-info/top_level.txt\n",
            "    \u001b[31m   \u001b[0m reading manifest file 'rokinrobotsJustinArm07.egg-info/SOURCES.txt'\n",
            "    \u001b[31m   \u001b[0m writing manifest file 'rokinrobotsJustinArm07.egg-info/SOURCES.txt'\n",
            "    \u001b[31m   \u001b[0m running build_ext\n",
            "    \u001b[31m   \u001b[0m building 'rokinrobotsJustinArm07' extension\n",
            "    \u001b[31m   \u001b[0m gcc -pthread -B /opt/conda/envs/new_diffuser/compiler_compat -Wno-unused-result -Wsign-compare -DNDEBUG -fwrapv -O2 -Wall -fPIC -O2 -isystem /opt/conda/envs/new_diffuser/include -fPIC -O2 -isystem /opt/conda/envs/new_diffuser/include -fPIC -I/usr/include/eigen3 -I/opt/conda/envs/new_diffuser/include/python3.10 -c ./JustinArm07.cpp -o build/temp.linux-x86_64-cpython-310/./JustinArm07.o -std=c++1y -ffast-math -Ofast -fpermissive -DEIGEN_STACK_ALLOCATION_LIMIT=524288\n",
            "    \u001b[31m   \u001b[0m ./JustinArm07.cpp: In function ‘void frames_to_jacs(FRAMES&, JACS&)’:\n",
            "    \u001b[31m   \u001b[0m ./JustinArm07.cpp:51:32: error: ‘seq’ is not a member of ‘Eigen’\n",
            "    \u001b[31m   \u001b[0m    51 |             j(i_j, i_f)(Eigen::seq(0, 2), Eigen::indexing::all) = get_jac_twist(f(i_f), f(jflii[i_j][0]));\n",
            "    \u001b[31m   \u001b[0m       |                                ^~~\n",
            "    \u001b[31m   \u001b[0m ./JustinArm07.cpp:51:50: error: ‘Eigen::indexing’ has not been declared\n",
            "    \u001b[31m   \u001b[0m    51 |             j(i_j, i_f)(Eigen::seq(0, 2), Eigen::indexing::all) = get_jac_twist(f(i_f), f(jflii[i_j][0]));\n",
            "    \u001b[31m   \u001b[0m       |                                                  ^~~~~~~~\n",
            "    \u001b[31m   \u001b[0m ./JustinArm07.cpp: In function ‘Matrix34Row get_jac_twist(Matrix44Row&, Matrix44Row&)’:\n",
            "    \u001b[31m   \u001b[0m ./JustinArm07.cpp:59:14: error: ‘Eigen::indexing’ has not been declared\n",
            "    \u001b[31m   \u001b[0m    59 |     t(Eigen::indexing::all, 0) = ((Eigen::Vector3d) fj(Eigen::seq(0, 2), 2)).cross((Eigen::Vector3d) f(Eigen::seq(0, 2), 0));\n",
            "    \u001b[31m   \u001b[0m       |              ^~~~~~~~\n",
            "    \u001b[31m   \u001b[0m ./JustinArm07.cpp:59:63: error: ‘seq’ is not a member of ‘Eigen’\n",
            "    \u001b[31m   \u001b[0m    59 |     t(Eigen::indexing::all, 0) = ((Eigen::Vector3d) fj(Eigen::seq(0, 2), 2)).cross((Eigen::Vector3d) f(Eigen::seq(0, 2), 0));\n",
            "    \u001b[31m   \u001b[0m       |                                                               ^~~\n",
            "    \u001b[31m   \u001b[0m ./JustinArm07.cpp:59:111: error: ‘seq’ is not a member of ‘Eigen’\n",
            "    \u001b[31m   \u001b[0m    59 |     t(Eigen::indexing::all, 0) = ((Eigen::Vector3d) fj(Eigen::seq(0, 2), 2)).cross((Eigen::Vector3d) f(Eigen::seq(0, 2), 0));\n",
            "    \u001b[31m   \u001b[0m       |                                                                                                               ^~~\n",
            "    \u001b[31m   \u001b[0m ./JustinArm07.cpp:60:14: error: ‘Eigen::indexing’ has not been declared\n",
            "    \u001b[31m   \u001b[0m    60 |     t(Eigen::indexing::all, 1) = ((Eigen::Vector3d) fj(Eigen::seq(0, 2), 2)).cross((Eigen::Vector3d) f(Eigen::seq(0, 2), 1));\n",
            "    \u001b[31m   \u001b[0m       |              ^~~~~~~~\n",
            "    \u001b[31m   \u001b[0m ./JustinArm07.cpp:60:63: error: ‘seq’ is not a member of ‘Eigen’\n",
            "    \u001b[31m   \u001b[0m    60 |     t(Eigen::indexing::all, 1) = ((Eigen::Vector3d) fj(Eigen::seq(0, 2), 2)).cross((Eigen::Vector3d) f(Eigen::seq(0, 2), 1));\n",
            "    \u001b[31m   \u001b[0m       |                                                               ^~~\n",
            "    \u001b[31m   \u001b[0m ./JustinArm07.cpp:60:111: error: ‘seq’ is not a member of ‘Eigen’\n",
            "    \u001b[31m   \u001b[0m    60 |     t(Eigen::indexing::all, 1) = ((Eigen::Vector3d) fj(Eigen::seq(0, 2), 2)).cross((Eigen::Vector3d) f(Eigen::seq(0, 2), 1));\n",
            "    \u001b[31m   \u001b[0m       |                                                                                                               ^~~\n",
            "    \u001b[31m   \u001b[0m ./JustinArm07.cpp:61:14: error: ‘Eigen::indexing’ has not been declared\n",
            "    \u001b[31m   \u001b[0m    61 |     t(Eigen::indexing::all, 2) = ((Eigen::Vector3d) fj(Eigen::seq(0, 2), 2)).cross((Eigen::Vector3d) f(Eigen::seq(0, 2), 2));\n",
            "    \u001b[31m   \u001b[0m       |              ^~~~~~~~\n",
            "    \u001b[31m   \u001b[0m ./JustinArm07.cpp:61:63: error: ‘seq’ is not a member of ‘Eigen’\n",
            "    \u001b[31m   \u001b[0m    61 |     t(Eigen::indexing::all, 2) = ((Eigen::Vector3d) fj(Eigen::seq(0, 2), 2)).cross((Eigen::Vector3d) f(Eigen::seq(0, 2), 2));\n",
            "    \u001b[31m   \u001b[0m       |                                                               ^~~\n",
            "    \u001b[31m   \u001b[0m ./JustinArm07.cpp:61:111: error: ‘seq’ is not a member of ‘Eigen’\n",
            "    \u001b[31m   \u001b[0m    61 |     t(Eigen::indexing::all, 2) = ((Eigen::Vector3d) fj(Eigen::seq(0, 2), 2)).cross((Eigen::Vector3d) f(Eigen::seq(0, 2), 2));\n",
            "    \u001b[31m   \u001b[0m       |                                                                                                               ^~~\n",
            "    \u001b[31m   \u001b[0m ./JustinArm07.cpp:62:14: error: ‘Eigen::indexing’ has not been declared\n",
            "    \u001b[31m   \u001b[0m    62 |     t(Eigen::indexing::all, 3) = ((Eigen::Vector3d) fj(Eigen::seq(0, 2), 2)).cross(((Eigen::Vector3d) f(Eigen::seq(0, 2), 3) - fj(Eigen::seq(0, 2), 3)));\n",
            "    \u001b[31m   \u001b[0m       |              ^~~~~~~~\n",
            "    \u001b[31m   \u001b[0m ./JustinArm07.cpp:62:63: error: ‘seq’ is not a member of ‘Eigen’\n",
            "    \u001b[31m   \u001b[0m    62 |     t(Eigen::indexing::all, 3) = ((Eigen::Vector3d) fj(Eigen::seq(0, 2), 2)).cross(((Eigen::Vector3d) f(Eigen::seq(0, 2), 3) - fj(Eigen::seq(0, 2), 3)));\n",
            "    \u001b[31m   \u001b[0m       |                                                               ^~~\n",
            "    \u001b[31m   \u001b[0m ./JustinArm07.cpp:62:112: error: ‘seq’ is not a member of ‘Eigen’\n",
            "    \u001b[31m   \u001b[0m    62 |     t(Eigen::indexing::all, 3) = ((Eigen::Vector3d) fj(Eigen::seq(0, 2), 2)).cross(((Eigen::Vector3d) f(Eigen::seq(0, 2), 3) - fj(Eigen::seq(0, 2), 3)));\n",
            "    \u001b[31m   \u001b[0m       |                                                                                                                ^~~\n",
            "    \u001b[31m   \u001b[0m ./JustinArm07.cpp:62:138: error: ‘seq’ is not a member of ‘Eigen’\n",
            "    \u001b[31m   \u001b[0m    62 |     t(Eigen::indexing::all, 3) = ((Eigen::Vector3d) fj(Eigen::seq(0, 2), 2)).cross(((Eigen::Vector3d) f(Eigen::seq(0, 2), 3) - fj(Eigen::seq(0, 2), 3)));\n",
            "    \u001b[31m   \u001b[0m       |                                                                                                                                          ^~~\n",
            "    \u001b[31m   \u001b[0m ./JustinArm07.cpp: In function ‘Matrix16Row frames_to_jacs6_tcp_i(FRAMES&, int, int)’:\n",
            "    \u001b[31m   \u001b[0m ./JustinArm07.cpp:92:17: error: ‘seq’ is not a member of ‘Eigen’\n",
            "    \u001b[31m   \u001b[0m    92 |     j(0, Eigen::seq(0, 2)) = ((Eigen::Vector3d) (f(i_f)(Eigen::seq(0, 2), 2))).cross(((Eigen::Vector3d) f(i_tcp)(Eigen::seq(0, 2), 3) - f(i_f)(Eigen::seq(0, 2), 3)));\n",
            "    \u001b[31m   \u001b[0m       |                 ^~~\n",
            "    \u001b[31m   \u001b[0m ./JustinArm07.cpp:92:64: error: ‘seq’ is not a member of ‘Eigen’\n",
            "    \u001b[31m   \u001b[0m    92 |     j(0, Eigen::seq(0, 2)) = ((Eigen::Vector3d) (f(i_f)(Eigen::seq(0, 2), 2))).cross(((Eigen::Vector3d) f(i_tcp)(Eigen::seq(0, 2), 3) - f(i_f)(Eigen::seq(0, 2), 3)));\n",
            "    \u001b[31m   \u001b[0m       |                                                                ^~~\n",
            "    \u001b[31m   \u001b[0m ./JustinArm07.cpp:92:121: error: ‘seq’ is not a member of ‘Eigen’\n",
            "    \u001b[31m   \u001b[0m    92 |     j(0, Eigen::seq(0, 2)) = ((Eigen::Vector3d) (f(i_f)(Eigen::seq(0, 2), 2))).cross(((Eigen::Vector3d) f(i_tcp)(Eigen::seq(0, 2), 3) - f(i_f)(Eigen::seq(0, 2), 3)));\n",
            "    \u001b[31m   \u001b[0m       |                                                                                                                         ^~~\n",
            "    \u001b[31m   \u001b[0m ./JustinArm07.cpp:92:151: error: ‘seq’ is not a member of ‘Eigen’\n",
            "    \u001b[31m   \u001b[0m    92 |     j(0, Eigen::seq(0, 2)) = ((Eigen::Vector3d) (f(i_f)(Eigen::seq(0, 2), 2))).cross(((Eigen::Vector3d) f(i_tcp)(Eigen::seq(0, 2), 3) - f(i_f)(Eigen::seq(0, 2), 3)));\n",
            "    \u001b[31m   \u001b[0m       |                                                                                                                                                       ^~~\n",
            "    \u001b[31m   \u001b[0m ./JustinArm07.cpp:93:17: error: ‘seq’ is not a member of ‘Eigen’\n",
            "    \u001b[31m   \u001b[0m    93 |     j(0, Eigen::seq(3, 5)) = (Eigen::Vector3d) f(i_f)(Eigen::seq(0, 2), 2);\n",
            "    \u001b[31m   \u001b[0m       |                 ^~~\n",
            "    \u001b[31m   \u001b[0m ./JustinArm07.cpp:93:62: error: ‘seq’ is not a member of ‘Eigen’\n",
            "    \u001b[31m   \u001b[0m    93 |     j(0, Eigen::seq(3, 5)) = (Eigen::Vector3d) f(i_f)(Eigen::seq(0, 2), 2);\n",
            "    \u001b[31m   \u001b[0m       |                                                              ^~~\n",
            "    \u001b[31m   \u001b[0m ./JustinArm07.cpp: In function ‘Matrix16Row jacs6_to_hess6_tcp_ij(Matrix16Row&, Matrix16Row&, Matrix16Row&, int, int)’:\n",
            "    \u001b[31m   \u001b[0m ./JustinArm07.cpp:132:24: error: ‘seq’ is not a member of ‘Eigen’\n",
            "    \u001b[31m   \u001b[0m   132 |         h_ij(0, Eigen::seq(0, 2)) = ((Eigen::Vector3d) j6_i(0, Eigen::seq(3, 5))).cross((Eigen::Vector3d) j6_j(0, Eigen::seq(0, 2)));\n",
            "    \u001b[31m   \u001b[0m       |                        ^~~\n",
            "    \u001b[31m   \u001b[0m ./JustinArm07.cpp:132:71: error: ‘seq’ is not a member of ‘Eigen’\n",
            "    \u001b[31m   \u001b[0m   132 |         h_ij(0, Eigen::seq(0, 2)) = ((Eigen::Vector3d) j6_i(0, Eigen::seq(3, 5))).cross((Eigen::Vector3d) j6_j(0, Eigen::seq(0, 2)));\n",
            "    \u001b[31m   \u001b[0m       |                                                                       ^~~\n",
            "    \u001b[31m   \u001b[0m ./JustinArm07.cpp:132:122: error: ‘seq’ is not a member of ‘Eigen’\n",
            "    \u001b[31m   \u001b[0m   132 |         h_ij(0, Eigen::seq(0, 2)) = ((Eigen::Vector3d) j6_i(0, Eigen::seq(3, 5))).cross((Eigen::Vector3d) j6_j(0, Eigen::seq(0, 2)));\n",
            "    \u001b[31m   \u001b[0m       |                                                                                                                          ^~~\n",
            "    \u001b[31m   \u001b[0m ./JustinArm07.cpp:134:24: error: ‘seq’ is not a member of ‘Eigen’\n",
            "    \u001b[31m   \u001b[0m   134 |         h_ij(0, Eigen::seq(0, 2)) = h6_ji(0, Eigen::seq(0, 2));\n",
            "    \u001b[31m   \u001b[0m       |                        ^~~\n",
            "    \u001b[31m   \u001b[0m ./JustinArm07.cpp:134:53: error: ‘seq’ is not a member of ‘Eigen’\n",
            "    \u001b[31m   \u001b[0m   134 |         h_ij(0, Eigen::seq(0, 2)) = h6_ji(0, Eigen::seq(0, 2));\n",
            "    \u001b[31m   \u001b[0m       |                                                     ^~~\n",
            "    \u001b[31m   \u001b[0m ./JustinArm07.cpp:138:23: error: ‘seq’ is not a member of ‘Eigen’\n",
            "    \u001b[31m   \u001b[0m   138 |        h_ij(0, Eigen::seq(3, 5)) = ((Eigen::Vector3d) j6_i(0, Eigen::seq(3, 5))).cross((Eigen::Vector3d) j6_j(0, Eigen::seq(3, 5)));\n",
            "    \u001b[31m   \u001b[0m       |                       ^~~\n",
            "    \u001b[31m   \u001b[0m ./JustinArm07.cpp:138:70: error: ‘seq’ is not a member of ‘Eigen’\n",
            "    \u001b[31m   \u001b[0m   138 |        h_ij(0, Eigen::seq(3, 5)) = ((Eigen::Vector3d) j6_i(0, Eigen::seq(3, 5))).cross((Eigen::Vector3d) j6_j(0, Eigen::seq(3, 5)));\n",
            "    \u001b[31m   \u001b[0m       |                                                                      ^~~\n",
            "    \u001b[31m   \u001b[0m ./JustinArm07.cpp:138:121: error: ‘seq’ is not a member of ‘Eigen’\n",
            "    \u001b[31m   \u001b[0m   138 |        h_ij(0, Eigen::seq(3, 5)) = ((Eigen::Vector3d) j6_i(0, Eigen::seq(3, 5))).cross((Eigen::Vector3d) j6_j(0, Eigen::seq(3, 5)));\n",
            "    \u001b[31m   \u001b[0m       |                                                                                                                         ^~~\n",
            "    \u001b[31m   \u001b[0m error: command '/usr/bin/gcc' failed with exit code 1\n",
            "    \u001b[31m   \u001b[0m \u001b[31m[end of output]\u001b[0m\n",
            "    \n",
            "    \u001b[1;35mnote\u001b[0m: This error originates from a subprocess, and is likely not a problem with pip.\n",
            "\u001b[1;31merror\u001b[0m: \u001b[1msubprocess-exited-with-error\u001b[0m\n",
            "\n",
            "\u001b[31m×\u001b[0m \u001b[32mpython setup.py develop\u001b[0m did not run successfully.\n",
            "\u001b[31m│\u001b[0m exit code: \u001b[1;36m1\u001b[0m\n",
            "\u001b[31m╰─>\u001b[0m \u001b[31m[129 lines of output]\u001b[0m\n",
            "\u001b[31m   \u001b[0m Matplotlib - Backend: 'headless' mode detected -> use 'Agg'\n",
            "\u001b[31m   \u001b[0m running develop\n",
            "\u001b[31m   \u001b[0m /opt/conda/envs/new_diffuser/lib/python3.10/site-packages/setuptools/command/develop.py:42: EasyInstallDeprecationWarning: easy_install command is deprecated.\n",
            "\u001b[31m   \u001b[0m !!\n",
            "\u001b[31m   \u001b[0m \n",
            "\u001b[31m   \u001b[0m         ********************************************************************************\n",
            "\u001b[31m   \u001b[0m         Please avoid running ``setup.py`` and ``easy_install``.\n",
            "\u001b[31m   \u001b[0m         Instead, use pypa/build, pypa/installer or other\n",
            "\u001b[31m   \u001b[0m         standards-based tools.\n",
            "\u001b[31m   \u001b[0m \n",
            "\u001b[31m   \u001b[0m         See https://github.com/pypa/setuptools/issues/917 for details.\n",
            "\u001b[31m   \u001b[0m         ********************************************************************************\n",
            "\u001b[31m   \u001b[0m \n",
            "\u001b[31m   \u001b[0m !!\n",
            "\u001b[31m   \u001b[0m   easy_install.initialize_options(self)\n",
            "\u001b[31m   \u001b[0m /opt/conda/envs/new_diffuser/lib/python3.10/site-packages/setuptools/_distutils/cmd.py:66: SetuptoolsDeprecationWarning: setup.py install is deprecated.\n",
            "\u001b[31m   \u001b[0m !!\n",
            "\u001b[31m   \u001b[0m \n",
            "\u001b[31m   \u001b[0m         ********************************************************************************\n",
            "\u001b[31m   \u001b[0m         Please avoid running ``setup.py`` directly.\n",
            "\u001b[31m   \u001b[0m         Instead, use pypa/build, pypa/installer or other\n",
            "\u001b[31m   \u001b[0m         standards-based tools.\n",
            "\u001b[31m   \u001b[0m \n",
            "\u001b[31m   \u001b[0m         See https://blog.ganssle.io/articles/2021/10/setup-py-deprecated.html for details.\n",
            "\u001b[31m   \u001b[0m         ********************************************************************************\n",
            "\u001b[31m   \u001b[0m \n",
            "\u001b[31m   \u001b[0m !!\n",
            "\u001b[31m   \u001b[0m   self.initialize_options()\n",
            "\u001b[31m   \u001b[0m running egg_info\n",
            "\u001b[31m   \u001b[0m writing rokinrobotsJustinArm07.egg-info/PKG-INFO\n",
            "\u001b[31m   \u001b[0m writing dependency_links to rokinrobotsJustinArm07.egg-info/dependency_links.txt\n",
            "\u001b[31m   \u001b[0m writing top-level names to rokinrobotsJustinArm07.egg-info/top_level.txt\n",
            "\u001b[31m   \u001b[0m reading manifest file 'rokinrobotsJustinArm07.egg-info/SOURCES.txt'\n",
            "\u001b[31m   \u001b[0m writing manifest file 'rokinrobotsJustinArm07.egg-info/SOURCES.txt'\n",
            "\u001b[31m   \u001b[0m running build_ext\n",
            "\u001b[31m   \u001b[0m building 'rokinrobotsJustinArm07' extension\n",
            "\u001b[31m   \u001b[0m gcc -pthread -B /opt/conda/envs/new_diffuser/compiler_compat -Wno-unused-result -Wsign-compare -DNDEBUG -fwrapv -O2 -Wall -fPIC -O2 -isystem /opt/conda/envs/new_diffuser/include -fPIC -O2 -isystem /opt/conda/envs/new_diffuser/include -fPIC -I/usr/include/eigen3 -I/opt/conda/envs/new_diffuser/include/python3.10 -c ./JustinArm07.cpp -o build/temp.linux-x86_64-cpython-310/./JustinArm07.o -std=c++1y -ffast-math -Ofast -fpermissive -DEIGEN_STACK_ALLOCATION_LIMIT=524288\n",
            "\u001b[31m   \u001b[0m ./JustinArm07.cpp: In function ‘void frames_to_jacs(FRAMES&, JACS&)’:\n",
            "\u001b[31m   \u001b[0m ./JustinArm07.cpp:51:32: error: ‘seq’ is not a member of ‘Eigen’\n",
            "\u001b[31m   \u001b[0m    51 |             j(i_j, i_f)(Eigen::seq(0, 2), Eigen::indexing::all) = get_jac_twist(f(i_f), f(jflii[i_j][0]));\n",
            "\u001b[31m   \u001b[0m       |                                ^~~\n",
            "\u001b[31m   \u001b[0m ./JustinArm07.cpp:51:50: error: ‘Eigen::indexing’ has not been declared\n",
            "\u001b[31m   \u001b[0m    51 |             j(i_j, i_f)(Eigen::seq(0, 2), Eigen::indexing::all) = get_jac_twist(f(i_f), f(jflii[i_j][0]));\n",
            "\u001b[31m   \u001b[0m       |                                                  ^~~~~~~~\n",
            "\u001b[31m   \u001b[0m ./JustinArm07.cpp: In function ‘Matrix34Row get_jac_twist(Matrix44Row&, Matrix44Row&)’:\n",
            "\u001b[31m   \u001b[0m ./JustinArm07.cpp:59:14: error: ‘Eigen::indexing’ has not been declared\n",
            "\u001b[31m   \u001b[0m    59 |     t(Eigen::indexing::all, 0) = ((Eigen::Vector3d) fj(Eigen::seq(0, 2), 2)).cross((Eigen::Vector3d) f(Eigen::seq(0, 2), 0));\n",
            "\u001b[31m   \u001b[0m       |              ^~~~~~~~\n",
            "\u001b[31m   \u001b[0m ./JustinArm07.cpp:59:63: error: ‘seq’ is not a member of ‘Eigen’\n",
            "\u001b[31m   \u001b[0m    59 |     t(Eigen::indexing::all, 0) = ((Eigen::Vector3d) fj(Eigen::seq(0, 2), 2)).cross((Eigen::Vector3d) f(Eigen::seq(0, 2), 0));\n",
            "\u001b[31m   \u001b[0m       |                                                               ^~~\n",
            "\u001b[31m   \u001b[0m ./JustinArm07.cpp:59:111: error: ‘seq’ is not a member of ‘Eigen’\n",
            "\u001b[31m   \u001b[0m    59 |     t(Eigen::indexing::all, 0) = ((Eigen::Vector3d) fj(Eigen::seq(0, 2), 2)).cross((Eigen::Vector3d) f(Eigen::seq(0, 2), 0));\n",
            "\u001b[31m   \u001b[0m       |                                                                                                               ^~~\n",
            "\u001b[31m   \u001b[0m ./JustinArm07.cpp:60:14: error: ‘Eigen::indexing’ has not been declared\n",
            "\u001b[31m   \u001b[0m    60 |     t(Eigen::indexing::all, 1) = ((Eigen::Vector3d) fj(Eigen::seq(0, 2), 2)).cross((Eigen::Vector3d) f(Eigen::seq(0, 2), 1));\n",
            "\u001b[31m   \u001b[0m       |              ^~~~~~~~\n",
            "\u001b[31m   \u001b[0m ./JustinArm07.cpp:60:63: error: ‘seq’ is not a member of ‘Eigen’\n",
            "\u001b[31m   \u001b[0m    60 |     t(Eigen::indexing::all, 1) = ((Eigen::Vector3d) fj(Eigen::seq(0, 2), 2)).cross((Eigen::Vector3d) f(Eigen::seq(0, 2), 1));\n",
            "\u001b[31m   \u001b[0m       |                                                               ^~~\n",
            "\u001b[31m   \u001b[0m ./JustinArm07.cpp:60:111: error: ‘seq’ is not a member of ‘Eigen’\n",
            "\u001b[31m   \u001b[0m    60 |     t(Eigen::indexing::all, 1) = ((Eigen::Vector3d) fj(Eigen::seq(0, 2), 2)).cross((Eigen::Vector3d) f(Eigen::seq(0, 2), 1));\n",
            "\u001b[31m   \u001b[0m       |                                                                                                               ^~~\n",
            "\u001b[31m   \u001b[0m ./JustinArm07.cpp:61:14: error: ‘Eigen::indexing’ has not been declared\n",
            "\u001b[31m   \u001b[0m    61 |     t(Eigen::indexing::all, 2) = ((Eigen::Vector3d) fj(Eigen::seq(0, 2), 2)).cross((Eigen::Vector3d) f(Eigen::seq(0, 2), 2));\n",
            "\u001b[31m   \u001b[0m       |              ^~~~~~~~\n",
            "\u001b[31m   \u001b[0m ./JustinArm07.cpp:61:63: error: ‘seq’ is not a member of ‘Eigen’\n",
            "\u001b[31m   \u001b[0m    61 |     t(Eigen::indexing::all, 2) = ((Eigen::Vector3d) fj(Eigen::seq(0, 2), 2)).cross((Eigen::Vector3d) f(Eigen::seq(0, 2), 2));\n",
            "\u001b[31m   \u001b[0m       |                                                               ^~~\n",
            "\u001b[31m   \u001b[0m ./JustinArm07.cpp:61:111: error: ‘seq’ is not a member of ‘Eigen’\n",
            "\u001b[31m   \u001b[0m    61 |     t(Eigen::indexing::all, 2) = ((Eigen::Vector3d) fj(Eigen::seq(0, 2), 2)).cross((Eigen::Vector3d) f(Eigen::seq(0, 2), 2));\n",
            "\u001b[31m   \u001b[0m       |                                                                                                               ^~~\n",
            "\u001b[31m   \u001b[0m ./JustinArm07.cpp:62:14: error: ‘Eigen::indexing’ has not been declared\n",
            "\u001b[31m   \u001b[0m    62 |     t(Eigen::indexing::all, 3) = ((Eigen::Vector3d) fj(Eigen::seq(0, 2), 2)).cross(((Eigen::Vector3d) f(Eigen::seq(0, 2), 3) - fj(Eigen::seq(0, 2), 3)));\n",
            "\u001b[31m   \u001b[0m       |              ^~~~~~~~\n",
            "\u001b[31m   \u001b[0m ./JustinArm07.cpp:62:63: error: ‘seq’ is not a member of ‘Eigen’\n",
            "\u001b[31m   \u001b[0m    62 |     t(Eigen::indexing::all, 3) = ((Eigen::Vector3d) fj(Eigen::seq(0, 2), 2)).cross(((Eigen::Vector3d) f(Eigen::seq(0, 2), 3) - fj(Eigen::seq(0, 2), 3)));\n",
            "\u001b[31m   \u001b[0m       |                                                               ^~~\n",
            "\u001b[31m   \u001b[0m ./JustinArm07.cpp:62:112: error: ‘seq’ is not a member of ‘Eigen’\n",
            "\u001b[31m   \u001b[0m    62 |     t(Eigen::indexing::all, 3) = ((Eigen::Vector3d) fj(Eigen::seq(0, 2), 2)).cross(((Eigen::Vector3d) f(Eigen::seq(0, 2), 3) - fj(Eigen::seq(0, 2), 3)));\n",
            "\u001b[31m   \u001b[0m       |                                                                                                                ^~~\n",
            "\u001b[31m   \u001b[0m ./JustinArm07.cpp:62:138: error: ‘seq’ is not a member of ‘Eigen’\n",
            "\u001b[31m   \u001b[0m    62 |     t(Eigen::indexing::all, 3) = ((Eigen::Vector3d) fj(Eigen::seq(0, 2), 2)).cross(((Eigen::Vector3d) f(Eigen::seq(0, 2), 3) - fj(Eigen::seq(0, 2), 3)));\n",
            "\u001b[31m   \u001b[0m       |                                                                                                                                          ^~~\n",
            "\u001b[31m   \u001b[0m ./JustinArm07.cpp: In function ‘Matrix16Row frames_to_jacs6_tcp_i(FRAMES&, int, int)’:\n",
            "\u001b[31m   \u001b[0m ./JustinArm07.cpp:92:17: error: ‘seq’ is not a member of ‘Eigen’\n",
            "\u001b[31m   \u001b[0m    92 |     j(0, Eigen::seq(0, 2)) = ((Eigen::Vector3d) (f(i_f)(Eigen::seq(0, 2), 2))).cross(((Eigen::Vector3d) f(i_tcp)(Eigen::seq(0, 2), 3) - f(i_f)(Eigen::seq(0, 2), 3)));\n",
            "\u001b[31m   \u001b[0m       |                 ^~~\n",
            "\u001b[31m   \u001b[0m ./JustinArm07.cpp:92:64: error: ‘seq’ is not a member of ‘Eigen’\n",
            "\u001b[31m   \u001b[0m    92 |     j(0, Eigen::seq(0, 2)) = ((Eigen::Vector3d) (f(i_f)(Eigen::seq(0, 2), 2))).cross(((Eigen::Vector3d) f(i_tcp)(Eigen::seq(0, 2), 3) - f(i_f)(Eigen::seq(0, 2), 3)));\n",
            "\u001b[31m   \u001b[0m       |                                                                ^~~\n",
            "\u001b[31m   \u001b[0m ./JustinArm07.cpp:92:121: error: ‘seq’ is not a member of ‘Eigen’\n",
            "\u001b[31m   \u001b[0m    92 |     j(0, Eigen::seq(0, 2)) = ((Eigen::Vector3d) (f(i_f)(Eigen::seq(0, 2), 2))).cross(((Eigen::Vector3d) f(i_tcp)(Eigen::seq(0, 2), 3) - f(i_f)(Eigen::seq(0, 2), 3)));\n",
            "\u001b[31m   \u001b[0m       |                                                                                                                         ^~~\n",
            "\u001b[31m   \u001b[0m ./JustinArm07.cpp:92:151: error: ‘seq’ is not a member of ‘Eigen’\n",
            "\u001b[31m   \u001b[0m    92 |     j(0, Eigen::seq(0, 2)) = ((Eigen::Vector3d) (f(i_f)(Eigen::seq(0, 2), 2))).cross(((Eigen::Vector3d) f(i_tcp)(Eigen::seq(0, 2), 3) - f(i_f)(Eigen::seq(0, 2), 3)));\n",
            "\u001b[31m   \u001b[0m       |                                                                                                                                                       ^~~\n",
            "\u001b[31m   \u001b[0m ./JustinArm07.cpp:93:17: error: ‘seq’ is not a member of ‘Eigen’\n",
            "\u001b[31m   \u001b[0m    93 |     j(0, Eigen::seq(3, 5)) = (Eigen::Vector3d) f(i_f)(Eigen::seq(0, 2), 2);\n",
            "\u001b[31m   \u001b[0m       |                 ^~~\n",
            "\u001b[31m   \u001b[0m ./JustinArm07.cpp:93:62: error: ‘seq’ is not a member of ‘Eigen’\n",
            "\u001b[31m   \u001b[0m    93 |     j(0, Eigen::seq(3, 5)) = (Eigen::Vector3d) f(i_f)(Eigen::seq(0, 2), 2);\n",
            "\u001b[31m   \u001b[0m       |                                                              ^~~\n",
            "\u001b[31m   \u001b[0m ./JustinArm07.cpp: In function ‘Matrix16Row jacs6_to_hess6_tcp_ij(Matrix16Row&, Matrix16Row&, Matrix16Row&, int, int)’:\n",
            "\u001b[31m   \u001b[0m ./JustinArm07.cpp:132:24: error: ‘seq’ is not a member of ‘Eigen’\n",
            "\u001b[31m   \u001b[0m   132 |         h_ij(0, Eigen::seq(0, 2)) = ((Eigen::Vector3d) j6_i(0, Eigen::seq(3, 5))).cross((Eigen::Vector3d) j6_j(0, Eigen::seq(0, 2)));\n",
            "\u001b[31m   \u001b[0m       |                        ^~~\n",
            "\u001b[31m   \u001b[0m ./JustinArm07.cpp:132:71: error: ‘seq’ is not a member of ‘Eigen’\n",
            "\u001b[31m   \u001b[0m   132 |         h_ij(0, Eigen::seq(0, 2)) = ((Eigen::Vector3d) j6_i(0, Eigen::seq(3, 5))).cross((Eigen::Vector3d) j6_j(0, Eigen::seq(0, 2)));\n",
            "\u001b[31m   \u001b[0m       |                                                                       ^~~\n",
            "\u001b[31m   \u001b[0m ./JustinArm07.cpp:132:122: error: ‘seq’ is not a member of ‘Eigen’\n",
            "\u001b[31m   \u001b[0m   132 |         h_ij(0, Eigen::seq(0, 2)) = ((Eigen::Vector3d) j6_i(0, Eigen::seq(3, 5))).cross((Eigen::Vector3d) j6_j(0, Eigen::seq(0, 2)));\n",
            "\u001b[31m   \u001b[0m       |                                                                                                                          ^~~\n",
            "\u001b[31m   \u001b[0m ./JustinArm07.cpp:134:24: error: ‘seq’ is not a member of ‘Eigen’\n",
            "\u001b[31m   \u001b[0m   134 |         h_ij(0, Eigen::seq(0, 2)) = h6_ji(0, Eigen::seq(0, 2));\n",
            "\u001b[31m   \u001b[0m       |                        ^~~\n",
            "\u001b[31m   \u001b[0m ./JustinArm07.cpp:134:53: error: ‘seq’ is not a member of ‘Eigen’\n",
            "\u001b[31m   \u001b[0m   134 |         h_ij(0, Eigen::seq(0, 2)) = h6_ji(0, Eigen::seq(0, 2));\n",
            "\u001b[31m   \u001b[0m       |                                                     ^~~\n",
            "\u001b[31m   \u001b[0m ./JustinArm07.cpp:138:23: error: ‘seq’ is not a member of ‘Eigen’\n",
            "\u001b[31m   \u001b[0m   138 |        h_ij(0, Eigen::seq(3, 5)) = ((Eigen::Vector3d) j6_i(0, Eigen::seq(3, 5))).cross((Eigen::Vector3d) j6_j(0, Eigen::seq(3, 5)));\n",
            "\u001b[31m   \u001b[0m       |                       ^~~\n",
            "\u001b[31m   \u001b[0m ./JustinArm07.cpp:138:70: error: ‘seq’ is not a member of ‘Eigen’\n",
            "\u001b[31m   \u001b[0m   138 |        h_ij(0, Eigen::seq(3, 5)) = ((Eigen::Vector3d) j6_i(0, Eigen::seq(3, 5))).cross((Eigen::Vector3d) j6_j(0, Eigen::seq(3, 5)));\n",
            "\u001b[31m   \u001b[0m       |                                                                      ^~~\n",
            "\u001b[31m   \u001b[0m ./JustinArm07.cpp:138:121: error: ‘seq’ is not a member of ‘Eigen’\n",
            "\u001b[31m   \u001b[0m   138 |        h_ij(0, Eigen::seq(3, 5)) = ((Eigen::Vector3d) j6_i(0, Eigen::seq(3, 5))).cross((Eigen::Vector3d) j6_j(0, Eigen::seq(3, 5)));\n",
            "\u001b[31m   \u001b[0m       |                                                                                                                         ^~~\n",
            "\u001b[31m   \u001b[0m error: command '/usr/bin/gcc' failed with exit code 1\n",
            "\u001b[31m   \u001b[0m \u001b[31m[end of output]\u001b[0m\n",
            "\n",
            "\u001b[1;35mnote\u001b[0m: This error originates from a subprocess, and is likely not a problem with pip.\n"
          ]
        },
        {
          "name": "stdout",
          "output_type": "stream",
          "text": [
            "Successfully compiled code for the robot JustinArm07 in the directory /opt/conda/envs/new_diffuser/lib/python3.10/site-packages/rokin/robots/JustinArm07/cpp.\n",
            "Successful code generation. Rerun your code to use the C++ backend for JustinArm07.\n"
          ]
        },
        {
          "ename": "ModuleNotFoundError",
          "evalue": "No module named 'rokin.robots.JustinArm07.cpp.rokinrobotsJustinArm07'",
          "output_type": "error",
          "traceback": [
            "\u001b[0;31m---------------------------------------------------------------------------\u001b[0m",
            "\u001b[0;31mModuleNotFoundError\u001b[0m                       Traceback (most recent call last)",
            "File \u001b[0;32m/opt/conda/envs/new_diffuser/lib/python3.10/site-packages/rokin/robots/Robot.py:65\u001b[0m, in \u001b[0;36mimport_robot_cpp\u001b[0;34m(robot, replace, verbose)\u001b[0m\n\u001b[1;32m     64\u001b[0m \u001b[38;5;28;01mtry\u001b[39;00m:\n\u001b[0;32m---> 65\u001b[0m     \u001b[38;5;28;01mreturn\u001b[39;00m \u001b[43mimportlib\u001b[49m\u001b[38;5;241;43m.\u001b[39;49m\u001b[43mimport_module\u001b[49m\u001b[43m(\u001b[49m\u001b[43mmodule\u001b[49m\u001b[43m)\u001b[49m\n\u001b[1;32m     67\u001b[0m \u001b[38;5;28;01mexcept\u001b[39;00m \u001b[38;5;167;01mModuleNotFoundError\u001b[39;00m:\n",
            "File \u001b[0;32m/opt/conda/envs/new_diffuser/lib/python3.10/importlib/__init__.py:126\u001b[0m, in \u001b[0;36mimport_module\u001b[0;34m(name, package)\u001b[0m\n\u001b[1;32m    125\u001b[0m         level \u001b[38;5;241m+\u001b[39m\u001b[38;5;241m=\u001b[39m \u001b[38;5;241m1\u001b[39m\n\u001b[0;32m--> 126\u001b[0m \u001b[38;5;28;01mreturn\u001b[39;00m \u001b[43m_bootstrap\u001b[49m\u001b[38;5;241;43m.\u001b[39;49m\u001b[43m_gcd_import\u001b[49m\u001b[43m(\u001b[49m\u001b[43mname\u001b[49m\u001b[43m[\u001b[49m\u001b[43mlevel\u001b[49m\u001b[43m:\u001b[49m\u001b[43m]\u001b[49m\u001b[43m,\u001b[49m\u001b[43m \u001b[49m\u001b[43mpackage\u001b[49m\u001b[43m,\u001b[49m\u001b[43m \u001b[49m\u001b[43mlevel\u001b[49m\u001b[43m)\u001b[49m\n",
            "File \u001b[0;32m<frozen importlib._bootstrap>:1050\u001b[0m, in \u001b[0;36m_gcd_import\u001b[0;34m(name, package, level)\u001b[0m\n",
            "File \u001b[0;32m<frozen importlib._bootstrap>:1027\u001b[0m, in \u001b[0;36m_find_and_load\u001b[0;34m(name, import_)\u001b[0m\n",
            "File \u001b[0;32m<frozen importlib._bootstrap>:1004\u001b[0m, in \u001b[0;36m_find_and_load_unlocked\u001b[0;34m(name, import_)\u001b[0m\n",
            "\u001b[0;31mModuleNotFoundError\u001b[0m: No module named 'rokin.robots.JustinArm07.cpp.rokinrobotsJustinArm07'",
            "\nDuring handling of the above exception, another exception occurred:\n",
            "\u001b[0;31mModuleNotFoundError\u001b[0m                       Traceback (most recent call last)",
            "Cell \u001b[0;32mIn[1], line 3\u001b[0m\n\u001b[1;32m      1\u001b[0m \u001b[38;5;28;01mimport\u001b[39;00m \u001b[38;5;21;01mgymnasium\u001b[39;00m \u001b[38;5;28;01mas\u001b[39;00m \u001b[38;5;21;01mgym\u001b[39;00m\n\u001b[1;32m      2\u001b[0m \u001b[38;5;28;01mfrom\u001b[39;00m \u001b[38;5;21;01mdiffuser\u001b[39;00m\u001b[38;5;21;01m.\u001b[39;00m\u001b[38;5;21;01mutils\u001b[39;00m\u001b[38;5;21;01m.\u001b[39;00m\u001b[38;5;21;01mconfig\u001b[39;00m \u001b[38;5;28;01mimport\u001b[39;00m Config, get_params, get_device_settings\n\u001b[0;32m----> 3\u001b[0m \u001b[38;5;28;01mfrom\u001b[39;00m \u001b[38;5;21;01mjustin_arm\u001b[39;00m\u001b[38;5;21;01m.\u001b[39;00m\u001b[38;5;21;01mtraining_justin\u001b[39;00m \u001b[38;5;28;01mimport\u001b[39;00m Justin_Trainer\n\u001b[1;32m      4\u001b[0m \u001b[38;5;28;01mfrom\u001b[39;00m \u001b[38;5;21;01mjustin_arm\u001b[39;00m\u001b[38;5;21;01m.\u001b[39;00m\u001b[38;5;21;01mhelper\u001b[39;00m \u001b[38;5;28;01mimport\u001b[39;00m (\n\u001b[1;32m      5\u001b[0m     create_state_action_array,\n\u001b[1;32m      6\u001b[0m     interpolate_trajectories,\n\u001b[1;32m      7\u001b[0m     condition_start_end_per_trajectory,\n\u001b[1;32m      8\u001b[0m )\n\u001b[1;32m      9\u001b[0m \u001b[38;5;28;01mfrom\u001b[39;00m \u001b[38;5;21;01mdiffuser\u001b[39;00m\u001b[38;5;21;01m.\u001b[39;00m\u001b[38;5;21;01mutils\u001b[39;00m\u001b[38;5;21;01m.\u001b[39;00m\u001b[38;5;21;01marrays\u001b[39;00m \u001b[38;5;28;01mimport\u001b[39;00m report_parameters, batchify\n",
            "File \u001b[0;32m~/tum-adlr-ss24-18/justin_arm/training_justin.py:17\u001b[0m\n\u001b[1;32m     15\u001b[0m \u001b[38;5;28;01mfrom\u001b[39;00m \u001b[38;5;21;01mdiffuser\u001b[39;00m\u001b[38;5;21;01m.\u001b[39;00m\u001b[38;5;21;01mutils\u001b[39;00m\u001b[38;5;21;01m.\u001b[39;00m\u001b[38;5;21;01mtimer\u001b[39;00m \u001b[38;5;28;01mimport\u001b[39;00m Timer\n\u001b[1;32m     16\u001b[0m \u001b[38;5;28;01mfrom\u001b[39;00m \u001b[38;5;21;01mjustin_arm\u001b[39;00m\u001b[38;5;21;01m.\u001b[39;00m\u001b[38;5;21;01mhelper\u001b[39;00m \u001b[38;5;28;01mimport\u001b[39;00m analyze_distance, robot_env_dist\n\u001b[0;32m---> 17\u001b[0m \u001b[38;5;28;01mfrom\u001b[39;00m \u001b[38;5;21;01mjustin_arm\u001b[39;00m\u001b[38;5;21;01m.\u001b[39;00m\u001b[38;5;21;01mvisualize\u001b[39;00m \u001b[38;5;28;01mimport\u001b[39;00m (\n\u001b[1;32m     18\u001b[0m     plot_q_values_per_trajectory,\n\u001b[1;32m     19\u001b[0m     plot_trajectory_per_frames,\n\u001b[1;32m     20\u001b[0m )\n\u001b[1;32m     23\u001b[0m \u001b[38;5;28;01mdef\u001b[39;00m \u001b[38;5;21mcycle\u001b[39m(dl):\n\u001b[1;32m     24\u001b[0m     \u001b[38;5;28;01mwhile\u001b[39;00m \u001b[38;5;28;01mTrue\u001b[39;00m:\n",
            "File \u001b[0;32m~/tum-adlr-ss24-18/justin_arm/visualize.py:189\u001b[0m\n\u001b[1;32m    185\u001b[0m \u001b[38;5;28mprint\u001b[39m(\u001b[38;5;124mf\u001b[39m\u001b[38;5;124m\"\u001b[39m\u001b[38;5;124mPaths:\u001b[39m\u001b[38;5;132;01m{\u001b[39;00mpaths\u001b[38;5;241m.\u001b[39mshape\u001b[38;5;132;01m}\u001b[39;00m\u001b[38;5;124m\"\u001b[39m)\n\u001b[1;32m    188\u001b[0m \u001b[38;5;66;03m# # Load robot\u001b[39;00m\n\u001b[0;32m--> 189\u001b[0m robot \u001b[38;5;241m=\u001b[39m \u001b[43mrobots\u001b[49m\u001b[38;5;241;43m.\u001b[39;49m\u001b[43mJustinArm07\u001b[49m\u001b[43m(\u001b[49m\u001b[43m)\u001b[49m\n\u001b[1;32m    190\u001b[0m frames \u001b[38;5;241m=\u001b[39m robot\u001b[38;5;241m.\u001b[39mget_frames(paths[\u001b[38;5;241m0\u001b[39m])\n\u001b[1;32m    192\u001b[0m \u001b[38;5;66;03m# # Interpolate the trajectories\u001b[39;00m\n\u001b[1;32m    193\u001b[0m \u001b[38;5;66;03m# paths = interpolate_trajectories(paths, 100)\u001b[39;00m\n\u001b[1;32m    194\u001b[0m \n\u001b[1;32m    195\u001b[0m \u001b[38;5;66;03m# # Test the functions\u001b[39;00m\n",
            "File \u001b[0;32m/opt/conda/envs/new_diffuser/lib/python3.10/site-packages/rokin/robots/JustinArm07/JustinArm07.py:64\u001b[0m, in \u001b[0;36mJustinArm07.__init__\u001b[0;34m(self)\u001b[0m\n\u001b[1;32m     61\u001b[0m \u001b[38;5;28mself\u001b[39m\u001b[38;5;241m.\u001b[39mmeshes\u001b[38;5;241m.\u001b[39mf \u001b[38;5;241m=\u001b[39m meshes\u001b[38;5;241m.\u001b[39mright_meshes_f\n\u001b[1;32m     62\u001b[0m \u001b[38;5;28mself\u001b[39m\u001b[38;5;241m.\u001b[39mmeshes\u001b[38;5;241m.\u001b[39mf_idx \u001b[38;5;241m=\u001b[39m meshes\u001b[38;5;241m.\u001b[39mright_meshes_f_idx \u001b[38;5;241m-\u001b[39m \u001b[38;5;241m1\u001b[39m\n\u001b[0;32m---> 64\u001b[0m \u001b[38;5;28mself\u001b[39m\u001b[38;5;241m.\u001b[39m_cpp \u001b[38;5;241m=\u001b[39m \u001b[43mimport_robot_cpp\u001b[49m\u001b[43m(\u001b[49m\u001b[43mrobot\u001b[49m\u001b[38;5;241;43m=\u001b[39;49m\u001b[38;5;28;43mself\u001b[39;49m\u001b[43m)\u001b[49m\n\u001b[1;32m     65\u001b[0m \u001b[38;5;28mself\u001b[39m\u001b[38;5;241m.\u001b[39mnet \u001b[38;5;241m=\u001b[39m JustinArm07Net()\n\u001b[1;32m     66\u001b[0m \u001b[38;5;28mself\u001b[39m\u001b[38;5;241m.\u001b[39massert_robot()\n",
            "File \u001b[0;32m/opt/conda/envs/new_diffuser/lib/python3.10/site-packages/rokin/robots/Robot.py:70\u001b[0m, in \u001b[0;36mimport_robot_cpp\u001b[0;34m(robot, replace, verbose)\u001b[0m\n\u001b[1;32m     68\u001b[0m     warnings\u001b[38;5;241m.\u001b[39mwarn(\u001b[38;5;124m\"\u001b[39m\u001b[38;5;124mModuleNotFoundError\u001b[39m\u001b[38;5;124m\"\u001b[39m)\n\u001b[1;32m     69\u001b[0m     generate_and_compile(_replace\u001b[38;5;241m=\u001b[39mreplace)\n\u001b[0;32m---> 70\u001b[0m     \u001b[38;5;28;01mreturn\u001b[39;00m \u001b[43mimportlib\u001b[49m\u001b[38;5;241;43m.\u001b[39;49m\u001b[43mimport_module\u001b[49m\u001b[43m(\u001b[49m\u001b[43mmodule\u001b[49m\u001b[43m)\u001b[49m\n\u001b[1;32m     72\u001b[0m \u001b[38;5;28;01mexcept\u001b[39;00m \u001b[38;5;167;01mImportError\u001b[39;00m:\n\u001b[1;32m     73\u001b[0m     warnings\u001b[38;5;241m.\u001b[39mwarn(\u001b[38;5;124m\"\u001b[39m\u001b[38;5;124mImportError\u001b[39m\u001b[38;5;124m\"\u001b[39m)\n",
            "File \u001b[0;32m/opt/conda/envs/new_diffuser/lib/python3.10/importlib/__init__.py:126\u001b[0m, in \u001b[0;36mimport_module\u001b[0;34m(name, package)\u001b[0m\n\u001b[1;32m    124\u001b[0m             \u001b[38;5;28;01mbreak\u001b[39;00m\n\u001b[1;32m    125\u001b[0m         level \u001b[38;5;241m+\u001b[39m\u001b[38;5;241m=\u001b[39m \u001b[38;5;241m1\u001b[39m\n\u001b[0;32m--> 126\u001b[0m \u001b[38;5;28;01mreturn\u001b[39;00m \u001b[43m_bootstrap\u001b[49m\u001b[38;5;241;43m.\u001b[39;49m\u001b[43m_gcd_import\u001b[49m\u001b[43m(\u001b[49m\u001b[43mname\u001b[49m\u001b[43m[\u001b[49m\u001b[43mlevel\u001b[49m\u001b[43m:\u001b[49m\u001b[43m]\u001b[49m\u001b[43m,\u001b[49m\u001b[43m \u001b[49m\u001b[43mpackage\u001b[49m\u001b[43m,\u001b[49m\u001b[43m \u001b[49m\u001b[43mlevel\u001b[49m\u001b[43m)\u001b[49m\n",
            "\u001b[0;31mModuleNotFoundError\u001b[0m: No module named 'rokin.robots.JustinArm07.cpp.rokinrobotsJustinArm07'"
          ]
        }
      ],
      "source": [
        "import gymnasium as gym\n",
        "from diffuser.utils.config import Config, get_params, get_device_settings\n",
        "from justin_arm.training_justin import Justin_Trainer\n",
        "from justin_arm.helper import (\n",
        "    create_state_action_array,\n",
        "    interpolate_trajectories,\n",
        "    condition_start_end_per_trajectory,\n",
        ")\n",
        "from diffuser.utils.arrays import report_parameters, batchify\n",
        "from diffuser.datasets.sequence import TrajectoryDataset\n",
        "import numpy as np\n",
        "import torch\n",
        "import sys\n",
        "import matplotlib.pyplot as plt\n",
        "from datetime import datetime\n",
        "import wandb\n",
        "from tqdm import tqdm\n",
        "\n",
        "# Render original and diffused trajectories:\n",
        "from justin_arm.visualize import (\n",
        "    plot_trajectory_per_frames,\n",
        "    plot_q_values_per_trajectory,\n",
        "    plot_multiple_trajectories,\n",
        ")\n",
        "from justin_arm.helper import robot_env_dist, analyze_distance\n",
        "from diffuser.utils.arrays import apply_dict, batch_to_device, to_device, to_np\n",
        "\n",
        "import os"
      ]
    },
    {
      "cell_type": "markdown",
      "metadata": {
        "id": "88Fd7E-bLXNI"
      },
      "source": [
        "## Parse Arguments and Paramters"
      ]
    },
    {
      "cell_type": "code",
      "execution_count": null,
      "metadata": {},
      "outputs": [],
      "source": [
        "# Get settings from the config file\n",
        "\n",
        "parser = get_params()\n",
        "\n",
        "# overwrite params for Justin Arm\n",
        "args = args = parser.parse_args(\n",
        "    [\n",
        "        \"--action_dim\",\n",
        "        \"7\",\n",
        "        \"--observation_dim\",\n",
        "        \"7\",\n",
        "        \"--train_batch_size\",\n",
        "        \"32\",\n",
        "        \"--savepath\",\n",
        "        \"saved_full_dataset_justin_ep100_n100/\",\n",
        "        \"--dataset\",\n",
        "        \"new_dataset\",\n",
        "        \"--horizon\",\n",
        "        \"32\",\n",
        "        \"--save_freq\",\n",
        "        \"10000\",\n",
        "        \"--train_lr\",\n",
        "        \"0.001\",\n",
        "        \"--n_timesteps\",\n",
        "        \"256\",\n",
        "        \"--scenario_name\",\n",
        "        \"Full_dataset_justin\",\n",
        "    ]\n",
        ")\n",
        "\n",
        "# Set Seeds\n",
        "seed = args.seed\n",
        "torch.manual_seed(seed)\n",
        "torch.cuda.manual_seed_all(seed)\n",
        "np.random.seed(seed)\n",
        "\n",
        "# Get device settings\n",
        "device = get_device_settings(args)\n",
        "\n",
        "# Check if saved path exists else create it :\n",
        "if not os.path.exists(args.savepath):\n",
        "    os.makedirs(args.savepath)"
      ]
    },
    {
      "cell_type": "code",
      "execution_count": null,
      "metadata": {
        "colab": {
          "base_uri": "https://localhost:8080/"
        },
        "id": "wzUNVoCyS54w",
        "outputId": "8fd0ca8e-cce7-456b-9438-15ca2be74525"
      },
      "outputs": [],
      "source": [
        "dataset = np.load(\"justin_arm/data/q_paths_4123.npy\")\n",
        "dataset_image = np.load(\"justin_arm/data/q_images_4123.npy\")\n",
        "trajectory_dataset = TrajectoryDataset(\n",
        "    dataset=dataset, horizon=args.horizon, image=dataset_image\n",
        ")\n",
        "robot = [1,2,3]\n",
        "\n",
        "model_config = Config(\n",
        "    args.model,\n",
        "    savepath=(args.savepath, \"model_config.pkl\"),\n",
        "    horizon=args.horizon,\n",
        "    transition_dim=args.observation_dim + args.action_dim,\n",
        "    cond_dim=args.observation_dim,\n",
        "    dim_mults=args.dim_mults,\n",
        "    device=device,\n",
        ")\n",
        "diffusion_config = Config(\n",
        "    _class=\"models.diffuser.GaussianDiffusion\",\n",
        "    savepath=(args.savepath, \"diffusion_config.pkl\"),\n",
        "    horizon=args.horizon,\n",
        "    observation_dim=args.observation_dim,\n",
        "    action_dim=args.action_dim,\n",
        "    n_timesteps=args.n_timesteps,\n",
        "    loss_type=args.loss_type,\n",
        "    clip_denoised=args.clip_denoised,\n",
        "    predict_epsilon=args.predict_epsilon,\n",
        "    # loss weighting\n",
        "    action_weight=args.action_weight,\n",
        "    loss_weights=args.loss_weights,\n",
        "    loss_discount=args.loss_discount,\n",
        "    device=device,\n",
        ")\n",
        "\n",
        "trainer_config = Config(\n",
        "    Justin_Trainer,\n",
        "    savepath=(args.savepath, \"trainer_config.pkl\"),\n",
        "    train_batch_size=args.train_batch_size,\n",
        "    train_lr=args.train_lr,\n",
        "    name=args.env_name,\n",
        "    gradient_accumulate_every=args.gradient_accumulate_every,\n",
        "    ema_decay=args.ema_decay,\n",
        "    sample_freq=args.sample_freq,\n",
        "    save_freq=args.save_freq,\n",
        "    label_freq=args.label_freq,\n",
        "    save_parallel=args.save_parallel,\n",
        "    results_folder=args.savepath,\n",
        "    bucket=args.bucket,\n",
        "    n_reference=args.n_reference,\n",
        "    n_samples=args.n_samples,\n",
        "    device=device,\n",
        ")"
      ]
    },
    {
      "cell_type": "code",
      "execution_count": null,
      "metadata": {},
      "outputs": [],
      "source": [
        "# Print min and max:\n",
        "\n",
        "print(trajectory_dataset.normalizer.maxs)\n",
        "\n",
        "print(\"Min: \", np.min(trajectory_dataset.normalized_data))\n",
        "print(\"Max: \", np.max(trajectory_dataset.normalized_data))\n",
        "# Print mean and std:\n",
        "print(\"Mean: \", np.mean(trajectory_dataset.normalized_data))\n",
        "print(\"Std: \", np.std(trajectory_dataset.normalized_data))"
      ]
    },
    {
      "cell_type": "code",
      "execution_count": null,
      "metadata": {
        "colab": {
          "base_uri": "https://localhost:8080/"
        },
        "id": "yN1wOeVGTaft",
        "outputId": "1d0e9bfe-1bca-4718-a6e9-03954dd5dbc9"
      },
      "outputs": [],
      "source": [
        "# Load objects\n",
        "\n",
        "model = model_config()\n",
        "diffuser = diffusion_config(model)\n",
        "trainer = trainer_config(diffuser, trajectory_dataset, device, robot)"
      ]
    },
    {
      "cell_type": "markdown",
      "metadata": {
        "id": "mcJZFQl9jXtn"
      },
      "source": [
        "## Forward pass is working"
      ]
    },
    {
      "cell_type": "code",
      "execution_count": null,
      "metadata": {
        "colab": {
          "base_uri": "https://localhost:8080/"
        },
        "id": "1SnQpWsjKlRQ",
        "outputId": "6c4ce3f1-c507-42e2-e51b-485e83ed51ac"
      },
      "outputs": [],
      "source": [
        "report_parameters(model)\n",
        "\n",
        "print(\"Testing forward...\", end=\" \", flush=True)\n",
        "batch = batchify(trajectory_dataset[0])\n",
        "loss, _ = diffuser.loss(*batch)\n",
        "loss.backward()\n",
        "print(\"✓\")"
      ]
    },
    {
      "cell_type": "markdown",
      "metadata": {
        "id": "J2zObsfx8uFq"
      },
      "source": [
        "## Using the trainer requires taking care of the 'device' in the folders"
      ]
    },
    {
      "cell_type": "markdown",
      "metadata": {
        "id": "rRJlcy_WKXdq"
      },
      "source": [
        "# Training process inlcluding rendering"
      ]
    },
    {
      "cell_type": "code",
      "execution_count": null,
      "metadata": {},
      "outputs": [],
      "source": [
        "current_time = datetime.now().strftime(\"%d_%m_%Y-%H-%M\")\n",
        "\n",
        "if args.use_wandb:\n",
        "    run = wandb.init(\n",
        "        config=args,\n",
        "        project=args.wandb_project,\n",
        "        entity=args.wandb_entity,\n",
        "        name=f\"{args.savepath}_{current_time}\",\n",
        "        group=\"Group-Name\",\n",
        "        job_type=\"training\",\n",
        "        reinit=True,\n",
        "    )"
      ]
    },
    {
      "cell_type": "markdown",
      "metadata": {},
      "source": [
        "## Training"
      ]
    },
    {
      "cell_type": "code",
      "execution_count": null,
      "metadata": {},
      "outputs": [],
      "source": [
        "# n_epochs = int(args.n_train_steps // args.n_steps_per_epoch)\n",
        "n_epochs = 100\n",
        "diffuser.to(device)\n",
        "for i in tqdm(range(n_epochs)):\n",
        "    print(f\"Epoch {i} / {n_epochs} | {args.savepath}\")\n",
        "    trainer.train(n_train_steps=100)"
      ]
    },
    {
      "cell_type": "markdown",
      "metadata": {},
      "source": [
        "## Training for a single datapoint : 1. Experiment!"
      ]
    },
    {
      "cell_type": "code",
      "execution_count": null,
      "metadata": {},
      "outputs": [],
      "source": [
        "# Overfit to a single datapoint\n",
        "\n",
        "\n",
        "# Choose a single trajectory through the dataloader given a batch size of 1, then we do not know exactly what idx that is\n",
        "# single_input = next(iter(trainer.dataloader))\n",
        "# single_input = batch_to_device(single_input, device)\n",
        "\n",
        "# Choose a single trajectory arbitrarily\n",
        "single_input = batchify(trajectory_dataset[800])\n",
        "single_input = batch_to_device(single_input, device)\n",
        "\n",
        "# Just sample the trajectory directly from the dataset:\n",
        "single_input_unnormalized = interpolate_trajectories(dataset[10], 32)\n",
        "\n",
        "# # Start training\n",
        "# diffuser.to(device)\n",
        "# n_epochs = 500  # Overfitting typically requires fewer epochs\n",
        "# for i in tqdm(range(n_epochs)):\n",
        "#     print(f\"Epoch {i} / {n_epochs} | {args.savepath}\")\n",
        "#     trainer.train_single_datapoint(n_train_steps=20, single_input=single_input)"
      ]
    },
    {
      "cell_type": "markdown",
      "metadata": {},
      "source": [
        "## Loading existing model and visualize performance:"
      ]
    },
    {
      "cell_type": "code",
      "execution_count": null,
      "metadata": {},
      "outputs": [],
      "source": [
        "# Load and test the model on the single datapoint:\n",
        "model_path = \"saved_justin_ep100_n100//state_10000.pt\"\n",
        "trainer.load(directory=model_path, epoch=100)"
      ]
    },
    {
      "cell_type": "markdown",
      "metadata": {},
      "source": [
        "### Plot the trajectory taken directly from the dataset:"
      ]
    },
    {
      "cell_type": "code",
      "execution_count": null,
      "metadata": {},
      "outputs": [],
      "source": [
        "# # Plor the orginal trajectory\n",
        "# %matplotlib inline\n",
        "\n",
        "# # Plot the original and diffused trajectories:\n",
        "# # Original:\n",
        "\n",
        "# # Get collision_metric:\n",
        "# distance = robot_env_dist(\n",
        "#     q=single_input_unnormalized[0], robot=trainer.robot, img=trainer.dataset.image[0]\n",
        "# )\n",
        "\n",
        "# score = analyze_distance(distance)\n",
        "\n",
        "# print(f\"Collision score: {score}\")\n",
        "\n",
        "\n",
        "# print(single_input_unnormalized[0].shape)\n",
        "\n",
        "# plot_trajectory_per_frames(single_input_unnormalized[0])\n",
        "# plot_q_values_per_trajectory(single_input_unnormalized[0])\n",
        "\n",
        "\n",
        "# limits = np.array([[-1.25, +1.25], [-1.25, +1.25], [-1.25, +1.25]])\n",
        "# vis.three_pv.animate_path(\n",
        "#     robot=trainer.robot,\n",
        "#     q=single_input_unnormalized[0],\n",
        "#     kwargs_robot=dict(color=\"red\"),\n",
        "#     kwargs_world=dict(img=trainer.dataset.image[0], limits=limits, color=\"yellow\"),\n",
        "# )"
      ]
    },
    {
      "cell_type": "markdown",
      "metadata": {},
      "source": [
        "### Plotting the reference trajectory:"
      ]
    },
    {
      "cell_type": "code",
      "execution_count": null,
      "metadata": {},
      "outputs": [],
      "source": [
        "%matplotlib inline\n",
        "trainer.plot_reference_data(single_input)\n"
      ]
    },
    {
      "cell_type": "markdown",
      "metadata": {},
      "source": []
    },
    {
      "cell_type": "markdown",
      "metadata": {},
      "source": [
        "### Plotting the diffused reconstruction:"
      ]
    },
    {
      "cell_type": "code",
      "execution_count": null,
      "metadata": {},
      "outputs": [],
      "source": [
        "# Now plotting for the diffused trajectory:\n",
        "%matplotlib inline\n",
        "collision_score = trainer.render_given_sample(single_input, render_3d=True)\n",
        "print(f\"Collision score: {collision_score}\")"
      ]
    },
    {
      "cell_type": "code",
      "execution_count": null,
      "metadata": {},
      "outputs": [],
      "source": [
        "# Out of wqorld generalization:\n",
        "dataset = np.load(\"justin_arm/data/q_paths_6547.npy\")\n",
        "dataset_image = np.load(\"justin_arm/data/image_6547.npy\")\n",
        "trajectory_dataset = TrajectoryDataset(\n",
        "    dataset=dataset, horizon=args.horizon, image=dataset_image\n",
        ")\n",
        "\n",
        "robot = robots.JustinArm07()\n",
        "trainer = trainer_config(diffuser, trajectory_dataset, device, robot)\n",
        "\n",
        "\n",
        "# Load model:\n",
        "# Load and test the model on the single datapoint:\n",
        "model_path = \"saved_justin_ep100_n100//state_10000.pt\"\n",
        "trainer.load(directory=model_path, epoch=100)\n",
        "\n",
        "\n",
        "# Load random datapoints:\n",
        "single_input = batchify(trajectory_dataset[10])\n",
        "single_input = batch_to_device(single_input, device)\n",
        "\n",
        "\n",
        "# Compare reference and diffusion:"
      ]
    },
    {
      "cell_type": "code",
      "execution_count": null,
      "metadata": {},
      "outputs": [],
      "source": [
        "%matplotlib inline\n",
        "collision_score = trainer.plot_reference_data(single_input, render_3d=False)\n",
        "print(f\"Collision score: {collision_score}\")"
      ]
    },
    {
      "cell_type": "code",
      "execution_count": null,
      "metadata": {},
      "outputs": [],
      "source": [
        "# Now plotting for the diffused trajectory:\n",
        "%matplotlib inline\n",
        "# empty ndarray of shape (0,args.horizon,7)\n",
        "q_paths = np.zeros((0, args.horizon, 7))\n",
        "for i in range(20):\n",
        "    q_path, collision_score = trainer.render_given_sample(single_input, render_3d=False)\n",
        "    q_path = np.expand_dims(q_path, axis=0)\n",
        "    q_paths = np.append(q_paths, q_path, axis=0)\n"
      ]
    },
    {
      "cell_type": "code",
      "execution_count": null,
      "metadata": {},
      "outputs": [],
      "source": [
        "print(q_paths.shape)"
      ]
    },
    {
      "cell_type": "code",
      "execution_count": null,
      "metadata": {},
      "outputs": [],
      "source": [
        "%matplotlib inline\n",
        "plot_multiple_trajectories(q_paths[:10], q_paths.shape[0])"
      ]
    }
  ],
  "metadata": {
    "accelerator": "GPU",
    "colab": {
      "collapsed_sections": [
        "yP4EZWUtjLEW",
        "Xh7nFzc5jxhB"
      ],
      "gpuType": "T4",
      "provenance": [],
      "toc_visible": true
    },
    "kernelspec": {
      "display_name": "Python 3",
      "name": "python3"
    },
    "language_info": {
      "codemirror_mode": {
        "name": "ipython",
        "version": 3
      },
      "file_extension": ".py",
      "mimetype": "text/x-python",
      "name": "python",
      "nbconvert_exporter": "python",
      "pygments_lexer": "ipython3",
      "version": "3.10.14"
    }
  },
  "nbformat": 4,
  "nbformat_minor": 0
}
