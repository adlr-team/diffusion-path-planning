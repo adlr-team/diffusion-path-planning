{
  "cells": [
    {
      "cell_type": "markdown",
      "metadata": {},
      "source": [
        "## Imports"
      ]
    },
    {
      "cell_type": "code",
      "execution_count": 1,
      "metadata": {
        "colab": {
          "base_uri": "https://localhost:8080/"
        },
        "id": "LRAev-KUifbW",
        "outputId": "f70d8a10-4ddb-4bd6-8f38-cbc841993bb5"
      },
      "outputs": [],
      "source": [
        "%load_ext autoreload\n",
        "%autoreload 2"
      ]
    },
    {
      "cell_type": "code",
      "execution_count": 1,
      "metadata": {
        "id": "APRB2VcQU5C2"
      },
      "outputs": [
        {
          "name": "stderr",
          "output_type": "stream",
          "text": [
            "c:\\Users\\Beste Aydemir\\AppData\\Local\\pypoetry\\Cache\\virtualenvs\\adlr-uQXv-DS1-py3.10\\lib\\site-packages\\tqdm\\auto.py:21: TqdmWarning: IProgress not found. Please update jupyter and ipywidgets. See https://ipywidgets.readthedocs.io/en/stable/user_install.html\n",
            "  from .autonotebook import tqdm as notebook_tqdm\n"
          ]
        }
      ],
      "source": [
        "import gymnasium as gym\n",
        "from diffuser.utils.config import Config, get_params, get_device_settings\n",
        "from diffuser.utils.training import Trainer\n",
        "from diffuser.utils.arrays import report_parameters, batchify\n",
        "\n",
        "import os\n",
        "import collections\n",
        "import numpy as np\n",
        "import pdb\n",
        "from minari import DataCollector, StepDataCallback\n",
        "import torch\n",
        "import sys\n",
        "import matplotlib.pyplot as plt\n",
        "import h5py\n",
        "from datetime import datetime\n",
        "import wandb"
      ]
    },
    {
      "cell_type": "markdown",
      "metadata": {
        "id": "88Fd7E-bLXNI"
      },
      "source": [
        "## Parse Arguments and Paramters"
      ]
    },
    {
      "cell_type": "code",
      "execution_count": 2,
      "metadata": {},
      "outputs": [],
      "source": [
        "# Get settings from the config file\n",
        "\n",
        "parser = get_params()\n",
        "\n",
        "args = parser.parse_known_args(sys.argv[1:])[0]\n",
        "\n",
        "# Set Seeds\n",
        "seed = args.seed\n",
        "torch.manual_seed(seed)\n",
        "torch.cuda.manual_seed_all(seed)\n",
        "np.random.seed(seed)\n",
        "\n",
        "# Get device settings\n",
        "#device = get_device_settings(args)\n",
        "device = \"cpu\""
      ]
    },
    {
      "cell_type": "code",
      "execution_count": 3,
      "metadata": {
        "colab": {
          "base_uri": "https://localhost:8080/"
        },
        "id": "wzUNVoCyS54w",
        "outputId": "8fd0ca8e-cce7-456b-9438-15ca2be74525"
      },
      "outputs": [
        {
          "name": "stdout",
          "output_type": "stream",
          "text": [
            "_class:datasets.sequence.GoalDataset\n",
            "[ utils/config ] Imported diffuser.datasets.sequence:GoalDataset\n",
            "\n",
            "[utils/config ] Config: <class 'diffuser.datasets.sequence.GoalDataset'>\n",
            "    env: PointMaze_Medium-v3\n",
            "    horizon: 256\n",
            "    max_path_length: 10000\n",
            "    normalizer: LimitsNormalizer\n",
            "    preprocess_fns: ['maze2d_set_terminals']\n",
            "    use_padding: False\n",
            "\n",
            "[ utils/config ] Saved config to: saved/dataset_config.pkl\n",
            "\n",
            "_class:utils.rendering.Maze2dRenderer\n",
            "[ utils/config ] Imported diffuser.utils.rendering:Maze2dRenderer\n",
            "\n",
            "[utils/config ] Config: <class 'diffuser.utils.rendering.Maze2dRenderer'>\n",
            "    env: PointMaze_Medium-v3\n",
            "\n",
            "[ utils/config ] Saved config to: saved/render_config.pkl\n",
            "\n",
            "_class:models.temporal.TemporalUnet\n",
            "[ utils/config ] Imported diffuser.models.temporal:TemporalUnet\n",
            "\n",
            "[utils/config ] Config: <class 'diffuser.models.temporal.TemporalUnet'>\n",
            "    cond_dim: 4\n",
            "    dim_mults: (1, 4, 8)\n",
            "    horizon: 256\n",
            "    transition_dim: 6\n",
            "\n",
            "[ utils/config ] Saved config to: saved/model_config.pkl\n",
            "\n",
            "_class:models.diffuser.GaussianDiffusion\n",
            "[ utils/config ] Imported diffuser.models.diffuser:GaussianDiffusion\n",
            "\n",
            "[utils/config ] Config: <class 'diffuser.models.diffuser.GaussianDiffusion'>\n",
            "    action_dim: 2\n",
            "    action_weight: 1\n",
            "    clip_denoised: True\n",
            "    horizon: 256\n",
            "    loss_discount: 1\n",
            "    loss_type: l2\n",
            "    loss_weights: None\n",
            "    n_timesteps: 256\n",
            "    observation_dim: 4\n",
            "    predict_epsilon: False\n",
            "\n",
            "[ utils/config ] Saved config to: saved/diffusion_config.pkl\n",
            "\n",
            "\n",
            "[utils/config ] Config: <class 'diffuser.utils.training.Trainer'>\n",
            "    bucket: None\n",
            "    ema_decay: 0.005\n",
            "    gradient_accumulate_every: 2\n",
            "    label_freq: 400\n",
            "    n_reference: 1\n",
            "    n_samples: 1\n",
            "    name: PointMaze_Medium-v3\n",
            "    results_folder: saved/\n",
            "    sample_freq: 1000\n",
            "    save_freq: 500\n",
            "    save_parallel: False\n",
            "    train_batch_size: 32\n",
            "    train_lr: 0.0002\n",
            "\n",
            "[ utils/config ] Saved config to: saved/trainer_config.pkl\n",
            "\n"
          ]
        }
      ],
      "source": [
        "dataset_config = Config(\n",
        "    args.loader,\n",
        "    savepath=(args.savepath, \"dataset_config.pkl\"),\n",
        "    env=args.env_name,\n",
        "    horizon=args.horizon,\n",
        "    normalizer=args.normalizer,\n",
        "    preprocess_fns=args.preprocess_fns,\n",
        "    use_padding=args.use_padding,\n",
        "    max_path_length=args.max_path_length,\n",
        ")\n",
        "\n",
        "render_config = Config(\n",
        "    args.renderer,\n",
        "    savepath=(args.savepath, \"render_config.pkl\"),\n",
        "    env=args.env_name,\n",
        ")\n",
        "\n",
        "model_config = Config(\n",
        "    args.model,\n",
        "    savepath=(args.savepath, \"model_config.pkl\"),\n",
        "    horizon=args.horizon,\n",
        "    transition_dim=args.observation_dim + args.action_dim,\n",
        "    cond_dim=args.observation_dim,\n",
        "    dim_mults=args.dim_mults,\n",
        "    device=device,\n",
        ")\n",
        "diffusion_config = Config(\n",
        "    _class=\"models.diffuser.GaussianDiffusion\",\n",
        "    savepath=(args.savepath, \"diffusion_config.pkl\"),\n",
        "    horizon=args.horizon,\n",
        "    observation_dim=args.observation_dim,\n",
        "    action_dim=args.action_dim,\n",
        "    n_timesteps=args.n_timesteps,\n",
        "    loss_type=args.loss_type,\n",
        "    clip_denoised=args.clip_denoised,\n",
        "    predict_epsilon=args.predict_epsilon,\n",
        "    # loss weighting\n",
        "    action_weight=args.action_weight,\n",
        "    loss_weights=args.loss_weights,\n",
        "    loss_discount=args.loss_discount,\n",
        "    device=device,\n",
        ")\n",
        "\n",
        "trainer_config = Config(\n",
        "    Trainer,\n",
        "    savepath=(args.savepath, \"trainer_config.pkl\"),\n",
        "    train_batch_size=args.train_batch_size,\n",
        "    name=args.env_name,\n",
        "    train_lr=args.train_lr,\n",
        "    gradient_accumulate_every=args.gradient_accumulate_every,\n",
        "    ema_decay=args.ema_decay,\n",
        "    sample_freq=args.sample_freq,\n",
        "    save_freq=args.save_freq,\n",
        "    label_freq=args.label_freq,\n",
        "    save_parallel=args.save_parallel,\n",
        "    results_folder=args.savepath,\n",
        "    bucket=args.bucket,\n",
        "    n_reference=args.n_reference,\n",
        "    n_samples=args.n_samples,\n",
        "    device=device,\n",
        ")"
      ]
    },
    {
      "cell_type": "code",
      "execution_count": 4,
      "metadata": {
        "colab": {
          "base_uri": "https://localhost:8080/"
        },
        "id": "yN1wOeVGTaft",
        "outputId": "1d0e9bfe-1bca-4718-a6e9-03954dd5dbc9"
      },
      "outputs": [
        {
          "name": "stdout",
          "output_type": "stream",
          "text": [
            "Name of the enviornment: PointMaze_Medium-v3\n",
            "Name of the enviornment: PointMaze_Medium-v3\n",
            "Dataset_name:pointmaze-medium-v2\n",
            "C:\\Users\\Beste Aydemir\\.minari\\datasets\\pointmaze-medium-v2\\data\n",
            "pointmaze-medium-v2\n",
            "dataset exists!\n",
            "[ datasets/buffer ] Finalized replay buffer | 4752 episodes\n",
            "[ datasets/buffer ] Fields:\n",
            "    achieved_goal: (4752, 10000, 2)\n",
            "    desired_goal: (4752, 10000, 2)\n",
            "    observations: (4752, 10000, 4)\n",
            "    observation: (4752, 10000, 4)\n",
            "    next_observations: (4752, 10000, 4)\n",
            "    actions: (4752, 10000, 2)\n",
            "    terminals: (4752, 10000, 1)\n",
            "    timeouts: (4752, 10000, 1)\n",
            "[ datasets/buffer ] Fields:\n",
            "    achieved_goal: (4752, 10000, 2)\n",
            "    desired_goal: (4752, 10000, 2)\n",
            "    observations: (4752, 10000, 4)\n",
            "    observation: (4752, 10000, 4)\n",
            "    next_observations: (4752, 10000, 4)\n",
            "    actions: (4752, 10000, 2)\n",
            "    terminals: (4752, 10000, 1)\n",
            "    timeouts: (4752, 10000, 1)\n",
            "    normed_observations: (4752, 10000, 4)\n",
            "    normed_actions: (4752, 10000, 2)\n",
            "Name of the enviornment: PointMaze_Medium-v3\n",
            "[[0 0]]\n",
            "[1.25446862 1.48442917]\n",
            "[ models/temporal ] Channel dimensions: [(6, 32), (32, 128), (128, 256)]\n",
            "[(6, 32), (32, 128), (128, 256)]\n"
          ]
        }
      ],
      "source": [
        "# Load objects\n",
        "dataset = dataset_config()\n",
        "renderer = render_config()\n",
        "model = model_config()\n",
        "diffuser = diffusion_config(model)\n",
        "trainer = trainer_config(diffuser, dataset, renderer,device)"
      ]
    },
    {
      "cell_type": "code",
      "execution_count": 5,
      "metadata": {},
      "outputs": [],
      "source": [
        "model_path = \"saved/10_ep/state_900000.pt\"\n",
        "trainer.load(directory=model_path, epoch=900000)"
      ]
    },
    {
      "cell_type": "code",
      "execution_count": 6,
      "metadata": {},
      "outputs": [
        {
          "name": "stdout",
          "output_type": "stream",
          "text": [
            "Goal used in conditioning:  tensor([[1.5196, 1.3752, 0.0000, 0.0000]], dtype=torch.float64)\n",
            "Starting used in conditioning:  tensor([[-1.5476,  0.4840,  0.0000,  0.0000]], dtype=torch.float64)\n",
            "(1, 257, 4)\n",
            "1\n",
            "The last observation [2.82420254 2.82519579 0.         0.        ]\n",
            "Goal in rendering: [1.51960128 1.3751901 ]\n",
            "Starting point in rendering: [-1.54760361  0.48404384]\n"
          ]
        },
        {
          "data": {
            "image/png": "[encoded data removed]",
            "text/plain": [
              "<Figure size 640x480 with 1 Axes>"
            ]
          },
          "metadata": {},
          "output_type": "display_data"
        },
        {
          "name": "stdout",
          "output_type": "stream",
          "text": [
            "Saved 1 samples to: saved/sample-900000-0.png\n",
            "Goal used in conditioning:  tensor([[1.5196, 1.3752, 0.0000, 0.0000]], dtype=torch.float64)\n",
            "Starting used in conditioning:  tensor([[-1.5476,  0.4840,  0.0000,  0.0000]], dtype=torch.float64)\n",
            "(1, 257, 4)\n",
            "1\n",
            "The last observation [2.82420254 2.82519579 0.         0.        ]\n",
            "Goal in rendering: [1.51960128 1.3751901 ]\n",
            "Starting point in rendering: [-1.54760361  0.48404384]\n"
          ]
        },
        {
          "data": {
            "image/png": "[encoded data removed]",
            "text/plain": [
              "<Figure size 640x480 with 1 Axes>"
            ]
          },
          "metadata": {},
          "output_type": "display_data"
        },
        {
          "name": "stdout",
          "output_type": "stream",
          "text": [
            "Saved 1 samples to: saved/sample-900000-1.png\n",
            "Goal used in conditioning:  tensor([[1.5196, 1.3752, 0.0000, 0.0000]], dtype=torch.float64)\n",
            "Starting used in conditioning:  tensor([[-1.5476,  0.4840,  0.0000,  0.0000]], dtype=torch.float64)\n",
            "(1, 257, 4)\n",
            "1\n",
            "The last observation [2.82420254 2.82519579 0.         0.        ]\n",
            "Goal in rendering: [1.51960128 1.3751901 ]\n",
            "Starting point in rendering: [-1.54760361  0.48404384]\n"
          ]
        },
        {
          "data": {
            "image/png": "[encoded data removed]",
            "text/plain": [
              "<Figure size 640x480 with 1 Axes>"
            ]
          },
          "metadata": {},
          "output_type": "display_data"
        },
        {
          "name": "stdout",
          "output_type": "stream",
          "text": [
            "Saved 1 samples to: saved/sample-900000-2.png\n",
            "Goal used in conditioning:  tensor([[1.5196, 1.3752, 0.0000, 0.0000]], dtype=torch.float64)\n",
            "Starting used in conditioning:  tensor([[-1.5476,  0.4840,  0.0000,  0.0000]], dtype=torch.float64)\n"
          ]
        }
      ],
      "source": [
        "env = gym.make(args.env_name)\n",
        "env.reset()\n",
        "trainer.render_samples_env(env, get_cond_from_env = True, batch_size = 5)"
      ]
    }
  ],
  "metadata": {
    "accelerator": "GPU",
    "colab": {
      "collapsed_sections": [
        "yP4EZWUtjLEW",
        "Xh7nFzc5jxhB"
      ],
      "gpuType": "T4",
      "provenance": [],
      "toc_visible": true
    },
    "kernelspec": {
      "display_name": "Python 3",
      "name": "python3"
    },
    "language_info": {
      "codemirror_mode": {
        "name": "ipython",
        "version": 3
      },
      "file_extension": ".py",
      "mimetype": "text/x-python",
      "name": "python",
      "nbconvert_exporter": "python",
      "pygments_lexer": "ipython3",
      "version": "3.10.2"
    }
  },
  "nbformat": 4,
  "nbformat_minor": 0
}
