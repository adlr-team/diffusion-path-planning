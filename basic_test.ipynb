{
 "cells": [
  {
   "cell_type": "code",
   "execution_count": 1,
   "metadata": {},
   "outputs": [],
   "source": [
    "config = \"config.maze2d\"\n",
    "dataset = \"maze2d-large-v1\""
   ]
  },
  {
   "cell_type": "code",
   "execution_count": 3,
   "metadata": {},
   "outputs": [],
   "source": [
    "class Args:\n",
    "    def __init__(self, loader, savepath, dataset, horizon, normalizer, preprocess_fns, use_padding, max_path_length, renderer):\n",
    "        self.loader = loader\n",
    "        self.savepath = savepath\n",
    "        self.dataset = dataset\n",
    "        self.horizon = horizon\n",
    "        self.normalizer = normalizer\n",
    "        self.preprocess_fns = preprocess_fns\n",
    "        self.use_padding = use_padding\n",
    "        self.max_path_length = max_path_length\n",
    "        self.renderer = renderer\n",
    "\n",
    "args = Args(\n",
    "    loader='datasets.sequence.GoalDataset',\n",
    "    savepath='saved/',\n",
    "    dataset='maze2d-large-v1',\n",
    "    horizon=256,\n",
    "    normalizer='LimitsNormalizer',\n",
    "    preprocess_fns=['maze2d_set_terminals'],\n",
    "    use_padding=False,\n",
    "    max_path_length=40000,\n",
    "    renderer = 'utils.rendering.Maze2dRenderer'\n",
    ")"
   ]
  },
  {
   "cell_type": "code",
   "execution_count": 4,
   "metadata": {},
   "outputs": [],
   "source": [
    "from diffuser.utils.config import Config"
   ]
  },
  {
   "cell_type": "code",
   "execution_count": 6,
   "metadata": {},
   "outputs": [
    {
     "name": "stdout",
     "output_type": "stream",
     "text": [
      "[ utils/config ] Imported diffuser.datasets.sequence:GoalDataset\n",
      "\n",
      "[utils/config ] Config: <class 'diffuser.datasets.sequence.GoalDataset'>\n",
      "    env: maze2d-large-v1\n",
      "    horizon: 256\n",
      "    max_path_length: 40000\n",
      "    normalizer: LimitsNormalizer\n",
      "    preprocess_fns: ['maze2d_set_terminals']\n",
      "    use_padding: False\n",
      "\n",
      "[ utils/config ] Saved config to: saved/dataset_config.pkl\n",
      "\n"
     ]
    }
   ],
   "source": [
    "# Taking them from the config file (config.maze2d)\n",
    "dataset_config = Config(\n",
    "    args.loader,\n",
    "    savepath=(args.savepath, 'dataset_config.pkl'),\n",
    "    env=args.dataset,\n",
    "    horizon=args.horizon,\n",
    "    normalizer=args.normalizer,\n",
    "    preprocess_fns=args.preprocess_fns,\n",
    "    use_padding=args.use_padding,\n",
    "    max_path_length=args.max_path_length,\n",
    ")"
   ]
  },
  {
   "cell_type": "code",
   "execution_count": 7,
   "metadata": {},
   "outputs": [
    {
     "ename": "NameError",
     "evalue": "name 'gym' is not defined",
     "output_type": "error",
     "traceback": [
      "\u001b[1;31m---------------------------------------------------------------------------\u001b[0m",
      "\u001b[1;31mNameError\u001b[0m                                 Traceback (most recent call last)",
      "Cell \u001b[1;32mIn[7], line 1\u001b[0m\n\u001b[1;32m----> 1\u001b[0m dataset \u001b[38;5;241m=\u001b[39m \u001b[43mdataset_config\u001b[49m\u001b[43m(\u001b[49m\u001b[43m)\u001b[49m\n",
      "File \u001b[1;32mc:\\Users\\Beste Aydemir\\diffuser-third-test\\diffuser\\utils\\config.py:66\u001b[0m, in \u001b[0;36mConfig.__call__\u001b[1;34m(self, *args, **kwargs)\u001b[0m\n\u001b[0;32m     65\u001b[0m \u001b[38;5;28;01mdef\u001b[39;00m \u001b[38;5;21m__call__\u001b[39m(\u001b[38;5;28mself\u001b[39m, \u001b[38;5;241m*\u001b[39margs, \u001b[38;5;241m*\u001b[39m\u001b[38;5;241m*\u001b[39mkwargs):\n\u001b[1;32m---> 66\u001b[0m     instance \u001b[38;5;241m=\u001b[39m \u001b[38;5;28;43mself\u001b[39;49m\u001b[38;5;241;43m.\u001b[39;49m\u001b[43m_class\u001b[49m\u001b[43m(\u001b[49m\u001b[38;5;241;43m*\u001b[39;49m\u001b[43margs\u001b[49m\u001b[43m,\u001b[49m\u001b[43m \u001b[49m\u001b[38;5;241;43m*\u001b[39;49m\u001b[38;5;241;43m*\u001b[39;49m\u001b[43mkwargs\u001b[49m\u001b[43m,\u001b[49m\u001b[43m \u001b[49m\u001b[38;5;241;43m*\u001b[39;49m\u001b[38;5;241;43m*\u001b[39;49m\u001b[38;5;28;43mself\u001b[39;49m\u001b[38;5;241;43m.\u001b[39;49m\u001b[43m_dict\u001b[49m\u001b[43m)\u001b[49m\n\u001b[0;32m     67\u001b[0m     \u001b[38;5;66;03m# if self._device:\u001b[39;00m\n\u001b[0;32m     68\u001b[0m     \u001b[38;5;66;03m#     instance = instance.to(self._device)\u001b[39;00m\n\u001b[0;32m     69\u001b[0m     \u001b[38;5;28;01mreturn\u001b[39;00m instance\n",
      "File \u001b[1;32mc:\\Users\\Beste Aydemir\\diffuser-third-test\\diffuser\\datasets\\sequence.py:21\u001b[0m, in \u001b[0;36mSequenceDataset.__init__\u001b[1;34m(self, env, horizon, normalizer, preprocess_fns, max_path_length, max_n_episodes, termination_penalty, use_padding, seed)\u001b[0m\n\u001b[0;32m     18\u001b[0m \u001b[38;5;28;01mdef\u001b[39;00m \u001b[38;5;21m__init__\u001b[39m(\u001b[38;5;28mself\u001b[39m, env\u001b[38;5;241m=\u001b[39m\u001b[38;5;124m'\u001b[39m\u001b[38;5;124mhopper-medium-replay\u001b[39m\u001b[38;5;124m'\u001b[39m, horizon\u001b[38;5;241m=\u001b[39m\u001b[38;5;241m64\u001b[39m,\n\u001b[0;32m     19\u001b[0m     normalizer\u001b[38;5;241m=\u001b[39m\u001b[38;5;124m'\u001b[39m\u001b[38;5;124mLimitsNormalizer\u001b[39m\u001b[38;5;124m'\u001b[39m, preprocess_fns\u001b[38;5;241m=\u001b[39m[], max_path_length\u001b[38;5;241m=\u001b[39m\u001b[38;5;241m1000\u001b[39m,\n\u001b[0;32m     20\u001b[0m     max_n_episodes\u001b[38;5;241m=\u001b[39m\u001b[38;5;241m10000\u001b[39m, termination_penalty\u001b[38;5;241m=\u001b[39m\u001b[38;5;241m0\u001b[39m, use_padding\u001b[38;5;241m=\u001b[39m\u001b[38;5;28;01mTrue\u001b[39;00m, seed\u001b[38;5;241m=\u001b[39m\u001b[38;5;28;01mNone\u001b[39;00m):\n\u001b[1;32m---> 21\u001b[0m     \u001b[38;5;28mself\u001b[39m\u001b[38;5;241m.\u001b[39mpreprocess_fn \u001b[38;5;241m=\u001b[39m \u001b[43mget_preprocess_fn\u001b[49m\u001b[43m(\u001b[49m\u001b[43mpreprocess_fns\u001b[49m\u001b[43m,\u001b[49m\u001b[43m \u001b[49m\u001b[43menv\u001b[49m\u001b[43m)\u001b[49m\n\u001b[0;32m     22\u001b[0m     \u001b[38;5;28mself\u001b[39m\u001b[38;5;241m.\u001b[39menv \u001b[38;5;241m=\u001b[39m env \u001b[38;5;241m=\u001b[39m load_environment(env)\n\u001b[0;32m     23\u001b[0m     \u001b[38;5;28mself\u001b[39m\u001b[38;5;241m.\u001b[39menv\u001b[38;5;241m.\u001b[39mseed(seed)\n",
      "File \u001b[1;32mc:\\Users\\Beste Aydemir\\diffuser-third-test\\diffuser\\datasets\\preprocessing.py:23\u001b[0m, in \u001b[0;36mget_preprocess_fn\u001b[1;34m(fn_names, env)\u001b[0m\n\u001b[0;32m     22\u001b[0m \u001b[38;5;28;01mdef\u001b[39;00m \u001b[38;5;21mget_preprocess_fn\u001b[39m(fn_names, env):\n\u001b[1;32m---> 23\u001b[0m     fns \u001b[38;5;241m=\u001b[39m [\u001b[38;5;28;43meval\u001b[39;49m\u001b[43m(\u001b[49m\u001b[43mname\u001b[49m\u001b[43m)\u001b[49m\u001b[43m(\u001b[49m\u001b[43menv\u001b[49m\u001b[43m)\u001b[49m \u001b[38;5;28;01mfor\u001b[39;00m name \u001b[38;5;129;01min\u001b[39;00m fn_names]\n\u001b[0;32m     24\u001b[0m     \u001b[38;5;28;01mreturn\u001b[39;00m compose(\u001b[38;5;241m*\u001b[39mfns)\n",
      "File \u001b[1;32mc:\\Users\\Beste Aydemir\\diffuser-third-test\\diffuser\\datasets\\preprocessing.py:60\u001b[0m, in \u001b[0;36mmaze2d_set_terminals\u001b[1;34m(env)\u001b[0m\n\u001b[0;32m     59\u001b[0m \u001b[38;5;28;01mdef\u001b[39;00m \u001b[38;5;21mmaze2d_set_terminals\u001b[39m(env):\n\u001b[1;32m---> 60\u001b[0m     env \u001b[38;5;241m=\u001b[39m \u001b[43mload_environment\u001b[49m\u001b[43m(\u001b[49m\u001b[43menv\u001b[49m\u001b[43m)\u001b[49m \u001b[38;5;28;01mif\u001b[39;00m \u001b[38;5;28mtype\u001b[39m(env) \u001b[38;5;241m==\u001b[39m \u001b[38;5;28mstr\u001b[39m \u001b[38;5;28;01melse\u001b[39;00m env\n\u001b[0;32m     61\u001b[0m     goal \u001b[38;5;241m=\u001b[39m np\u001b[38;5;241m.\u001b[39marray(env\u001b[38;5;241m.\u001b[39m_target)\n\u001b[0;32m     62\u001b[0m     threshold \u001b[38;5;241m=\u001b[39m \u001b[38;5;241m0.5\u001b[39m\n",
      "File \u001b[1;32mc:\\Users\\Beste Aydemir\\diffuser-third-test\\diffuser\\datasets\\d4rl.py:36\u001b[0m, in \u001b[0;36mload_environment\u001b[1;34m(name)\u001b[0m\n\u001b[0;32m     34\u001b[0m     \u001b[38;5;28;01mreturn\u001b[39;00m name\n\u001b[0;32m     35\u001b[0m \u001b[38;5;28;01mwith\u001b[39;00m suppress_output():\n\u001b[1;32m---> 36\u001b[0m     wrapped_env \u001b[38;5;241m=\u001b[39m \u001b[43mgym\u001b[49m\u001b[38;5;241m.\u001b[39mmake(name)\n\u001b[0;32m     37\u001b[0m env \u001b[38;5;241m=\u001b[39m wrapped_env\u001b[38;5;241m.\u001b[39munwrapped\n\u001b[0;32m     38\u001b[0m env\u001b[38;5;241m.\u001b[39mmax_episode_steps \u001b[38;5;241m=\u001b[39m wrapped_env\u001b[38;5;241m.\u001b[39m_max_episode_steps\n",
      "\u001b[1;31mNameError\u001b[0m: name 'gym' is not defined"
     ]
    }
   ],
   "source": [
    "dataset = dataset_config()"
   ]
  },
  {
   "cell_type": "code",
   "execution_count": 8,
   "metadata": {},
   "outputs": [
    {
     "ename": "ModuleNotFoundError",
     "evalue": "No module named 'gymnasium'",
     "output_type": "error",
     "traceback": [
      "\u001b[1;31m---------------------------------------------------------------------------\u001b[0m",
      "\u001b[1;31mModuleNotFoundError\u001b[0m                       Traceback (most recent call last)",
      "Cell \u001b[1;32mIn[8], line 1\u001b[0m\n\u001b[1;32m----> 1\u001b[0m \u001b[38;5;28;01mimport\u001b[39;00m \u001b[38;5;21;01mgymnasium\u001b[39;00m \u001b[38;5;28;01mas\u001b[39;00m \u001b[38;5;21;01mgym\u001b[39;00m\n",
      "\u001b[1;31mModuleNotFoundError\u001b[0m: No module named 'gymnasium'"
     ]
    }
   ],
   "source": [
    "import gymnasium as gym\n"
   ]
  },
  {
   "cell_type": "code",
   "execution_count": 2,
   "metadata": {},
   "outputs": [
    {
     "name": "stdout",
     "output_type": "stream",
     "text": [
      "ALLUSERSPROFILE: C:\\ProgramData\n",
      "APPDATA: C:\\Users\\Beste Aydemir\\AppData\\Roaming\n",
      "ASL.LOG: Destination=file\n",
      "CHOCOLATEYINSTALL: C:\\ProgramData\\chocolatey\n",
      "CHOCOLATEYLASTPATHUPDATE: 132662599615674197\n",
      "CHROME_CRASHPAD_PIPE_NAME: \\\\.\\pipe\\crashpad_12876_CGPZDKGLJXFDESMM\n",
      "COMMONPROGRAMFILES: C:\\Program Files\\Common Files\n",
      "COMMONPROGRAMFILES(X86): C:\\Program Files (x86)\\Common Files\n",
      "COMMONPROGRAMW6432: C:\\Program Files\\Common Files\n",
      "COMPUTERNAME: DESKTOP-P927SM4\n",
      "COMSPEC: C:\\WINDOWS\\system32\\cmd.exe\n",
      "CONDA_DEFAULT_ENV: diffuser_test_new\n",
      "CONDA_EXE: C:\\Users\\Beste Aydemir\\anaconda3\\Scripts\\conda.exe\n",
      "CONDA_PREFIX: C:\\Users\\Beste Aydemir\\anaconda3\\envs\\diffuser_test_new\n",
      "CONDA_PROMPT_MODIFIER: (diffuser_test_new) \n",
      "CONDA_PYTHON_EXE: C:\\Users\\Beste Aydemir\\anaconda3\\python.exe\n",
      "CONDA_ROOT: C:\\Users\\Beste Aydemir\\anaconda3\n",
      "CONDA_SHLVL: 1\n",
      "CONFIGSETROOT: C:\\WINDOWS\\ConfigSetRoot\n",
      "DRIVERDATA: C:\\Windows\\System32\\Drivers\\DriverData\n",
      "EFC_10456: 1\n",
      "ELECTRON_RUN_AS_NODE: 1\n",
      "FPS_BROWSER_APP_PROFILE_STRING: Internet Explorer\n",
      "FPS_BROWSER_USER_PROFILE_STRING: Default\n",
      "HOMEDRIVE: C:\n",
      "HOMEPATH: \\Users\\Beste Aydemir\n",
      "JPY_INTERRUPT_EVENT: 1796\n",
      "LOCALAPPDATA: C:\\Users\\Beste Aydemir\\AppData\\Local\n",
      "LOGONSERVER: \\\\DESKTOP-P927SM4\n",
      "MUJOCO_PATH: C:\\Users\\Beste Aydemir\\Downloads\\mujoco-3.1.5-windows-x86_64\n",
      "MUJOCO_PLUGIN_PATH: C:\\Users\\Beste Aydemir\\Downloads\\mujoco-3.1.5-windows-x86_64\\bin\\mujoco_plugin\n",
      "NUMBER_OF_PROCESSORS: 8\n",
      "ONEDRIVE: C:\\Users\\Beste Aydemir\\OneDrive - Bilkent University\n",
      "ONEDRIVECOMMERCIAL: C:\\Users\\Beste Aydemir\\OneDrive - Bilkent University\n",
      "ONEDRIVECONSUMER: C:\\Users\\Beste Aydemir\\OneDrive\n",
      "ORIGINAL_XDG_CURRENT_DESKTOP: undefined\n",
      "OS: Windows_NT\n",
      "PATH: c:\\Users\\Beste Aydemir\\anaconda3\\envs\\diffuser_test_new;C:\\Users\\Beste Aydemir\\anaconda3\\envs\\diffuser_test_new;C:\\Users\\Beste Aydemir\\anaconda3\\envs\\diffuser_test_new\\Library\\mingw-w64\\bin;C:\\Users\\Beste Aydemir\\anaconda3\\envs\\diffuser_test_new\\Library\\usr\\bin;C:\\Users\\Beste Aydemir\\anaconda3\\envs\\diffuser_test_new\\Library\\bin;C:\\Users\\Beste Aydemir\\anaconda3\\envs\\diffuser_test_new\\Scripts;C:\\Users\\Beste Aydemir\\anaconda3\\envs\\diffuser_test_new\\bin;C:\\Users\\Beste Aydemir\\anaconda3\\condabin;C:\\Python311\\Scripts;C:\\Python311;C:\\Program Files\\Common Files\\Oracle\\Java\\javapath;C:\\WINDOWS\\system32;C:\\WINDOWS;C:\\WINDOWS\\System32\\Wbem;C:\\WINDOWS\\System32\\WindowsPowerShell\\v1.0;C:\\WINDOWS\\System32\\OpenSSH;C:\\Program Files\\Intel\\WiFi\\bin;C:\\Program Files\\Common Files\\Intel\\WirelessCommon;C:\\Program Files\\PuTTY;C:\\Program Files\\MATLAB\\R2023b\\bin;C:\\Program Files\\MATLAB\\R2020b\\runtime\\win64;C:\\Program Files\\MATLAB\\R2020b\\bin;C:\\Program Files\\Git\\cmd;C:\\Program Files\\Microsoft Windows Performance Toolkit;C:\\Program Files\\Wireshark;C:\\ProgramData\\chocolatey\\bin;C:\\Users\\Beste Aydemir\\AppData\\Local\\Programs\\pympress;C:\\Program Files\\dotnet;C:\\Program Files\\nodejs;C:\\Program Files\\Docker\\Docker\\resources\\bin;C:\\Users\\Beste Aydemir\\anaconda3\\Scripts;C:\\Users\\Beste Aydemir\\AppData\\Local\\Microsoft\\WindowsApps;C:\\Program Files (x86)\\GitHub CLI;C:\\Users\\Beste Aydemir\\AppData\\Local\\GitHubDesktop\\bin;C:\\Users\\Beste Aydemir\\AppData\\Roaming\\npm;C:\\Program Files\\JetBrains\\PyCharm 2022.2.4\\bin;.;.;C:\\Users\\Beste Aydemir\\AppData\\Local\\Programs\\Microsoft VS Code\\bin\n",
      "PATHEXT: .COM;.EXE;.BAT;.CMD;.VBS;.VBE;.JS;.JSE;.WSF;.WSH;.MSC;.PY;.PYW\n",
      "PROCESSOR_ARCHITECTURE: AMD64\n",
      "PROCESSOR_IDENTIFIER: Intel64 Family 6 Model 142 Stepping 10, GenuineIntel\n",
      "PROCESSOR_LEVEL: 6\n",
      "PROCESSOR_REVISION: 8e0a\n",
      "PROGRAMDATA: C:\\ProgramData\n",
      "PROGRAMFILES: C:\\Program Files\n",
      "PROGRAMFILES(X86): C:\\Program Files (x86)\n",
      "PROGRAMW6432: C:\\Program Files\n",
      "PROMPT: (diffuser_test_new) $P$G\n",
      "PSMODULEPATH: C:\\Program Files\\WindowsPowerShell\\Modules;C:\\WINDOWS\\system32\\WindowsPowerShell\\v1.0\\Modules\n",
      "PUBLIC: C:\\Users\\Public\n",
      "PYCHARM: C:\\Program Files\\JetBrains\\PyCharm 2022.2.4\\bin;\n",
      "PYDEVD_IPYTHON_COMPATIBLE_DEBUGGING: 1\n",
      "PYTHONIOENCODING: utf-8\n",
      "PYTHONUNBUFFERED: 1\n",
      "PYTHONUTF8: 1\n",
      "PYTHON_FROZEN_MODULES: on\n",
      "SESSIONNAME: Console\n",
      "SSL_CERT_FILE: C:\\Users\\Beste Aydemir\\anaconda3\\envs\\diffuser_test_new\\Library\\ssl\\cacert.pem\n",
      "SYSTEMDRIVE: C:\n",
      "SYSTEMROOT: C:\\WINDOWS\n",
      "TEMP: C:\\Users\\BESTEA~1\\AppData\\Local\\Temp\n",
      "TMP: C:\\Users\\BESTEA~1\\AppData\\Local\\Temp\n",
      "USERDOMAIN: DESKTOP-P927SM4\n",
      "USERDOMAIN_ROAMINGPROFILE: DESKTOP-P927SM4\n",
      "USERNAME: Beste Aydemir\n",
      "USERPROFILE: C:\\Users\\Beste Aydemir\n",
      "VS140COMNTOOLS: C:\\Program Files (x86)\\Microsoft Visual Studio 14.0\\Common7\\Tools\\\n",
      "VSCODE_AMD_ENTRYPOINT: vs/workbench/api/node/extensionHostProcess\n",
      "VSCODE_CODE_CACHE_PATH: C:\\Users\\Beste Aydemir\\AppData\\Roaming\\Code\\CachedData\\dc96b837cf6bb4af9cd736aa3af08cf8279f7685\n",
      "VSCODE_CRASH_REPORTER_PROCESS_TYPE: extensionHost\n",
      "VSCODE_CWD: C:\\Users\\Beste Aydemir\\AppData\\Local\\Programs\\Microsoft VS Code\n",
      "VSCODE_HANDLES_UNCAUGHT_ERRORS: true\n",
      "VSCODE_IPC_HOOK: \\\\.\\pipe\\82a299c9-1.89.1-main-sock\n",
      "VSCODE_L10N_BUNDLE_LOCATION: \n",
      "VSCODE_NLS_CONFIG: {\"locale\":\"en-us\",\"osLocale\":\"en-us\",\"availableLanguages\":{},\"_languagePackSupport\":true}\n",
      "VSCODE_PID: 12876\n",
      "WINDIR: C:\\WINDOWS\n",
      "_CONDA_OLD_CHCP: 437\n",
      "__CONDA_OPENSLL_CERT_FILE_SET: \"1\"\n",
      "PYDEVD_USE_FRAME_EVAL: NO\n",
      "TERM: xterm-color\n",
      "CLICOLOR: 1\n",
      "FORCE_COLOR: 1\n",
      "CLICOLOR_FORCE: 1\n",
      "PAGER: cat\n",
      "GIT_PAGER: cat\n",
      "MPLBACKEND: module://matplotlib_inline.backend_inline\n"
     ]
    }
   ],
   "source": [
    "import os\n",
    "\n",
    "# Get the list of all environment variables\n",
    "env_vars = os.environ\n",
    "\n",
    "# Print the environment variables\n",
    "for key, value in env_vars.items():\n",
    "    print(f'{key}: {value}')"
   ]
  },
  {
   "cell_type": "code",
   "execution_count": 1,
   "metadata": {},
   "outputs": [],
   "source": [
    "import mujoco"
   ]
  },
  {
   "cell_type": "code",
   "execution_count": 23,
   "metadata": {},
   "outputs": [
    {
     "ename": "ModuleNotFoundError",
     "evalue": "No module named 'imageio'",
     "output_type": "error",
     "traceback": [
      "\u001b[1;31m---------------------------------------------------------------------------\u001b[0m",
      "\u001b[1;31mModuleNotFoundError\u001b[0m                       Traceback (most recent call last)",
      "Cell \u001b[1;32mIn[23], line 1\u001b[0m\n\u001b[1;32m----> 1\u001b[0m render_config \u001b[38;5;241m=\u001b[39m \u001b[43mConfig\u001b[49m\u001b[43m(\u001b[49m\n\u001b[0;32m      2\u001b[0m \u001b[43m    \u001b[49m\u001b[43margs\u001b[49m\u001b[38;5;241;43m.\u001b[39;49m\u001b[43mrenderer\u001b[49m\u001b[43m,\u001b[49m\n\u001b[0;32m      3\u001b[0m \u001b[43m    \u001b[49m\u001b[43msavepath\u001b[49m\u001b[38;5;241;43m=\u001b[39;49m\u001b[43m(\u001b[49m\u001b[43margs\u001b[49m\u001b[38;5;241;43m.\u001b[39;49m\u001b[43msavepath\u001b[49m\u001b[43m,\u001b[49m\u001b[43m \u001b[49m\u001b[38;5;124;43m'\u001b[39;49m\u001b[38;5;124;43mrender_config.pkl\u001b[39;49m\u001b[38;5;124;43m'\u001b[39;49m\u001b[43m)\u001b[49m\u001b[43m,\u001b[49m\n\u001b[0;32m      4\u001b[0m \u001b[43m    \u001b[49m\u001b[43menv\u001b[49m\u001b[38;5;241;43m=\u001b[39;49m\u001b[43margs\u001b[49m\u001b[38;5;241;43m.\u001b[39;49m\u001b[43mdataset\u001b[49m\u001b[43m,\u001b[49m\n\u001b[0;32m      5\u001b[0m \u001b[43m)\u001b[49m\n",
      "File \u001b[1;32mc:\\Users\\Beste Aydemir\\diffuser-third-test\\diffuser\\utils\\config.py:25\u001b[0m, in \u001b[0;36mConfig.__init__\u001b[1;34m(self, _class, verbose, savepath, device, **kwargs)\u001b[0m\n\u001b[0;32m     23\u001b[0m \u001b[38;5;28;01mdef\u001b[39;00m \u001b[38;5;21m__init__\u001b[39m(\u001b[38;5;28mself\u001b[39m, _class, verbose\u001b[38;5;241m=\u001b[39m\u001b[38;5;28;01mTrue\u001b[39;00m, savepath\u001b[38;5;241m=\u001b[39m\u001b[38;5;28;01mNone\u001b[39;00m, device\u001b[38;5;241m=\u001b[39m\u001b[38;5;28;01mNone\u001b[39;00m, \u001b[38;5;241m*\u001b[39m\u001b[38;5;241m*\u001b[39mkwargs):\n\u001b[0;32m     24\u001b[0m     device \u001b[38;5;241m=\u001b[39m \u001b[38;5;124m\"\u001b[39m\u001b[38;5;124mcpu\u001b[39m\u001b[38;5;124m\"\u001b[39m\n\u001b[1;32m---> 25\u001b[0m     \u001b[38;5;28mself\u001b[39m\u001b[38;5;241m.\u001b[39m_class \u001b[38;5;241m=\u001b[39m \u001b[43mimport_class\u001b[49m\u001b[43m(\u001b[49m\u001b[43m_class\u001b[49m\u001b[43m)\u001b[49m\n\u001b[0;32m     26\u001b[0m     \u001b[38;5;28mself\u001b[39m\u001b[38;5;241m.\u001b[39m_device \u001b[38;5;241m=\u001b[39m device\n\u001b[0;32m     27\u001b[0m     \u001b[38;5;28mself\u001b[39m\u001b[38;5;241m.\u001b[39m_dict \u001b[38;5;241m=\u001b[39m {}\n",
      "File \u001b[1;32mc:\\Users\\Beste Aydemir\\diffuser-third-test\\diffuser\\utils\\config.py:15\u001b[0m, in \u001b[0;36mimport_class\u001b[1;34m(_class)\u001b[0m\n\u001b[0;32m     13\u001b[0m class_name \u001b[38;5;241m=\u001b[39m _class\u001b[38;5;241m.\u001b[39msplit(\u001b[38;5;124m'\u001b[39m\u001b[38;5;124m.\u001b[39m\u001b[38;5;124m'\u001b[39m)[\u001b[38;5;241m-\u001b[39m\u001b[38;5;241m1\u001b[39m]\n\u001b[0;32m     14\u001b[0m \u001b[38;5;66;03m## eg, 'diffusion.utils'\u001b[39;00m\n\u001b[1;32m---> 15\u001b[0m module \u001b[38;5;241m=\u001b[39m \u001b[43mimportlib\u001b[49m\u001b[38;5;241;43m.\u001b[39;49m\u001b[43mimport_module\u001b[49m\u001b[43m(\u001b[49m\u001b[38;5;124;43mf\u001b[39;49m\u001b[38;5;124;43m'\u001b[39;49m\u001b[38;5;132;43;01m{\u001b[39;49;00m\u001b[43mrepo_name\u001b[49m\u001b[38;5;132;43;01m}\u001b[39;49;00m\u001b[38;5;124;43m.\u001b[39;49m\u001b[38;5;132;43;01m{\u001b[39;49;00m\u001b[43mmodule_name\u001b[49m\u001b[38;5;132;43;01m}\u001b[39;49;00m\u001b[38;5;124;43m'\u001b[39;49m\u001b[43m)\u001b[49m\n\u001b[0;32m     16\u001b[0m \u001b[38;5;66;03m## eg, diffusion.utils.Renderer\u001b[39;00m\n\u001b[0;32m     17\u001b[0m _class \u001b[38;5;241m=\u001b[39m \u001b[38;5;28mgetattr\u001b[39m(module, class_name)\n",
      "File \u001b[1;32mc:\\Users\\Beste Aydemir\\anaconda3\\envs\\diffuser_test_new\\Lib\\importlib\\__init__.py:90\u001b[0m, in \u001b[0;36mimport_module\u001b[1;34m(name, package)\u001b[0m\n\u001b[0;32m     88\u001b[0m             \u001b[38;5;28;01mbreak\u001b[39;00m\n\u001b[0;32m     89\u001b[0m         level \u001b[38;5;241m+\u001b[39m\u001b[38;5;241m=\u001b[39m \u001b[38;5;241m1\u001b[39m\n\u001b[1;32m---> 90\u001b[0m \u001b[38;5;28;01mreturn\u001b[39;00m \u001b[43m_bootstrap\u001b[49m\u001b[38;5;241;43m.\u001b[39;49m\u001b[43m_gcd_import\u001b[49m\u001b[43m(\u001b[49m\u001b[43mname\u001b[49m\u001b[43m[\u001b[49m\u001b[43mlevel\u001b[49m\u001b[43m:\u001b[49m\u001b[43m]\u001b[49m\u001b[43m,\u001b[49m\u001b[43m \u001b[49m\u001b[43mpackage\u001b[49m\u001b[43m,\u001b[49m\u001b[43m \u001b[49m\u001b[43mlevel\u001b[49m\u001b[43m)\u001b[49m\n",
      "File \u001b[1;32m<frozen importlib._bootstrap>:1387\u001b[0m, in \u001b[0;36m_gcd_import\u001b[1;34m(name, package, level)\u001b[0m\n",
      "File \u001b[1;32m<frozen importlib._bootstrap>:1360\u001b[0m, in \u001b[0;36m_find_and_load\u001b[1;34m(name, import_)\u001b[0m\n",
      "File \u001b[1;32m<frozen importlib._bootstrap>:1331\u001b[0m, in \u001b[0;36m_find_and_load_unlocked\u001b[1;34m(name, import_)\u001b[0m\n",
      "File \u001b[1;32m<frozen importlib._bootstrap>:935\u001b[0m, in \u001b[0;36m_load_unlocked\u001b[1;34m(spec)\u001b[0m\n",
      "File \u001b[1;32m<frozen importlib._bootstrap_external>:995\u001b[0m, in \u001b[0;36mexec_module\u001b[1;34m(self, module)\u001b[0m\n",
      "File \u001b[1;32m<frozen importlib._bootstrap>:488\u001b[0m, in \u001b[0;36m_call_with_frames_removed\u001b[1;34m(f, *args, **kwds)\u001b[0m\n",
      "File \u001b[1;32mc:\\Users\\Beste Aydemir\\diffuser-third-test\\diffuser\\utils\\rendering.py:4\u001b[0m\n\u001b[0;32m      2\u001b[0m \u001b[38;5;28;01mimport\u001b[39;00m \u001b[38;5;21;01mnumpy\u001b[39;00m \u001b[38;5;28;01mas\u001b[39;00m \u001b[38;5;21;01mnp\u001b[39;00m\n\u001b[0;32m      3\u001b[0m \u001b[38;5;28;01mimport\u001b[39;00m \u001b[38;5;21;01meinops\u001b[39;00m\n\u001b[1;32m----> 4\u001b[0m \u001b[38;5;28;01mimport\u001b[39;00m \u001b[38;5;21;01mimageio\u001b[39;00m\n\u001b[0;32m      5\u001b[0m \u001b[38;5;28;01mimport\u001b[39;00m \u001b[38;5;21;01mmatplotlib\u001b[39;00m\u001b[38;5;21;01m.\u001b[39;00m\u001b[38;5;21;01mpyplot\u001b[39;00m \u001b[38;5;28;01mas\u001b[39;00m \u001b[38;5;21;01mplt\u001b[39;00m\n\u001b[0;32m      6\u001b[0m \u001b[38;5;28;01mfrom\u001b[39;00m \u001b[38;5;21;01mmatplotlib\u001b[39;00m\u001b[38;5;21;01m.\u001b[39;00m\u001b[38;5;21;01mcolors\u001b[39;00m \u001b[38;5;28;01mimport\u001b[39;00m ListedColormap\n",
      "\u001b[1;31mModuleNotFoundError\u001b[0m: No module named 'imageio'"
     ]
    }
   ],
   "source": [
    "render_config = Config(\n",
    "    args.renderer,\n",
    "    savepath=(args.savepath, 'render_config.pkl'),\n",
    "    env=args.dataset,\n",
    ")"
   ]
  },
  {
   "cell_type": "code",
   "execution_count": null,
   "metadata": {},
   "outputs": [],
   "source": [
    "renderer = render_config()"
   ]
  },
  {
   "cell_type": "code",
   "execution_count": null,
   "metadata": {},
   "outputs": [],
   "source": [
    "observation_dim = dataset.observation_dim\n",
    "action_dim = dataset.action_dim\n",
    "\n",
    "\n",
    "#-----------------------------------------------------------------------------#\n",
    "#------------------------------ model & trainer ------------------------------#\n",
    "#-----------------------------------------------------------------------------#\n",
    "\n",
    "model_config = Config(\n",
    "    args.model,\n",
    "    savepath=(args.savepath, 'model_config.pkl'),\n",
    "    horizon=args.horizon,\n",
    "    transition_dim=observation_dim + action_dim,\n",
    "    cond_dim=observation_dim,\n",
    "    dim_mults=args.dim_mults,\n",
    "    device=args.device,\n",
    ")"
   ]
  },
  {
   "cell_type": "code",
   "execution_count": null,
   "metadata": {},
   "outputs": [],
   "source": [
    "diffusion_config = Config(\n",
    "    args.diffusion,\n",
    "    savepath=(args.savepath, 'diffusion_config.pkl'),\n",
    "    horizon=args.horizon,\n",
    "    observation_dim=observation_dim,\n",
    "    action_dim=action_dim,\n",
    "    n_timesteps=args.n_diffusion_steps,\n",
    "    loss_type=args.loss_type,\n",
    "    clip_denoised=args.clip_denoised,\n",
    "    predict_epsilon=args.predict_epsilon,\n",
    "    ## loss weighting\n",
    "    action_weight=args.action_weight,\n",
    "    loss_weights=args.loss_weights,\n",
    "    loss_discount=args.loss_discount,\n",
    "    device=args.device,\n",
    ")"
   ]
  },
  {
   "cell_type": "code",
   "execution_count": null,
   "metadata": {},
   "outputs": [],
   "source": [
    "trainer_config = Config(\n",
    "    utils.Trainer,\n",
    "    savepath=(args.savepath, 'trainer_config.pkl'),\n",
    "    train_batch_size=args.batch_size,\n",
    "    train_lr=args.learning_rate,\n",
    "    gradient_accumulate_every=args.gradient_accumulate_every,\n",
    "    ema_decay=args.ema_decay,\n",
    "    sample_freq=args.sample_freq,\n",
    "    save_freq=args.save_freq,\n",
    "    label_freq=int(args.n_train_steps // args.n_saves),\n",
    "    save_parallel=args.save_parallel,\n",
    "    results_folder=args.savepath,\n",
    "    bucket=args.bucket,\n",
    "    n_reference=args.n_reference,\n",
    "    n_samples=args.n_samples,\n",
    ")"
   ]
  },
  {
   "cell_type": "code",
   "execution_count": null,
   "metadata": {},
   "outputs": [],
   "source": [
    "model = model_config()\n",
    "\n",
    "diffusion = diffusion_config(model)\n",
    "\n",
    "trainer = trainer_config(diffusion, dataset, renderer)"
   ]
  },
  {
   "cell_type": "code",
   "execution_count": null,
   "metadata": {},
   "outputs": [],
   "source": [
    "utils.report_parameters(model)\n",
    "\n",
    "print('Testing forward...', end=' ', flush=True)\n",
    "batch = utils.batchify(dataset[0])\n",
    "loss, _ = diffusion.loss(*batch)\n",
    "loss.backward()\n",
    "print('✓')"
   ]
  }
 ],
 "metadata": {
  "kernelspec": {
   "display_name": "diffuser_test_new",
   "language": "python",
   "name": "python3"
  },
  "language_info": {
   "codemirror_mode": {
    "name": "ipython",
    "version": 3
   },
   "file_extension": ".py",
   "mimetype": "text/x-python",
   "name": "python",
   "nbconvert_exporter": "python",
   "pygments_lexer": "ipython3",
   "version": "3.12.3"
  }
 },
 "nbformat": 4,
 "nbformat_minor": 2
}
